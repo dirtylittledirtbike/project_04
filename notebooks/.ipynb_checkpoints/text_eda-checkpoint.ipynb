{
 "cells": [
  {
   "cell_type": "code",
   "execution_count": 1,
   "metadata": {},
   "outputs": [],
   "source": [
    "import pandas as pd\n",
    "import numpy as np\n",
    "import datetime \n",
    "import re\n",
    "from urlextract import URLExtract\n",
    "import spacy\n",
    "import time\n",
    "import pickle\n",
    "import matplotlib.pyplot as plt\n"
   ]
  },
  {
   "cell_type": "code",
   "execution_count": 2,
   "metadata": {},
   "outputs": [],
   "source": [
    "from sklearn.feature_extraction.text import CountVectorizer \n",
    "from sklearn.decomposition import TruncatedSVD\n",
    "from sklearn.decomposition import NMF\n",
    "from sklearn.decomposition import LatentDirichletAllocation\n",
    "from sklearn.metrics.pairwise import cosine_similarity\n",
    "import plotly.express as px"
   ]
  },
  {
   "cell_type": "code",
   "execution_count": 3,
   "metadata": {},
   "outputs": [],
   "source": [
    "extractor = URLExtract()\n",
    "def replace_urls(x):\n",
    "    urls = extractor.find_urls(x)\n",
    "    if urls:\n",
    "        x_new = replace_urls(x.replace(urls[0],''))\n",
    "        return x_new\n",
    "    else:\n",
    "        return x"
   ]
  },
  {
   "cell_type": "code",
   "execution_count": 4,
   "metadata": {
    "scrolled": true
   },
   "outputs": [],
   "source": [
    "mh_df2 = pd.read_csv('/Users/collinswestnedge/programming/Metis_Online/project_04/data/mh_rand_large2.csv', low_memory=False)\n",
    "mh_df =  pd.read_csv('/Users/collinswestnedge/programming/Metis_Online/project_04/data/mh_rand_large.csv', low_memory=False)\n",
    "\n",
    "depression2 = pd.read_csv('/Users/collinswestnedge/programming/Metis_Online/project_04/data/depression_rand_large2.csv', low_memory=False)\n",
    "depression = pd.read_csv('/Users/collinswestnedge/programming/Metis_Online/project_04/data/depression_rand_large.csv', low_memory=False)\n",
    "\n",
    "mh_df2.drop(columns=['Unnamed: 0'], inplace=True)\n",
    "mh_df.drop(columns=['Unnamed: 0'], inplace=True)\n",
    "\n",
    "depression2.drop(columns=['Unnamed: 0'], inplace=True)\n",
    "depression.drop(columns=['Unnamed: 0'], inplace=True)\n",
    "\n",
    "mh_df2['date'] = mh_df2.created_utc.apply(lambda x: pd.to_datetime(time.ctime(x)))\n",
    "mh_df['date'] = mh_df.created_utc.apply(lambda x: pd.to_datetime(time.ctime(x)))\n",
    "\n",
    "depression2['date'] = depression2.created_utc.apply(lambda x: pd.to_datetime(time.ctime(x)))\n",
    "depression['date'] = depression.created_utc.apply(lambda x: pd.to_datetime(time.ctime(x)))\n",
    "\n",
    "mh_df2.drop_duplicates(subset=['id'], inplace=True)\n",
    "mh_df.drop_duplicates(subset=['id'], inplace=True)\n",
    "\n",
    "depression2.drop_duplicates(subset=['id'], inplace=True)\n",
    "depression.drop_duplicates(subset=['id'], inplace=True)\n",
    "\n"
   ]
  },
  {
   "cell_type": "code",
   "execution_count": 5,
   "metadata": {},
   "outputs": [],
   "source": [
    "df_full = pd.concat([mh_df, mh_df2, depression, depression2], ignore_index=True)\n",
    "# df_full.columns.to_list()"
   ]
  },
  {
   "cell_type": "code",
   "execution_count": 6,
   "metadata": {},
   "outputs": [],
   "source": [
    "# df_full[df_full.date < '2020-10-20']\n",
    "# df_full[df_full.date < '2020-03']"
   ]
  },
  {
   "cell_type": "code",
   "execution_count": 7,
   "metadata": {},
   "outputs": [
    {
     "data": {
      "text/plain": [
       "<AxesSubplot:xlabel='date,date'>"
      ]
     },
     "execution_count": 7,
     "metadata": {},
     "output_type": "execute_result"
    },
    {
     "data": {
      "image/png": "[encoded data removed]",
      "text/plain": [
       "<Figure size 432x288 with 1 Axes>"
      ]
     },
     "metadata": {
      "needs_background": "light"
     },
     "output_type": "display_data"
    }
   ],
   "source": [
    "df_full.groupby([df_full[\"date\"].dt.year, df_full[\"date\"].dt.month]).size().plot(kind=\"bar\")"
   ]
  },
  {
   "cell_type": "code",
   "execution_count": 8,
   "metadata": {
    "scrolled": true
   },
   "outputs": [
    {
     "data": {
      "text/html": [
       "<div>\n",
       "<style scoped>\n",
       "    .dataframe tbody tr th:only-of-type {\n",
       "        vertical-align: middle;\n",
       "    }\n",
       "\n",
       "    .dataframe tbody tr th {\n",
       "        vertical-align: top;\n",
       "    }\n",
       "\n",
       "    .dataframe thead th {\n",
       "        text-align: right;\n",
       "    }\n",
       "</style>\n",
       "<table border=\"1\" class=\"dataframe\">\n",
       "  <thead>\n",
       "    <tr style=\"text-align: right;\">\n",
       "      <th></th>\n",
       "      <th>date</th>\n",
       "      <th>id</th>\n",
       "      <th>author</th>\n",
       "      <th>subreddit</th>\n",
       "      <th>title</th>\n",
       "      <th>selftext</th>\n",
       "    </tr>\n",
       "  </thead>\n",
       "  <tbody>\n",
       "    <tr>\n",
       "      <th>0</th>\n",
       "      <td>2019-10-11 16:39:05</td>\n",
       "      <td>dglq7k</td>\n",
       "      <td>liznormal23</td>\n",
       "      <td>mentalhealth</td>\n",
       "      <td>Mental Health Gray Area. Please help.</td>\n",
       "      <td>*TRIGGER WARNING: EATING DISORDER AND SUBSTANC...</td>\n",
       "    </tr>\n",
       "    <tr>\n",
       "      <th>1</th>\n",
       "      <td>2019-10-11 16:34:59</td>\n",
       "      <td>dgloc1</td>\n",
       "      <td>tacobean87</td>\n",
       "      <td>mentalhealth</td>\n",
       "      <td>what’s wrong with me ?</td>\n",
       "      <td>every single time i read something my mind blu...</td>\n",
       "    </tr>\n",
       "    <tr>\n",
       "      <th>2</th>\n",
       "      <td>2019-10-11 16:22:09</td>\n",
       "      <td>dglieu</td>\n",
       "      <td>AquilaVI</td>\n",
       "      <td>mentalhealth</td>\n",
       "      <td>I'm trying to deal with a deadly car crash. (A...</td>\n",
       "      <td>Hello, people! A little backstory. I'll try to...</td>\n",
       "    </tr>\n",
       "    <tr>\n",
       "      <th>3</th>\n",
       "      <td>2019-10-11 16:18:16</td>\n",
       "      <td>dglgl6</td>\n",
       "      <td>Mrcoolbaby</td>\n",
       "      <td>mentalhealth</td>\n",
       "      <td>Overwhelmed</td>\n",
       "      <td>I feel like my life is on loop. All the same k...</td>\n",
       "    </tr>\n",
       "    <tr>\n",
       "      <th>4</th>\n",
       "      <td>2019-10-11 16:15:26</td>\n",
       "      <td>dglfcf</td>\n",
       "      <td>TheA55M4N</td>\n",
       "      <td>mentalhealth</td>\n",
       "      <td>Anxiety and obsessions</td>\n",
       "      <td>I wrote my story here</td>\n",
       "    </tr>\n",
       "    <tr>\n",
       "      <th>...</th>\n",
       "      <td>...</td>\n",
       "      <td>...</td>\n",
       "      <td>...</td>\n",
       "      <td>...</td>\n",
       "      <td>...</td>\n",
       "      <td>...</td>\n",
       "    </tr>\n",
       "    <tr>\n",
       "      <th>35738</th>\n",
       "      <td>2019-09-13 02:52:49</td>\n",
       "      <td>d3lxwm</td>\n",
       "      <td>tjmac411</td>\n",
       "      <td>depression</td>\n",
       "      <td>Need guidance</td>\n",
       "      <td>I started dating this girl about a month ago a...</td>\n",
       "    </tr>\n",
       "    <tr>\n",
       "      <th>35739</th>\n",
       "      <td>2019-09-13 02:47:28</td>\n",
       "      <td>d3lw9v</td>\n",
       "      <td>entry-level-job</td>\n",
       "      <td>depression</td>\n",
       "      <td>All companies I interview for that then reject...</td>\n",
       "      <td>It's frustrating that I want to work but I'm n...</td>\n",
       "    </tr>\n",
       "    <tr>\n",
       "      <th>35740</th>\n",
       "      <td>2019-09-13 02:41:17</td>\n",
       "      <td>d3lujy</td>\n",
       "      <td>lonelysadboii</td>\n",
       "      <td>depression</td>\n",
       "      <td>What’s the point of my existence?</td>\n",
       "      <td>I’m a disappointment to my parents and family,...</td>\n",
       "    </tr>\n",
       "    <tr>\n",
       "      <th>35741</th>\n",
       "      <td>2019-09-13 02:39:59</td>\n",
       "      <td>d3lu5k</td>\n",
       "      <td>Soulscreame</td>\n",
       "      <td>depression</td>\n",
       "      <td>All that my depression is. A theory of cowardi...</td>\n",
       "      <td>Warning! This is kinda long! If theres anythin...</td>\n",
       "    </tr>\n",
       "    <tr>\n",
       "      <th>35742</th>\n",
       "      <td>2019-09-13 02:37:30</td>\n",
       "      <td>d3ltf8</td>\n",
       "      <td>Nivonivonivonivoniv</td>\n",
       "      <td>depression</td>\n",
       "      <td>It really fucking pisses me off that my mom an...</td>\n",
       "      <td>18 year old year. In my senior year of high sc...</td>\n",
       "    </tr>\n",
       "  </tbody>\n",
       "</table>\n",
       "<p>32789 rows × 6 columns</p>\n",
       "</div>"
      ],
      "text/plain": [
       "                     date      id               author     subreddit  \\\n",
       "0     2019-10-11 16:39:05  dglq7k          liznormal23  mentalhealth   \n",
       "1     2019-10-11 16:34:59  dgloc1           tacobean87  mentalhealth   \n",
       "2     2019-10-11 16:22:09  dglieu             AquilaVI  mentalhealth   \n",
       "3     2019-10-11 16:18:16  dglgl6           Mrcoolbaby  mentalhealth   \n",
       "4     2019-10-11 16:15:26  dglfcf            TheA55M4N  mentalhealth   \n",
       "...                   ...     ...                  ...           ...   \n",
       "35738 2019-09-13 02:52:49  d3lxwm             tjmac411    depression   \n",
       "35739 2019-09-13 02:47:28  d3lw9v      entry-level-job    depression   \n",
       "35740 2019-09-13 02:41:17  d3lujy        lonelysadboii    depression   \n",
       "35741 2019-09-13 02:39:59  d3lu5k          Soulscreame    depression   \n",
       "35742 2019-09-13 02:37:30  d3ltf8  Nivonivonivonivoniv    depression   \n",
       "\n",
       "                                                   title  \\\n",
       "0                  Mental Health Gray Area. Please help.   \n",
       "1                                 what’s wrong with me ?   \n",
       "2      I'm trying to deal with a deadly car crash. (A...   \n",
       "3                                            Overwhelmed   \n",
       "4                                 Anxiety and obsessions   \n",
       "...                                                  ...   \n",
       "35738                                      Need guidance   \n",
       "35739  All companies I interview for that then reject...   \n",
       "35740                  What’s the point of my existence?   \n",
       "35741  All that my depression is. A theory of cowardi...   \n",
       "35742  It really fucking pisses me off that my mom an...   \n",
       "\n",
       "                                                selftext  \n",
       "0      *TRIGGER WARNING: EATING DISORDER AND SUBSTANC...  \n",
       "1      every single time i read something my mind blu...  \n",
       "2      Hello, people! A little backstory. I'll try to...  \n",
       "3      I feel like my life is on loop. All the same k...  \n",
       "4                                 I wrote my story here   \n",
       "...                                                  ...  \n",
       "35738  I started dating this girl about a month ago a...  \n",
       "35739  It's frustrating that I want to work but I'm n...  \n",
       "35740  I’m a disappointment to my parents and family,...  \n",
       "35741  Warning! This is kinda long! If theres anythin...  \n",
       "35742  18 year old year. In my senior year of high sc...  \n",
       "\n",
       "[32789 rows x 6 columns]"
      ]
     },
     "execution_count": 8,
     "metadata": {},
     "output_type": "execute_result"
    }
   ],
   "source": [
    "# remove indents and urls and double spaces\n",
    "df_full['selftext'] = df_full.selftext.map(lambda x: re.sub('\\n',' ',str(x)))\n",
    "df_full['selftext'] = df_full.selftext.map(lambda x: re.sub('  ',' ',str(x)))\n",
    "df_full['selftext'] = df_full.selftext.map(lambda x: replace_urls(x))\n",
    "\n",
    "cols_of_interest = ['date', 'id', 'author', 'subreddit', 'title', 'selftext']\n",
    "df_full_clean = df_full[(df_full.selftext != '[removed]') & (df_full.selftext != '[deleted]')].copy()\n",
    "df_full_clean[cols_of_interest]"
   ]
  },
  {
   "cell_type": "code",
   "execution_count": 9,
   "metadata": {},
   "outputs": [],
   "source": [
    "stop_words = ['feel',\n",
    " 'want',\n",
    " 'myself',\n",
    " 'people',\n",
    " 'help',\n",
    " 'depression',\n",
    " 'nan',\n",
    " 'fucking',\n",
    " 'mental',\n",
    " 'hate',\n",
    " 'health',\n",
    " 'life',\n",
    "#  'need',\n",
    " 'anxiety',\n",
    " 'talk',\n",
    " 'anymore',\n",
    " 'die',\n",
    " 'depressed',\n",
    " 'friends',\n",
    " 'fuck',\n",
    " 'feeling',\n",
    "#  'kill',\n",
    " 'time',\n",
    " 'shit',\n",
    " 'tired',\n",
    " 'happy',\n",
    " 'better',\n",
    " 'things',\n",
    " 'going',\n",
    " 'bad',\n",
    " 'way',\n",
    " 'care',\n",
    " 'good',\n",
    " 'wish',\n",
    " 'person',\n",
    " 'sad',\n",
    " 'day',\n",
    " 'makes',\n",
    " 'years',\n",
    " 'right',\n",
    " 'tell',\n",
    " 'self',\n",
    " 'love',\n",
    " 'worse',\n",
    " 'try',\n",
    " 'thoughts',\n",
    " 'live',\n",
    " 'friend',\n",
    " 'stop',\n",
    " 'feel',\n",
    " 'help',\n",
    " 'nan',\n",
    " 'people',\n",
    " 'fucking',\n",
    " 'hate',\n",
    " 'myself',\n",
    " 'mental',\n",
    " 'health',\n",
    " 'depressed',\n",
    " 'fuck',\n",
    " 'shit',\n",
    " 'self',\n",
    " 'person',\n",
    " 'makes',\n",
    " 'friends',\n",
    " 'feeling',\n",
    " 'better',\n",
    " 'depression',\n",
    " 'wanna',\n",
    " 'sad',\n",
    " 'good',\n",
    " 'way',\n",
    " 'try',\n",
    " 'understand',\n",
    " 'wrong',\n",
    " 'lonely',\n",
    "#  'advice',\n",
    "  'lose',\n",
    " 'find',\n",
    " 'care',\n",
    " 'feelings',\n",
    " 'idk',\n",
    " 'emotions',\n",
    " 'bad',\n",
    " 'issues',\n",
    " 'talking',\n",
    " 'stupid',\n",
    " 'actually',\n",
    " 'ask',\n",
    " 'like',\n",
    " 'right',\n",
    " 'thoughts',\n",
    " 'guilty',\n",
    " 'illness',\n",
    " 'life',\n",
    " 'therapy',\n",
    " 'things',\n",
    " 'social','best', 'bit', 'lot', 'great', 'says', 'getting', 'numb', 'come', 'amp', 'thing', 'little', 'today', 'started', 'maybe', 'feels', 'feel', 'feeling',\n",
    "\"told\", 'tomorrow', 'everyday', 'future', 'reason', 'pay', 'got', 'said', 'everyday', 'tomorrow', 'week', 'old', 'start', 'anxious', 'able', 'tried', 'features']+ ['think', 'thinking', 'happen', 'look', 'not', 'have', 'will', 'ill', 'sorry', 'alot', 'point', 'cuz', 'kinda', 'tell', 'exist', 'wait','post', 'have'] + ['let','happen','think','word','kinda','say','matt']\n",
    "              \n",
    "              \n",
    "              "
   ]
  },
  {
   "cell_type": "code",
   "execution_count": 10,
   "metadata": {},
   "outputs": [],
   "source": [
    "# path = '/Users/collinswestnedge/programming/Metis_Online/project_04/pickles/'\n",
    "\n",
    "# with open(path+'stop_words_test.pickle', 'wb') as file:\n",
    "#     pickle.dump(set(stop_words), file)"
   ]
  },
  {
   "cell_type": "code",
   "execution_count": 11,
   "metadata": {},
   "outputs": [],
   "source": [
    "# with open(path+'stop_words_test.pickle', 'rb') as file:\n",
    "#     stop_words = pickle.load(file)"
   ]
  },
  {
   "cell_type": "code",
   "execution_count": 149,
   "metadata": {},
   "outputs": [],
   "source": [
    "class NLPPipe:\n",
    "    \n",
    "    def __init__(self, vectorizer, tokenizer, disable, pos, lemma=False):\n",
    "        \n",
    "        self.vectorizer = vectorizer\n",
    "        self.tokenize = tokenizer\n",
    "        self.disable = disable\n",
    "        self.pos_list = pos\n",
    "        self.lemma = lemma\n",
    "    \n",
    "    def process_text(self, text):\n",
    "\n",
    "        nlp = spacy.load(\"en_core_web_sm\")\n",
    "        nlp.vocab[\" \"].is_stop = True\n",
    "        nlp.vocab[\"like\"].is_stop = True\n",
    "        nlp.vocab[\"think\"].is_stop = True\n",
    "        nlp.vocab[\"know\"].is_stop = True\n",
    "        nlp.Defaults.stop_words |= set(stop_words)\n",
    "\n",
    "        text_full = [] \n",
    "        for doc in nlp.pipe(text, disable=self.disable):\n",
    "            # if part of speech list isnt empty return matches for pos\n",
    "            if self.pos_list:\n",
    "                tokens = [(ent.text) for ent in doc if not ent.is_stop and not ent.is_punct and ent.pos_ in self.pos_list]\n",
    "                cleaned_text = \" \".join(tokens)\n",
    "                text_full.append(cleaned_text)\n",
    "            elif self.lemma == True:\n",
    "                tokens = [(ent.lemma_) for ent in doc if not ent.is_stop and not ent.is_punct]\n",
    "                cleaned_text = \" \".join(tokens)\n",
    "                text_full.append(cleaned_text)\n",
    "            else:\n",
    "                tokens = [(ent.text) for ent in doc if not ent.is_stop and not ent.is_punct]\n",
    "                cleaned_text = \" \".join(tokens)\n",
    "                text_full.append(cleaned_text)\n",
    "\n",
    "        return text_full\n",
    "    \n",
    "    def fit(self, text):\n",
    "        clean_text = self.process_text(text)\n",
    "        return self.vectorizer.fit(clean_text)\n",
    "    \n",
    "    def transform(self, text):\n",
    "        clean_text = self.process_text(text)\n",
    "        return self.vectorizer.transform(clean_text)\n",
    "    \n",
    "    def fit_transform(self, text):\n",
    "        clean_text = self.process_text(text)\n",
    "        return self.vectorizer.fit_transform(clean_text)\n",
    "    \n",
    "    def display_topics(self, model, feature_names, no_top_words, topic_names=None):\n",
    "        for ix, topic in enumerate(model.components_):\n",
    "            if not topic_names or not topic_names[ix]:\n",
    "                print(\"\\nTopic \", ix)\n",
    "            else:\n",
    "                print(\"\\nTopic: '\",topic_names[ix],\"'\")\n",
    "            print(\", \".join([feature_names[i]\n",
    "                            for i in topic.argsort()[:-no_top_words - 1:-1]])) \n",
    "    \n",
    "    def fit_transform_nmf(self, nmf, word_vec, feature_names, n_words):\n",
    "        '''\n",
    "        Description:\n",
    "        fit and display top words from nmf\n",
    "        on vectorized words\n",
    "        '''\n",
    "#         nmf.fit(word_vect)\n",
    "        doc_topic = nmf.fit_transform(word_vect)\n",
    "        self.display_topics(nmf, feature_names, n_words)\n",
    "        return doc_topic\n",
    "    \n",
    "#     def save_pipe(self, filename):\n",
    "#         \"\"\"\n",
    "#         Writes the attributes of the pipeline to a file\n",
    "#         allowing a pipeline to be loaded later with the\n",
    "#         pre-trained pieces in place.\n",
    "#         \"\"\"\n",
    "#         if type(filename) != str:\n",
    "#             raise TypeError(\"filename must be a string\")\n",
    "#         pickle.dump(self.__dict__, open(filename+\".mdl\", 'wb'))\n",
    "        \n",
    "#     def load_pipe(self, filename):\n",
    "#         \"\"\"\n",
    "#         Writes the attributes of the pipeline to a file\n",
    "#         allowing a pipeline to be loaded later with the\n",
    "#         pre-trained pieces in place.\n",
    "#         \"\"\"\n",
    "#         if type(filename) != str:\n",
    "#             raise TypeError(\"filename must be a string\")\n",
    "#         if filename[-4:] != '.mdl':\n",
    "#             filename += '.mdl'\n",
    "#         self.__dict__ = pickle.load(open(filename, 'rb'))"
   ]
  },
  {
   "cell_type": "code",
   "execution_count": 13,
   "metadata": {},
   "outputs": [],
   "source": [
    "# corpus = df_full_clean[['title','selftext']].sample(1)\n",
    "# corpus.title.values[0]"
   ]
  },
  {
   "cell_type": "code",
   "execution_count": 14,
   "metadata": {
    "scrolled": true
   },
   "outputs": [],
   "source": [
    "# def process_text(text, pos_list, lemma=False):\n",
    "\n",
    "#     nlp = spacy.load(\"en_core_web_sm\")\n",
    "# #     nlp.vocab[\"myself\"].is_stop = False\n",
    "#     nlp.vocab[\" \"].is_stop = True\n",
    "# #     nlp.vocab[\"like\"].is_stop = True\n",
    "# #     nlp.vocab[\"think\"].is_stop = True\n",
    "# #     nlp.vocab[\"know\"].is_stop = True\n",
    "#     nlp.Defaults.stop_words |= stop_words\n",
    "\n",
    "\n",
    "#     text_full = [] \n",
    "#     for doc in nlp.pipe(text, disable=['parser', 'ner']):\n",
    "#         # if part of speech list isnt empty return matches for pos\n",
    "#         if pos_list:\n",
    "#             tokens = [(ent.pos_) for ent in doc if not ent.is_stop and not ent.is_punct and ent.pos_ in pos_list]\n",
    "#             cleaned_text = \" \".join(tokens)\n",
    "#             text_full.append(cleaned_text)\n",
    "#         elif lemma == True:\n",
    "#             tokens = [(ent.lemma_) for ent in doc if not ent.is_stop and not ent.is_punct]\n",
    "#             cleaned_text = \" \".join(tokens)\n",
    "#             text_full.append(cleaned_text)\n",
    "#         else:\n",
    "#             tokens = [(ent.text) for ent in doc if not ent.is_stop and not ent.is_punct]\n",
    "#             cleaned_text = \" \".join(tokens)\n",
    "#             text_full.append(cleaned_text)\n",
    "            \n",
    "#     return text_full\n",
    "\n",
    "# # print(corpus.title.values[0])\n",
    "# # print()\n",
    "\n",
    "# a = process_text(['abandon', 'abandoned', 'abandonment', 'running', 'ran', 'runs'], pos_list=[], lemma=False)\n",
    "# a"
   ]
  },
  {
   "cell_type": "code",
   "execution_count": 15,
   "metadata": {},
   "outputs": [],
   "source": [
    "df_full_clean['text_title'] = df_full_clean.title + ' ' + df_full_clean.selftext"
   ]
  },
  {
   "cell_type": "code",
   "execution_count": 150,
   "metadata": {},
   "outputs": [
    {
     "name": "stdout",
     "output_type": "stream",
     "text": [
      "\n",
      "Topic  0\n",
      "therapist, medication, advice, meds, disorder, diagnosed, doctor, taking, psychiatrist, suicidal, panic, bipolar, sure, having, symptoms, appointment, diagnosis, attacks, antidepressants, seeing, ocd, recently, adhd, experience, new, severe, months, past, thanks, effects, struggling, attack, eating, insurance, mood, weeks, treatment, different, ptsd, prescribed, etc, therapists, hospital, depressive, medications, appreciated, harm, professional, psychologist, problems, doctors, wondering, currently, thank, starting, looking, finally, anti, major, personality, worried, long, question, pretty, helped, session, parents, ago, kind, dealing, experiences, bpd, lately, trying, idea, problem, support, deal, zoloft, normal, tips, working, medical, dose, borderline, seek, issue, episodes, control, episode, disorders, similar, helping, taken, situation, possible, month, questions, psych, sessions\n",
      "\n",
      "Topic  1\n",
      "need, advice, hug, support, struggling, listen, vent, message, hello, insurance, guys, hospital, professional, chat, needs, break, situation, parents, okay, willing, trust, place, appreciated, harm, breakdown, reach, afraid, kind, handle, desperate, stay, telling, stuff, desperately, open, hard, important, bring, worry, change, long, boyfriend, fix, explain, free, seriously, posting, state, text, write, money, psychologist, suicidal, appreciate, afford, knows, reaching, chest, doctor, tips, needed, admitted, thank, learn, days, posts, understanding, fine, therapists, attention, suicide, wants, reddit, helping, accept, badly, hold, convince, send, problem, order, speak, cut, hey, seek, phone, online, counselor, understands, means, relationship, pls, mind, sort, motivate, yeah, asking, gotten, alright, tonight\n",
      "\n",
      "Topic  2\n",
      "work, job, working, home, money, new, jobs, college, quit, hours, hard, trying, boss, stress, motivation, worked, living, house, lost, car, leave, company, career, stuck, afford, degree, weeks, family, sick, place, months, manager, making, wife, covid, bills, year, rent, spend, bed, fired, days, barely, interview, end, month, stay, office, energy, lazy, drive, focus, having, stressed, paying, coworkers, enjoy, hobbies, morning, food, struggling, paid, husband, pandemic, failure, shift, debt, finding, starting, apartment, stressful, gym, unemployed, supposed, field, position, business, current, worth, etc, minimum, support, miserable, applied, insurance, looking, married, useless, left, currently, weekend, graduated, taking, country, moved, finish, break, hour, university, works\n",
      "\n",
      "Topic  3\n",
      "school, high, college, year, parents, class, classes, grades, semester, grade, online, home, bullied, motivation, teachers, student, homework, middle, graduate, study, senior, teacher, failing, university, summer, studying, went, group, failure, dropped, junior, graduated, counselor, kid, finish, fail, stress, games, gon, degree, failed, students, freshman, miss, math, pretty, drop, assignments, quarantine, stressed, elementary, probably, fun, test, missed, stuff, making, schools, gpa, learn, play, education, exams, basically, focus, sophomore, barely, smart, lazy, outside, literally, sit, age, girls, bullying, currently, career, learning, bed, attend, supposed, tests, late, graduating, advice, art, classmates, finished, english, major, sucks, pass, program, hard, struggling, second, kids, course, useless, hated\n",
      "\n",
      "Topic  4\n",
      "hard, end, world, trying, mind, head, pain, family, real, normal, matter, hope, away, having, living, sure, constantly, hurt, okay, problems, thought, times, brain, long, change, body, mean, probably, guess, inside, believe, honestly, kind, sense, hurts, making, deal, remember, death, happiness, cause, place, problem, deserve, worth, sick, different, gets, fear, truly, alive, enjoy, literally, read, weird, pretty, afraid, moment, stuff, happens, completely, looking, reality, hear, dead, human, gon, stay, god, fact, reading, words, negative, attention, constant, cares, music, stuck, close, comes, control, etc, gone, angry, losing, face, hell, explain, suffering, far, sadness, goes, idea, usually, true, act, positive, nice, single, lately\n",
      "\n",
      "Topic  5\n",
      "sleep, night, wake, bed, hours, asleep, sleeping, morning, eat, fall, days, awake, waking, energy, lay, woke, exhausted, dreams, slept, dream, stay, schedule, motivation, nightmares, insomnia, room, eyes, late, eating, body, crying, barely, having, falling, nights, pills, panic, tonight, literally, usually, hour, nightmare, laying, mind, past, cycle, staying, drink, forever, normal, till, early, food, rest, escape, minutes, shower, house, work, sleepy, home, worst, nap, phone, attacks, taking, tips, lately, happening, productive, spend, brain, weeks, stomach, physically, walk, watching, lack, force, sick, paralysis, attack, hallucinations, naps, hell, enjoy, appetite, pass, repeat, lazy, dark, function, half, constant, deprivation, hoping, starts, fell, headache, dread\n",
      "\n",
      "Topic  6\n",
      "mom, dad, parents, family, brother, sister, mother, house, father, home, room, money, mad, child, away, kids, siblings, abusive, kid, died, older, saying, angry, called, leave, telling, asked, problems, phone, abuse, mum, younger, living, thinks, grandma, daughter, abused, came, moved, childhood, car, stuff, left, yelling, went, young, children, gets, step, divorced, parent, close, took, yelled, sisters, age, tells, son, wants, brothers, fault, crying, wanted, hospital, upset, anger, found, husband, emotionally, uncle, blame, mentally, fight, remember, cancer, born, situation, passed, bring, cousin, divorce, door, believe, happened, baby, argument, grade, cause, aunt, screaming, dog, big, deal, times, talked, married, grandmother, hit, basically, police\n",
      "\n",
      "Topic  7\n",
      "kill, suicide, suicidal, killing, alive, end, death, commit, pain, gon, dead, plan, attempt, living, hurt, wanted, thought, wanting, family, tonight, soon, seriously, dying, attempted, god, cares, pussy, coward, hell, cut, killed, courage, harm, painless, worth, probably, gun, wants, worthless, telling, planned, planning, matter, suffering, hope, reasons, note, miserable, option, gives, hospital, considering, failed, hotline, suffer, ideation, forever, born, urge, goodbye, somebody, knife, pathetic, afraid, cutting, pills, fucked, existing, guess, title, barely, finally, literally, easy, deserve, died, drugs, crazy, saying, hurting, cause, painful, worry, torture, attention, useless, wrists, bitch, committing, waiting, weak, methods, away, ways, horrible, miss, laugh, shitty, scum, sick\n",
      "\n",
      "Topic  8\n",
      "felt, days, year, ago, months, relationship, went, thought, wanted, girl, past, lost, long, weeks, happened, boyfriend, couple, broke, finally, left, girlfriend, new, came, month, night, guy, away, found, later, home, asked, took, knew, met, stopped, ended, times, crying, remember, close, break, moved, pretty, loved, dating, kept, yesterday, sex, talked, decided, saw, house, completely, cut, recently, gone, miss, birthday, group, needed, place, saying, hours, story, spent, room, fine, cried, leave, called, half, having, text, phone, coming, gave, worst, hit, suicide, changed, meet, heart, date, turned, fell, woke, guess, minutes, passed, girls, car, looked, began, mother, eventually, realized, died, drinking, bed, guys\n",
      "\n",
      "Topic  9\n",
      "cry, crying, tears, cried, sadness, pain, eyes, okay, emotion, lately, scream, night, emotional, laugh, wanting, chest, hurt, smile, hurts, normal, times, break, sensitive, upset, hug, angry, inside, songs, release, unable, sit, randomly, happens, express, stressed, breakdown, weird, easily, deal, sure, hide, matter, throat, storm, sucks, tear, urge, cares, listen, anger, control, mad, boyfriend, fake, hear, watching, laughing, bed, died, strong, verge, usually, alright, movie, distract, hard, till, cause, moments, hold, rarely, overwhelmed, ball, burst, dog, bottled, physical, gets, curl, held, hour, cut, numbness, broken, killing, yell, everytime, fine, trying, harm, heart, lay, weight, envious, uncontrollably, small, song, gon, calm, yesterday\n",
      "\n",
      "Topic  10\n",
      "scared, fear, hospital, afraid, gon, terrified, scary, dying, death, attack, hurt, open, scares, panic, paranoid, away, leave, parents, worried, forever, confused, cause, happening, depending, calm, starting, nervous, trust, losing, night, gone, reach, cut, dark, room, outside, honestly, insane, handle, judge, ruin, voices, coming, edge, somebody, suicidal, idea, telling, dumb, shaking, thought, confidence, crying, stuck, doctor, worry, ending, ready, commit, inside, boyfriend, control, past, soon, fears, terrible, sound, stuff, admitted, cutting, freaking, hear, end, attempt, falling, admit, heart, real, killed, mess, leaving, near, harm, hurting, kid, fail, hearing, faint, harming, continue, recently, big, knife, bring, support, ashamed, honest, probably, urge, biggest\n"
     ]
    }
   ],
   "source": [
    "from sklearn.feature_extraction.text import TfidfVectorizer\n",
    "\n",
    "# corpus = df_full_clean.selftext\n",
    "corpus = df_full_clean.text_title\n",
    "\n",
    "tfdif_vect = TfidfVectorizer(\n",
    "                             min_df = 5,\n",
    "                             ngram_range=(1, 1),\n",
    "                             max_df = .5, \n",
    "                             token_pattern = r'\\b[a-zA-Z]{3,}\\b'\n",
    "                             )\n",
    "\n",
    "pipeline = NLPPipe(vectorizer=tfdif_vect,\n",
    "                  tokenizer=None,\n",
    "                  disable=[\"tagger\",\"parser\", \"ner\"],\n",
    "                  pos=[],\n",
    "                  lemma=False,\n",
    "                  )\n",
    "\n",
    "word_vect = pipeline.fit_transform(corpus).toarray()\n",
    "features = pipeline.vectorizer.get_feature_names()\n",
    "\n",
    "nmf = NMF(11, alpha=.04, l1_ratio=.5, random_state=0, max_iter=700, init='nndsvd')\n",
    "doc_topic = pipeline.fit_transform_nmf(nmf, word_vect, features, n_words=100)\n",
    "term_topic = nmf.components_\n",
    "\n",
    "# reg_nmf = NMF(11, alpha=.05, l1_ratio=.5, random_state=0, max_iter=700)\n",
    "# reg_doc_topic = pipeline.fit_transform_nmf(nmf, word_vect, features, n_words=100)\n",
    "# reg_topic_term = nmf.components_"
   ]
  },
  {
   "cell_type": "code",
   "execution_count": null,
   "metadata": {},
   "outputs": [],
   "source": [
    "# df = pd.DataFrame(word_vect)\n",
    "# df.columns = pipeline.vectorizer.get_feature_names()\n",
    "# df"
   ]
  },
  {
   "cell_type": "code",
   "execution_count": 30,
   "metadata": {},
   "outputs": [],
   "source": [
    "path = '/Users/collinswestnedge/programming/Metis_Online/project_04/pickles/'"
   ]
  },
  {
   "cell_type": "code",
   "execution_count": 31,
   "metadata": {},
   "outputs": [],
   "source": [
    "with open(path+'no_lemma_topic_model.pickle', 'wb') as file:\n",
    "    pickle.dump(nmf, file)\n",
    "    pickle.dump(doc_topic, file)\n",
    "    pickle.dump(word_vect, file)\n",
    "    pickle.dump(pipeline.vectorizer, file)"
   ]
  },
  {
   "cell_type": "code",
   "execution_count": 32,
   "metadata": {},
   "outputs": [],
   "source": [
    "def display_topics(model, feature_names, no_top_words, topic_names=None):\n",
    "    for ix, topic in enumerate(model.components_):\n",
    "        if not topic_names or not topic_names[ix]:\n",
    "            print(\"\\nTopic \", ix)\n",
    "        else:\n",
    "            print(\"\\nTopic: '\",topic_names[ix],\"'\")\n",
    "        print(\", \".join([feature_names[i]\n",
    "                        for i in topic.argsort()[:-no_top_words - 1:-1]]))"
   ]
  },
  {
   "cell_type": "code",
   "execution_count": 27,
   "metadata": {},
   "outputs": [],
   "source": [
    "# once you feel good about topics you should move code below to new notebook"
   ]
  },
  {
   "cell_type": "code",
   "execution_count": 33,
   "metadata": {},
   "outputs": [],
   "source": [
    "with open(path+'no_lemma_topic_model.pickle', 'rb') as file:\n",
    "    reg_nmf = pickle.load(file)\n",
    "    reg_doc_topic = pickle.load(file)\n",
    "    reg_word_vec = pickle.load(file)\n",
    "    reg_vectorizer = pickle.load(file)\n",
    "    \n",
    "    \n",
    "with open(path+'lemma_topic_model.pickle', 'rb') as file:\n",
    "    nmf_lemma = pickle.load(file)\n",
    "    doc_topic_lemma = pickle.load(file)\n",
    "    word_vec_lemma = pickle.load(file)\n",
    "    vectorizer_lemma = pickle.load(file)\n",
    "    \n",
    "# this seems a little supurfulous sp? since i \n",
    "# only want anxiety topic from this matrix\n",
    "with open(path+'anxiety.pickle', 'rb') as file:\n",
    "    nmf_anxiety = pickle.load(file)\n",
    "    doc_topic_anxiety = pickle.load(file)\n",
    "    word_vec_anxiety = pickle.load(file)\n",
    "    vectorizer_anxiety = pickle.load(file)\n",
    "    "
   ]
  },
  {
   "cell_type": "code",
   "execution_count": 34,
   "metadata": {
    "scrolled": true
   },
   "outputs": [
    {
     "name": "stdout",
     "output_type": "stream",
     "text": [
      "\n",
      "Topic  0\n",
      "therapist, medication, advice, meds, disorder, diagnosed, doctor, taking, psychiatrist, suicidal, panic, bipolar, sure, having, symptoms, appointment, diagnosis, attacks, antidepressants, seeing, ocd, recently, adhd, experience, new, severe, months, past, thanks, effects, struggling, attack, eating, insurance, mood, weeks, treatment, different, ptsd, prescribed, etc, therapists, hospital, depressive, medications, appreciated, harm, professional, psychologist, problems, doctors, wondering, currently, thank, starting, looking, finally, anti, major, personality, worried, long, question, pretty, helped, session, parents, ago, kind, dealing, experiences, bpd, lately, trying, idea, problem, support, deal, zoloft, normal, tips, working, medical, dose, borderline, seek, issue, episodes, control, episode, disorders, similar, helping, taken, situation, possible, month, questions, psych, sessions\n",
      "\n",
      "Topic  1\n",
      "need, advice, hug, support, struggling, listen, vent, message, hello, insurance, guys, hospital, professional, chat, needs, break, situation, parents, okay, willing, trust, place, appreciated, harm, breakdown, reach, afraid, kind, handle, desperate, stay, telling, stuff, desperately, open, hard, important, bring, worry, change, long, boyfriend, fix, explain, free, seriously, posting, state, text, write, money, psychologist, suicidal, appreciate, afford, knows, reaching, chest, doctor, tips, needed, admitted, thank, learn, days, posts, understanding, fine, therapists, attention, suicide, wants, reddit, helping, accept, badly, hold, convince, send, problem, order, speak, cut, hey, seek, phone, online, counselor, understands, means, relationship, pls, mind, sort, motivate, yeah, asking, gotten, alright, tonight\n",
      "\n",
      "Topic  2\n",
      "work, job, working, home, money, new, jobs, college, quit, hours, hard, trying, boss, stress, motivation, worked, living, house, lost, car, leave, company, career, stuck, afford, degree, weeks, family, sick, place, months, manager, making, wife, covid, bills, year, rent, spend, bed, fired, days, barely, interview, end, month, stay, office, energy, lazy, drive, focus, having, stressed, paying, coworkers, enjoy, hobbies, morning, food, struggling, paid, husband, pandemic, failure, shift, debt, finding, starting, apartment, stressful, gym, unemployed, supposed, field, position, business, current, worth, etc, minimum, support, miserable, applied, insurance, looking, married, useless, left, currently, weekend, graduated, taking, country, moved, finish, break, hour, university, works\n",
      "\n",
      "Topic  3\n",
      "school, high, college, year, parents, class, classes, grades, semester, grade, online, home, bullied, motivation, teachers, student, homework, middle, graduate, study, senior, teacher, failing, university, summer, studying, went, group, failure, dropped, junior, graduated, counselor, kid, finish, fail, stress, games, gon, degree, failed, students, freshman, miss, math, pretty, drop, assignments, quarantine, stressed, elementary, probably, fun, test, missed, stuff, making, schools, gpa, learn, play, education, exams, basically, focus, sophomore, barely, smart, lazy, outside, literally, sit, age, girls, bullying, currently, career, learning, bed, attend, supposed, tests, late, graduating, advice, art, classmates, finished, english, major, sucks, pass, program, hard, struggling, second, kids, course, useless, hated\n",
      "\n",
      "Topic  4\n",
      "hard, end, world, trying, mind, head, pain, family, real, normal, matter, hope, away, having, living, sure, constantly, hurt, okay, problems, thought, times, brain, long, change, body, mean, probably, guess, inside, believe, honestly, kind, sense, hurts, making, deal, remember, death, happiness, cause, place, problem, deserve, worth, sick, different, gets, fear, truly, alive, enjoy, literally, read, weird, pretty, afraid, moment, stuff, happens, completely, looking, reality, hear, dead, human, gon, stay, god, fact, reading, words, negative, attention, constant, cares, music, stuck, close, comes, control, etc, gone, angry, losing, face, hell, explain, suffering, far, sadness, goes, idea, usually, true, act, positive, nice, single, lately\n",
      "\n",
      "Topic  5\n",
      "sleep, night, wake, bed, hours, asleep, sleeping, morning, eat, fall, days, awake, waking, energy, lay, woke, exhausted, dreams, slept, dream, stay, schedule, motivation, nightmares, insomnia, room, eyes, late, eating, body, crying, barely, having, falling, nights, pills, panic, tonight, literally, usually, hour, nightmare, laying, mind, past, cycle, staying, drink, forever, normal, till, early, food, rest, escape, minutes, shower, house, work, sleepy, home, worst, nap, phone, attacks, taking, tips, lately, happening, productive, spend, brain, weeks, stomach, physically, walk, watching, lack, force, sick, paralysis, attack, hallucinations, naps, hell, enjoy, appetite, pass, repeat, lazy, dark, function, half, constant, deprivation, hoping, starts, fell, headache, dread\n",
      "\n",
      "Topic  6\n",
      "mom, dad, parents, family, brother, sister, mother, house, father, home, room, money, mad, child, away, kids, siblings, abusive, kid, died, older, saying, angry, called, leave, telling, asked, problems, phone, abuse, mum, younger, living, thinks, grandma, daughter, abused, came, moved, childhood, car, stuff, left, yelling, went, young, children, gets, step, divorced, parent, close, took, yelled, sisters, age, tells, son, wants, brothers, fault, crying, wanted, hospital, upset, anger, found, husband, emotionally, uncle, blame, mentally, fight, remember, cancer, born, situation, passed, bring, cousin, divorce, door, believe, happened, baby, argument, grade, cause, aunt, screaming, dog, big, deal, times, talked, married, grandmother, hit, basically, police\n",
      "\n",
      "Topic  7\n",
      "kill, suicide, suicidal, killing, alive, end, death, commit, pain, gon, dead, plan, attempt, living, hurt, wanted, thought, wanting, family, tonight, soon, seriously, dying, attempted, god, cares, pussy, coward, hell, cut, killed, courage, harm, painless, worth, probably, gun, wants, worthless, telling, planned, planning, matter, suffering, hope, reasons, note, miserable, option, gives, hospital, considering, failed, hotline, suffer, ideation, forever, born, urge, goodbye, somebody, knife, pathetic, afraid, cutting, pills, fucked, existing, guess, title, barely, finally, literally, easy, deserve, died, drugs, crazy, saying, hurting, cause, painful, worry, torture, attention, useless, wrists, bitch, committing, waiting, weak, methods, away, ways, horrible, miss, laugh, shitty, scum, sick\n",
      "\n",
      "Topic  8\n",
      "felt, days, year, ago, months, relationship, went, thought, wanted, girl, past, lost, long, weeks, happened, boyfriend, couple, broke, finally, left, girlfriend, new, came, month, night, guy, away, found, later, home, asked, took, knew, met, stopped, ended, times, crying, remember, close, break, moved, pretty, loved, dating, kept, yesterday, sex, talked, decided, saw, house, completely, cut, recently, gone, miss, birthday, group, needed, place, saying, hours, story, spent, room, fine, cried, leave, called, half, having, text, phone, coming, gave, worst, hit, suicide, changed, meet, heart, date, turned, fell, woke, guess, minutes, passed, girls, car, looked, began, mother, eventually, realized, died, drinking, bed, guys\n",
      "\n",
      "Topic  9\n",
      "cry, crying, tears, cried, sadness, pain, eyes, okay, emotion, lately, scream, night, emotional, laugh, wanting, chest, hurt, smile, hurts, normal, times, break, sensitive, upset, hug, angry, inside, songs, release, unable, sit, randomly, happens, express, stressed, breakdown, weird, easily, deal, sure, hide, matter, throat, storm, sucks, tear, urge, cares, listen, anger, control, mad, boyfriend, fake, hear, watching, laughing, bed, died, strong, verge, usually, alright, movie, distract, hard, till, cause, moments, hold, rarely, overwhelmed, ball, burst, dog, bottled, physical, gets, curl, held, hour, cut, numbness, broken, killing, yell, everytime, fine, trying, harm, heart, lay, weight, envious, uncontrollably, small, song, gon, calm, yesterday\n",
      "\n",
      "Topic  10\n",
      "scared, fear, hospital, afraid, gon, terrified, scary, dying, death, attack, hurt, open, scares, panic, paranoid, away, leave, parents, worried, forever, confused, cause, happening, depending, calm, starting, nervous, trust, losing, night, gone, reach, cut, dark, room, outside, honestly, insane, handle, judge, ruin, voices, coming, edge, somebody, suicidal, idea, telling, dumb, shaking, thought, confidence, crying, stuck, doctor, worry, ending, ready, commit, inside, boyfriend, control, past, soon, fears, terrible, sound, stuff, admitted, cutting, freaking, hear, end, attempt, falling, admit, heart, real, killed, mess, leaving, near, harm, hurting, kid, fail, hearing, faint, harming, continue, recently, big, knife, bring, support, ashamed, honest, probably, urge, biggest\n"
     ]
    }
   ],
   "source": [
    "display_topics(reg_nmf, reg_vectorizer.get_feature_names(), 100)\n",
    "# display_topics(nmf_lemma, vectorizer_lemma.get_feature_names(), 100)"
   ]
  },
  {
   "cell_type": "code",
   "execution_count": null,
   "metadata": {
    "scrolled": true
   },
   "outputs": [],
   "source": [
    "# display_topics(nmf_lemma, vectorizer_lemma.get_feature_names(), 100)"
   ]
  },
  {
   "cell_type": "code",
   "execution_count": 62,
   "metadata": {},
   "outputs": [],
   "source": [
    "general = reg_doc_topic[:,0]\n",
    "advice_support = reg_doc_topic[:,1]\n",
    "work = reg_doc_topic[:,2]\n",
    "school = reg_doc_topic[:,3]\n",
    "sleep = reg_doc_topic[:,5]\n",
    "family = reg_doc_topic[:,6]\n",
    "suicide = reg_doc_topic[:,7]\n",
    "relationship = reg_doc_topic[:,8]\n",
    "emotion = reg_doc_topic[:,9]\n",
    "fear = reg_doc_topic[:,10]\n",
    "eating_disorder = doc_topic_lemma[:,-1]\n",
    "anxiety = doc_topic_anxiety[:,-1]"
   ]
  },
  {
   "cell_type": "code",
   "execution_count": 144,
   "metadata": {
    "scrolled": false
   },
   "outputs": [
    {
     "data": {
      "text/html": [
       "<div>\n",
       "<style scoped>\n",
       "    .dataframe tbody tr th:only-of-type {\n",
       "        vertical-align: middle;\n",
       "    }\n",
       "\n",
       "    .dataframe tbody tr th {\n",
       "        vertical-align: top;\n",
       "    }\n",
       "\n",
       "    .dataframe thead th {\n",
       "        text-align: right;\n",
       "    }\n",
       "</style>\n",
       "<table border=\"1\" class=\"dataframe\">\n",
       "  <thead>\n",
       "    <tr style=\"text-align: right;\">\n",
       "      <th></th>\n",
       "      <th>date</th>\n",
       "      <th>id</th>\n",
       "      <th>author</th>\n",
       "      <th>subreddit</th>\n",
       "      <th>selftext</th>\n",
       "      <th>created_utc</th>\n",
       "      <th>text_title</th>\n",
       "      <th>professional_advice</th>\n",
       "      <th>general_support</th>\n",
       "      <th>work</th>\n",
       "      <th>school</th>\n",
       "      <th>sleep</th>\n",
       "      <th>family</th>\n",
       "      <th>suicide</th>\n",
       "      <th>emotions</th>\n",
       "      <th>fear</th>\n",
       "      <th>dietary_related</th>\n",
       "      <th>anxiety</th>\n",
       "      <th>max_label</th>\n",
       "    </tr>\n",
       "  </thead>\n",
       "  <tbody>\n",
       "    <tr>\n",
       "      <th>0</th>\n",
       "      <td>2019-10-11 16:39:05</td>\n",
       "      <td>dglq7k</td>\n",
       "      <td>liznormal23</td>\n",
       "      <td>mentalhealth</td>\n",
       "      <td>*TRIGGER WARNING: EATING DISORDER AND SUBSTANC...</td>\n",
       "      <td>1570829945</td>\n",
       "      <td>Mental Health Gray Area. Please help. *TRIGGER...</td>\n",
       "      <td>0.023665</td>\n",
       "      <td>0.008603</td>\n",
       "      <td>0.015485</td>\n",
       "      <td>0.000000</td>\n",
       "      <td>0.000000</td>\n",
       "      <td>0.000000</td>\n",
       "      <td>0.000000</td>\n",
       "      <td>0.000000</td>\n",
       "      <td>0.000000</td>\n",
       "      <td>0.039354</td>\n",
       "      <td>0.000757</td>\n",
       "      <td>dietary_related</td>\n",
       "    </tr>\n",
       "    <tr>\n",
       "      <th>1</th>\n",
       "      <td>2019-10-11 16:34:59</td>\n",
       "      <td>dgloc1</td>\n",
       "      <td>tacobean87</td>\n",
       "      <td>mentalhealth</td>\n",
       "      <td>every single time i read something my mind blu...</td>\n",
       "      <td>1570829699</td>\n",
       "      <td>what’s wrong with me ? every single time i rea...</td>\n",
       "      <td>0.001246</td>\n",
       "      <td>0.000000</td>\n",
       "      <td>0.000000</td>\n",
       "      <td>0.000000</td>\n",
       "      <td>0.000000</td>\n",
       "      <td>0.000000</td>\n",
       "      <td>0.000000</td>\n",
       "      <td>0.000000</td>\n",
       "      <td>0.000000</td>\n",
       "      <td>0.000000</td>\n",
       "      <td>0.000000</td>\n",
       "      <td>professional_advice</td>\n",
       "    </tr>\n",
       "    <tr>\n",
       "      <th>2</th>\n",
       "      <td>2019-10-11 16:22:09</td>\n",
       "      <td>dglieu</td>\n",
       "      <td>AquilaVI</td>\n",
       "      <td>mentalhealth</td>\n",
       "      <td>Hello, people! A little backstory. I'll try to...</td>\n",
       "      <td>1570828929</td>\n",
       "      <td>I'm trying to deal with a deadly car crash. (A...</td>\n",
       "      <td>0.001903</td>\n",
       "      <td>0.000000</td>\n",
       "      <td>0.017046</td>\n",
       "      <td>0.000000</td>\n",
       "      <td>0.000000</td>\n",
       "      <td>0.006083</td>\n",
       "      <td>0.000689</td>\n",
       "      <td>0.000000</td>\n",
       "      <td>0.000000</td>\n",
       "      <td>0.000000</td>\n",
       "      <td>0.000000</td>\n",
       "      <td>work</td>\n",
       "    </tr>\n",
       "    <tr>\n",
       "      <th>3</th>\n",
       "      <td>2019-10-11 16:18:16</td>\n",
       "      <td>dglgl6</td>\n",
       "      <td>Mrcoolbaby</td>\n",
       "      <td>mentalhealth</td>\n",
       "      <td>I feel like my life is on loop. All the same k...</td>\n",
       "      <td>1570828696</td>\n",
       "      <td>Overwhelmed I feel like my life is on loop. Al...</td>\n",
       "      <td>0.000000</td>\n",
       "      <td>0.000000</td>\n",
       "      <td>0.000000</td>\n",
       "      <td>0.000000</td>\n",
       "      <td>0.000000</td>\n",
       "      <td>0.000000</td>\n",
       "      <td>0.000000</td>\n",
       "      <td>0.000000</td>\n",
       "      <td>0.000000</td>\n",
       "      <td>0.000000</td>\n",
       "      <td>0.000000</td>\n",
       "      <td>professional_advice</td>\n",
       "    </tr>\n",
       "    <tr>\n",
       "      <th>4</th>\n",
       "      <td>2019-10-11 16:15:26</td>\n",
       "      <td>dglfcf</td>\n",
       "      <td>TheA55M4N</td>\n",
       "      <td>mentalhealth</td>\n",
       "      <td>I wrote my story here</td>\n",
       "      <td>1570828526</td>\n",
       "      <td>Anxiety and obsessions I wrote my story here</td>\n",
       "      <td>0.000000</td>\n",
       "      <td>0.000000</td>\n",
       "      <td>0.000000</td>\n",
       "      <td>0.000000</td>\n",
       "      <td>0.000000</td>\n",
       "      <td>0.000000</td>\n",
       "      <td>0.000000</td>\n",
       "      <td>0.000000</td>\n",
       "      <td>0.000000</td>\n",
       "      <td>0.000000</td>\n",
       "      <td>0.000000</td>\n",
       "      <td>professional_advice</td>\n",
       "    </tr>\n",
       "    <tr>\n",
       "      <th>...</th>\n",
       "      <td>...</td>\n",
       "      <td>...</td>\n",
       "      <td>...</td>\n",
       "      <td>...</td>\n",
       "      <td>...</td>\n",
       "      <td>...</td>\n",
       "      <td>...</td>\n",
       "      <td>...</td>\n",
       "      <td>...</td>\n",
       "      <td>...</td>\n",
       "      <td>...</td>\n",
       "      <td>...</td>\n",
       "      <td>...</td>\n",
       "      <td>...</td>\n",
       "      <td>...</td>\n",
       "      <td>...</td>\n",
       "      <td>...</td>\n",
       "      <td>...</td>\n",
       "      <td>...</td>\n",
       "    </tr>\n",
       "    <tr>\n",
       "      <th>32784</th>\n",
       "      <td>2019-09-13 02:52:49</td>\n",
       "      <td>d3lxwm</td>\n",
       "      <td>tjmac411</td>\n",
       "      <td>depression</td>\n",
       "      <td>I started dating this girl about a month ago a...</td>\n",
       "      <td>1568361169</td>\n",
       "      <td>Need guidance I started dating this girl about...</td>\n",
       "      <td>0.009162</td>\n",
       "      <td>0.010253</td>\n",
       "      <td>0.017229</td>\n",
       "      <td>0.000000</td>\n",
       "      <td>0.000291</td>\n",
       "      <td>0.000000</td>\n",
       "      <td>0.001476</td>\n",
       "      <td>0.000000</td>\n",
       "      <td>0.036424</td>\n",
       "      <td>0.000000</td>\n",
       "      <td>0.000000</td>\n",
       "      <td>fear</td>\n",
       "    </tr>\n",
       "    <tr>\n",
       "      <th>32785</th>\n",
       "      <td>2019-09-13 02:47:28</td>\n",
       "      <td>d3lw9v</td>\n",
       "      <td>entry-level-job</td>\n",
       "      <td>depression</td>\n",
       "      <td>It's frustrating that I want to work but I'm n...</td>\n",
       "      <td>1568360848</td>\n",
       "      <td>All companies I interview for that then reject...</td>\n",
       "      <td>0.001286</td>\n",
       "      <td>0.000000</td>\n",
       "      <td>0.020772</td>\n",
       "      <td>0.000000</td>\n",
       "      <td>0.002703</td>\n",
       "      <td>0.002182</td>\n",
       "      <td>0.004288</td>\n",
       "      <td>0.000000</td>\n",
       "      <td>0.000000</td>\n",
       "      <td>0.000000</td>\n",
       "      <td>0.000000</td>\n",
       "      <td>work</td>\n",
       "    </tr>\n",
       "    <tr>\n",
       "      <th>32786</th>\n",
       "      <td>2019-09-13 02:41:17</td>\n",
       "      <td>d3lujy</td>\n",
       "      <td>lonelysadboii</td>\n",
       "      <td>depression</td>\n",
       "      <td>I’m a disappointment to my parents and family,...</td>\n",
       "      <td>1568360477</td>\n",
       "      <td>What’s the point of my existence? I’m a disapp...</td>\n",
       "      <td>0.000000</td>\n",
       "      <td>0.011257</td>\n",
       "      <td>0.000000</td>\n",
       "      <td>0.000916</td>\n",
       "      <td>0.000000</td>\n",
       "      <td>0.008286</td>\n",
       "      <td>0.000317</td>\n",
       "      <td>0.000365</td>\n",
       "      <td>0.000000</td>\n",
       "      <td>0.000000</td>\n",
       "      <td>0.000000</td>\n",
       "      <td>general_support</td>\n",
       "    </tr>\n",
       "    <tr>\n",
       "      <th>32787</th>\n",
       "      <td>2019-09-13 02:39:59</td>\n",
       "      <td>d3lu5k</td>\n",
       "      <td>Soulscreame</td>\n",
       "      <td>depression</td>\n",
       "      <td>Warning! This is kinda long! If theres anythin...</td>\n",
       "      <td>1568360399</td>\n",
       "      <td>All that my depression is. A theory of cowardi...</td>\n",
       "      <td>0.000766</td>\n",
       "      <td>0.008436</td>\n",
       "      <td>0.000000</td>\n",
       "      <td>0.000000</td>\n",
       "      <td>0.000000</td>\n",
       "      <td>0.000000</td>\n",
       "      <td>0.000000</td>\n",
       "      <td>0.000000</td>\n",
       "      <td>0.000000</td>\n",
       "      <td>0.000000</td>\n",
       "      <td>0.000000</td>\n",
       "      <td>general_support</td>\n",
       "    </tr>\n",
       "    <tr>\n",
       "      <th>32788</th>\n",
       "      <td>2019-09-13 02:37:30</td>\n",
       "      <td>d3ltf8</td>\n",
       "      <td>Nivonivonivonivoniv</td>\n",
       "      <td>depression</td>\n",
       "      <td>18 year old year. In my senior year of high sc...</td>\n",
       "      <td>1568360250</td>\n",
       "      <td>It really fucking pisses me off that my mom an...</td>\n",
       "      <td>0.003555</td>\n",
       "      <td>0.000000</td>\n",
       "      <td>0.003393</td>\n",
       "      <td>0.021170</td>\n",
       "      <td>0.000000</td>\n",
       "      <td>0.013715</td>\n",
       "      <td>0.011842</td>\n",
       "      <td>0.000000</td>\n",
       "      <td>0.000000</td>\n",
       "      <td>0.000000</td>\n",
       "      <td>0.000000</td>\n",
       "      <td>school</td>\n",
       "    </tr>\n",
       "  </tbody>\n",
       "</table>\n",
       "<p>32789 rows × 19 columns</p>\n",
       "</div>"
      ],
      "text/plain": [
       "                     date      id               author     subreddit  \\\n",
       "0     2019-10-11 16:39:05  dglq7k          liznormal23  mentalhealth   \n",
       "1     2019-10-11 16:34:59  dgloc1           tacobean87  mentalhealth   \n",
       "2     2019-10-11 16:22:09  dglieu             AquilaVI  mentalhealth   \n",
       "3     2019-10-11 16:18:16  dglgl6           Mrcoolbaby  mentalhealth   \n",
       "4     2019-10-11 16:15:26  dglfcf            TheA55M4N  mentalhealth   \n",
       "...                   ...     ...                  ...           ...   \n",
       "32784 2019-09-13 02:52:49  d3lxwm             tjmac411    depression   \n",
       "32785 2019-09-13 02:47:28  d3lw9v      entry-level-job    depression   \n",
       "32786 2019-09-13 02:41:17  d3lujy        lonelysadboii    depression   \n",
       "32787 2019-09-13 02:39:59  d3lu5k          Soulscreame    depression   \n",
       "32788 2019-09-13 02:37:30  d3ltf8  Nivonivonivonivoniv    depression   \n",
       "\n",
       "                                                selftext  created_utc  \\\n",
       "0      *TRIGGER WARNING: EATING DISORDER AND SUBSTANC...   1570829945   \n",
       "1      every single time i read something my mind blu...   1570829699   \n",
       "2      Hello, people! A little backstory. I'll try to...   1570828929   \n",
       "3      I feel like my life is on loop. All the same k...   1570828696   \n",
       "4                                 I wrote my story here    1570828526   \n",
       "...                                                  ...          ...   \n",
       "32784  I started dating this girl about a month ago a...   1568361169   \n",
       "32785  It's frustrating that I want to work but I'm n...   1568360848   \n",
       "32786  I’m a disappointment to my parents and family,...   1568360477   \n",
       "32787  Warning! This is kinda long! If theres anythin...   1568360399   \n",
       "32788  18 year old year. In my senior year of high sc...   1568360250   \n",
       "\n",
       "                                              text_title  professional_advice  \\\n",
       "0      Mental Health Gray Area. Please help. *TRIGGER...             0.023665   \n",
       "1      what’s wrong with me ? every single time i rea...             0.001246   \n",
       "2      I'm trying to deal with a deadly car crash. (A...             0.001903   \n",
       "3      Overwhelmed I feel like my life is on loop. Al...             0.000000   \n",
       "4          Anxiety and obsessions I wrote my story here              0.000000   \n",
       "...                                                  ...                  ...   \n",
       "32784  Need guidance I started dating this girl about...             0.009162   \n",
       "32785  All companies I interview for that then reject...             0.001286   \n",
       "32786  What’s the point of my existence? I’m a disapp...             0.000000   \n",
       "32787  All that my depression is. A theory of cowardi...             0.000766   \n",
       "32788  It really fucking pisses me off that my mom an...             0.003555   \n",
       "\n",
       "       general_support      work    school     sleep    family   suicide  \\\n",
       "0             0.008603  0.015485  0.000000  0.000000  0.000000  0.000000   \n",
       "1             0.000000  0.000000  0.000000  0.000000  0.000000  0.000000   \n",
       "2             0.000000  0.017046  0.000000  0.000000  0.006083  0.000689   \n",
       "3             0.000000  0.000000  0.000000  0.000000  0.000000  0.000000   \n",
       "4             0.000000  0.000000  0.000000  0.000000  0.000000  0.000000   \n",
       "...                ...       ...       ...       ...       ...       ...   \n",
       "32784         0.010253  0.017229  0.000000  0.000291  0.000000  0.001476   \n",
       "32785         0.000000  0.020772  0.000000  0.002703  0.002182  0.004288   \n",
       "32786         0.011257  0.000000  0.000916  0.000000  0.008286  0.000317   \n",
       "32787         0.008436  0.000000  0.000000  0.000000  0.000000  0.000000   \n",
       "32788         0.000000  0.003393  0.021170  0.000000  0.013715  0.011842   \n",
       "\n",
       "       emotions      fear  dietary_related   anxiety            max_label  \n",
       "0      0.000000  0.000000         0.039354  0.000757      dietary_related  \n",
       "1      0.000000  0.000000         0.000000  0.000000  professional_advice  \n",
       "2      0.000000  0.000000         0.000000  0.000000                 work  \n",
       "3      0.000000  0.000000         0.000000  0.000000  professional_advice  \n",
       "4      0.000000  0.000000         0.000000  0.000000  professional_advice  \n",
       "...         ...       ...              ...       ...                  ...  \n",
       "32784  0.000000  0.036424         0.000000  0.000000                 fear  \n",
       "32785  0.000000  0.000000         0.000000  0.000000                 work  \n",
       "32786  0.000365  0.000000         0.000000  0.000000      general_support  \n",
       "32787  0.000000  0.000000         0.000000  0.000000      general_support  \n",
       "32788  0.000000  0.000000         0.000000  0.000000               school  \n",
       "\n",
       "[32789 rows x 19 columns]"
      ]
     },
     "execution_count": 144,
     "metadata": {},
     "output_type": "execute_result"
    }
   ],
   "source": [
    "docs = df_full_clean[cols_of_interest + ['created_utc', 'text_title']].reset_index().drop(columns=['index', 'title'])\n",
    "\n",
    "docs['professional_advice'] = general\n",
    "docs['general_support']= advice_support\n",
    "docs['work'] = work\n",
    "docs['school'] = school\n",
    "docs['sleep'] = sleep\n",
    "docs['family'] = family\n",
    "docs['suicide'] = suicide\n",
    "# docs['relationships'] = relationship\n",
    "docs['emotions'] = emotion\n",
    "docs['fear'] = fear\n",
    "docs ['dietary_related'] = eating_disorder\n",
    "docs['anxiety'] = anxiety\n",
    "\n",
    "docs['max_label'] = docs.select_dtypes(include=['float64']).idxmax(axis=1)\n",
    "topic_doc_df = docs.copy()\n",
    "topic_doc_df"
   ]
  },
  {
   "cell_type": "code",
   "execution_count": 145,
   "metadata": {},
   "outputs": [
    {
     "data": {
      "text/html": [
       "<div>\n",
       "<style scoped>\n",
       "    .dataframe tbody tr th:only-of-type {\n",
       "        vertical-align: middle;\n",
       "    }\n",
       "\n",
       "    .dataframe tbody tr th {\n",
       "        vertical-align: top;\n",
       "    }\n",
       "\n",
       "    .dataframe thead th {\n",
       "        text-align: right;\n",
       "    }\n",
       "</style>\n",
       "<table border=\"1\" class=\"dataframe\">\n",
       "  <thead>\n",
       "    <tr style=\"text-align: right;\">\n",
       "      <th></th>\n",
       "      <th>date</th>\n",
       "      <th>id</th>\n",
       "      <th>author</th>\n",
       "      <th>subreddit</th>\n",
       "      <th>selftext</th>\n",
       "      <th>created_utc</th>\n",
       "      <th>text_title</th>\n",
       "      <th>professional_advice</th>\n",
       "      <th>general_support</th>\n",
       "      <th>work</th>\n",
       "      <th>school</th>\n",
       "      <th>sleep</th>\n",
       "      <th>family</th>\n",
       "      <th>suicide</th>\n",
       "      <th>emotions</th>\n",
       "      <th>fear</th>\n",
       "      <th>dietary_related</th>\n",
       "      <th>anxiety</th>\n",
       "      <th>max_label</th>\n",
       "    </tr>\n",
       "  </thead>\n",
       "  <tbody>\n",
       "    <tr>\n",
       "      <th>305</th>\n",
       "      <td>2019-10-04 17:29:51</td>\n",
       "      <td>dden50</td>\n",
       "      <td>digestivetable</td>\n",
       "      <td>mentalhealth</td>\n",
       "      <td>Hey everyone, I just wanted to share some thin...</td>\n",
       "      <td>1570228191</td>\n",
       "      <td>Something I wanted to share.. Hey everyone, I ...</td>\n",
       "      <td>0.007775</td>\n",
       "      <td>0.0</td>\n",
       "      <td>0.005295</td>\n",
       "      <td>0.019716</td>\n",
       "      <td>0.0</td>\n",
       "      <td>0.0</td>\n",
       "      <td>0.001987</td>\n",
       "      <td>0.0</td>\n",
       "      <td>0.0</td>\n",
       "      <td>0.010134</td>\n",
       "      <td>0.0</td>\n",
       "      <td>school</td>\n",
       "    </tr>\n",
       "  </tbody>\n",
       "</table>\n",
       "</div>"
      ],
      "text/plain": [
       "                   date      id          author     subreddit  \\\n",
       "305 2019-10-04 17:29:51  dden50  digestivetable  mentalhealth   \n",
       "\n",
       "                                              selftext  created_utc  \\\n",
       "305  Hey everyone, I just wanted to share some thin...   1570228191   \n",
       "\n",
       "                                            text_title  professional_advice  \\\n",
       "305  Something I wanted to share.. Hey everyone, I ...             0.007775   \n",
       "\n",
       "     general_support      work    school  sleep  family   suicide  emotions  \\\n",
       "305              0.0  0.005295  0.019716    0.0     0.0  0.001987       0.0   \n",
       "\n",
       "     fear  dietary_related  anxiety max_label  \n",
       "305   0.0         0.010134      0.0    school  "
      ]
     },
     "execution_count": 145,
     "metadata": {},
     "output_type": "execute_result"
    }
   ],
   "source": [
    "topic_doc_df[topic_doc_df.id == 'dden50']"
   ]
  },
  {
   "cell_type": "code",
   "execution_count": 160,
   "metadata": {},
   "outputs": [
    {
     "data": {
      "text/plain": [
       "array([Timestamp('2020-08-17 08:41:59'), 'ibecqp', 'lonelyvampire5',\n",
       "       'mentalhealth',\n",
       "       'i’ve been struggling with depression and anxiety for 3 years (almost 4) now. i have only consulted one psychiatrist about it who diagnosed me with depression (recently )but i don’t want to continue because i’m scared that i’ll have to tell him everything.  one of the reasons for my depression is that i was sexually assaulted when i was 16. but i don’t want to tell my therapist/ doctor because i am scared that he will tell my parents about it because it’s kind of a big deal. and i don’t want my parents to know just yet. i’m not ready to tell them even tho i’m 19 now.  that’s the reason why i don’t want to see a therapist.  will they tell my parents about it ? is it important for you to tell your therapist everything in order to get better?',\n",
       "       1597671719,\n",
       "       'Do you have to tell your therapist everything? i’ve been struggling with depression and anxiety for 3 years (almost 4) now. i have only consulted one psychiatrist about it who diagnosed me with depression (recently )but i don’t want to continue because i’m scared that i’ll have to tell him everything.  one of the reasons for my depression is that i was sexually assaulted when i was 16. but i don’t want to tell my therapist/ doctor because i am scared that he will tell my parents about it because it’s kind of a big deal. and i don’t want my parents to know just yet. i’m not ready to tell them even tho i’m 19 now.  that’s the reason why i don’t want to see a therapist.  will they tell my parents about it ? is it important for you to tell your therapist everything in order to get better?',\n",
       "       0.052918166605620966, 0.0, 0.0, 0.0027051158073810883, 0.0,\n",
       "       0.01543155995823307, 0.0, 0.0, 0.039131810682658766, 0.0, 0.0,\n",
       "       'professional_advice', 0], dtype=object)"
      ]
     },
     "execution_count": 160,
     "metadata": {},
     "output_type": "execute_result"
    }
   ],
   "source": [
    "testing = topic_doc_df.sort_values(by=['professional_advice'], ascending=False)\n",
    "testing.values[10]"
   ]
  },
  {
   "cell_type": "code",
   "execution_count": 65,
   "metadata": {},
   "outputs": [],
   "source": [
    "# talk_adv = reg_doc_topic[:,1]\n",
    "# school = reg_doc_topic[:,2]\n",
    "# work = reg_doc_topic[:,3]\n",
    "# sleep = reg_doc_topic[:,4]\n",
    "# family = reg_doc_topic[:,6]\n",
    "# counseling = reg_doc_topic[:,7]\n",
    "# # relationship=reg_doc_topic[:,8]\n",
    "# emotions = reg_doc_topic[:,9]\n",
    "# fear = reg_doc_topic[:,10]\n",
    "# suicide = reg_doc_topic[:,11]\n",
    "# eating_disorder = doc_topic_lemma[:,-1]\n",
    "# anxiety = doc_topic_anxiety[:,-1]"
   ]
  },
  {
   "cell_type": "code",
   "execution_count": 161,
   "metadata": {
    "scrolled": true
   },
   "outputs": [
    {
     "data": {
      "image/png": "[encoded data removed]",
      "text/plain": [
       "<Figure size 432x288 with 1 Axes>"
      ]
     },
     "metadata": {
      "needs_background": "light"
     },
     "output_type": "display_data"
    }
   ],
   "source": [
    "topic_doc_df.max_label.value_counts(normalize=True).plot(kind=\"barh\");"
   ]
  },
  {
   "cell_type": "code",
   "execution_count": 162,
   "metadata": {},
   "outputs": [
    {
     "name": "stdout",
     "output_type": "stream",
     "text": [
      "1584680400\n"
     ]
    }
   ],
   "source": [
    "s = \"03/20/2020\"\n",
    "epoch = int(time.mktime(datetime.datetime.strptime(s, \"%m/%d/%Y\").timetuple()))\n",
    "print(epoch)"
   ]
  },
  {
   "cell_type": "code",
   "execution_count": 233,
   "metadata": {},
   "outputs": [],
   "source": [
    "jan = topic_doc_df[(topic_doc_df.date.dt.month == 1) & (topic_doc_df.date.dt.year == 2020)]\n",
    "feb = topic_doc_df[(topic_doc_df.date.dt.month == 2) & (topic_doc_df.date.dt.year == 2020)]"
   ]
  },
  {
   "cell_type": "code",
   "execution_count": 278,
   "metadata": {},
   "outputs": [],
   "source": [
    "topic_doc_df['month'] = topic_doc_df.date.dt.month"
   ]
  },
  {
   "cell_type": "code",
   "execution_count": 327,
   "metadata": {},
   "outputs": [
    {
     "data": {
      "image/png": "[encoded data removed]",
      "text/plain": [
       "<Figure size 432x288 with 1 Axes>"
      ]
     },
     "metadata": {
      "needs_background": "light"
     },
     "output_type": "display_data"
    },
    {
     "data": {
      "image/png": "[encoded data removed]",
      "text/plain": [
       "<Figure size 432x288 with 1 Axes>"
      ]
     },
     "metadata": {
      "needs_background": "light"
     },
     "output_type": "display_data"
    },
    {
     "data": {
      "image/png": "[encoded data removed]",
      "text/plain": [
       "<Figure size 432x288 with 1 Axes>"
      ]
     },
     "metadata": {
      "needs_background": "light"
     },
     "output_type": "display_data"
    },
    {
     "data": {
      "image/png": "[encoded data removed]",
      "text/plain": [
       "<Figure size 432x288 with 1 Axes>"
      ]
     },
     "metadata": {
      "needs_background": "light"
     },
     "output_type": "display_data"
    },
    {
     "data": {
      "image/png": "[encoded data removed]",
      "text/plain": [
       "<Figure size 432x288 with 1 Axes>"
      ]
     },
     "metadata": {
      "needs_background": "light"
     },
     "output_type": "display_data"
    },
    {
     "data": {
      "image/png": "[encoded data removed]",
      "text/plain": [
       "<Figure size 432x288 with 1 Axes>"
      ]
     },
     "metadata": {
      "needs_background": "light"
     },
     "output_type": "display_data"
    },
    {
     "data": {
      "image/png": "[encoded data removed]",
      "text/plain": [
       "<Figure size 432x288 with 1 Axes>"
      ]
     },
     "metadata": {
      "needs_background": "light"
     },
     "output_type": "display_data"
    },
    {
     "data": {
      "image/png": "[encoded data removed]",
      "text/plain": [
       "<Figure size 432x288 with 1 Axes>"
      ]
     },
     "metadata": {
      "needs_background": "light"
     },
     "output_type": "display_data"
    },
    {
     "data": {
      "image/png": "[encoded data removed]",
      "text/plain": [
       "<Figure size 432x288 with 1 Axes>"
      ]
     },
     "metadata": {
      "needs_background": "light"
     },
     "output_type": "display_data"
    },
    {
     "data": {
      "image/png": "[encoded data removed]",
      "text/plain": [
       "<Figure size 432x288 with 1 Axes>"
      ]
     },
     "metadata": {
      "needs_background": "light"
     },
     "output_type": "display_data"
    },
    {
     "data": {
      "image/png": "[encoded data removed]",
      "text/plain": [
       "<Figure size 432x288 with 1 Axes>"
      ]
     },
     "metadata": {
      "needs_background": "light"
     },
     "output_type": "display_data"
    }
   ],
   "source": [
    "for col in topic_doc_df.select_dtypes('float').columns.to_list():\n",
    "    plt.title(col)\n",
    "    topic_doc_df.groupby('month')[col].mean().plot()\n",
    "    plt.show()"
   ]
  },
  {
   "cell_type": "code",
   "execution_count": 283,
   "metadata": {},
   "outputs": [
    {
     "data": {
      "image/png": "[encoded data removed]",
      "text/plain": [
       "<Figure size 720x504 with 1 Axes>"
      ]
     },
     "metadata": {
      "needs_background": "light"
     },
     "output_type": "display_data"
    }
   ],
   "source": [
    "months = feb.max_label.value_counts(normalize=True).to_frame().merge(jan.max_label.value_counts(normalize=True).to_frame(), right_index=True, left_index=True)\n",
    "months.columns = ['feb', 'jan']\n",
    "months.plot.barh(figsize=(10,7));"
   ]
  },
  {
   "cell_type": "code",
   "execution_count": null,
   "metadata": {},
   "outputs": [],
   "source": []
  }
 ],
 "metadata": {
  "kernelspec": {
   "display_name": "Python 3",
   "language": "python",
   "name": "python3"
  },
  "language_info": {
   "codemirror_mode": {
    "name": "ipython",
    "version": 3
   },
   "file_extension": ".py",
   "mimetype": "text/x-python",
   "name": "python",
   "nbconvert_exporter": "python",
   "pygments_lexer": "ipython3",
   "version": "3.7.4"
  }
 },
 "nbformat": 4,
 "nbformat_minor": 4
}
