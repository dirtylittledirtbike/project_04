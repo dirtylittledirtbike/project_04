{
 "cells": [
  {
   "cell_type": "code",
   "execution_count": 1,
   "metadata": {},
   "outputs": [],
   "source": [
    "import requests\n",
    "import pandas as pd\n",
    "from datetime import datetime\n",
    "\n",
    "\n",
    "# url = \"https://api.pushshift.io/reddit/search/submission\"\n",
    "# params = {\"subreddit\": 'depression', \"size\": 500, \"sort\": \"desc\", \"sort_type\": \"created_utc\"}\n",
    "\n",
    "# submissions = requests.get(url, params = params)\n",
    "# submissions"
   ]
  },
  {
   "cell_type": "code",
   "execution_count": null,
   "metadata": {},
   "outputs": [],
   "source": [
    "submissions.json()['data'][0]"
   ]
  },
  {
   "cell_type": "code",
   "execution_count": null,
   "metadata": {},
   "outputs": [],
   "source": [
    "pd.DataFrame(submissions.json()['data'])"
   ]
  },
  {
   "cell_type": "code",
   "execution_count": null,
   "metadata": {},
   "outputs": [],
   "source": [
    "# datetime.fromtimestamp(1604099574)\n",
    "a = datetime.fromtimestamp(1604099574)\n",
    "print(a)"
   ]
  },
  {
   "cell_type": "code",
   "execution_count": null,
   "metadata": {},
   "outputs": [],
   "source": [
    "timestamp = 1604099574\n",
    "dt_object = datetime.fromtimestamp(1604099574)\n",
    "\n",
    "print(dt_object)"
   ]
  },
  {
   "cell_type": "code",
   "execution_count": null,
   "metadata": {},
   "outputs": [],
   "source": [
    "last_submission_time = submissions.json()[\"data\"][-1][\"created_utc\"]\n",
    "params = {\"subreddit\" : \"depression\", \"before\" : last_submission_time}\n",
    "submissions = requests.get(url, params = params)"
   ]
  },
  {
   "cell_type": "code",
   "execution_count": null,
   "metadata": {},
   "outputs": [],
   "source": [
    "last_submission_time"
   ]
  },
  {
   "cell_type": "code",
   "execution_count": null,
   "metadata": {},
   "outputs": [],
   "source": [
    "submissions.json()['data'][-2]"
   ]
  },
  {
   "cell_type": "code",
   "execution_count": null,
   "metadata": {},
   "outputs": [],
   "source": [
    "# import requests\n",
    "\n",
    "# url = \"https://api.pushshift.io/reddit/search/submission\"\n",
    "\n",
    "# def crawl_page(subreddit: str, last_page = None):\n",
    "#     \"\"\"Crawl a page of results from a given subreddit.\n",
    "\n",
    "#     :param subreddit: The subreddit to crawl.\n",
    "#     :param last_page: The last downloaded page.\n",
    "\n",
    "#     :return: A page or results.\n",
    "#     \"\"\"\n",
    "#     params = {\"subreddit\": subreddit, \"size\": 500, \"sort\": \"desc\", \"sort_type\": \"created_utc\"}\n",
    "#     if last_page is not None:\n",
    "#         if len(last_page) > 0:\n",
    "#             # resume from where we left at the last page\n",
    "#             params[\"before\"] = last_page[-1][\"created_utc\"]\n",
    "#         else:\n",
    "#             # the last page was empty, we are past the last page\n",
    "#             return []\n",
    "#     results = requests.get(url, params)\n",
    "#     if not results.ok:\n",
    "#     # something wrong happened\n",
    "#         raise Exception(\"Server returned status code {}\".format(results.status_code))\n",
    "#     return results.json()[\"data\"]"
   ]
  },
  {
   "cell_type": "code",
   "execution_count": null,
   "metadata": {},
   "outputs": [],
   "source": [
    "# import time\n",
    "\n",
    "# def crawl_subreddit(subreddit, max_submissions = 3):\n",
    "#     submissions = []\n",
    "#     last_page = None\n",
    "#     while last_page != [] and len(submissions) < max_submissions:\n",
    "#         last_page = crawl_page(subreddit, last_page)\n",
    "#         submissions += last_page\n",
    "#         time.sleep(4)\n",
    "#     return submissions[:max_submissions]"
   ]
  },
  {
   "cell_type": "code",
   "execution_count": null,
   "metadata": {},
   "outputs": [],
   "source": [
    "# lastest_submissions = crawl_subreddit(\"depression\")"
   ]
  },
  {
   "cell_type": "code",
   "execution_count": null,
   "metadata": {},
   "outputs": [],
   "source": [
    "# json_list = []\n",
    "# url = \"https://api.pushshift.io/reddit/search/submission\"\n",
    "# params = {\"subreddit\": 'depression', \"size\": 500, \"sort\": \"desc\", \"sort_type\": \"created_utc\"}\n",
    "\n",
    "# for i in range(500):\n",
    "    \n",
    "\n",
    "#     print(i)\n",
    "#     results = requests.get(url, params)\n",
    "    \n",
    "#     # if results dont return error\n",
    "#     # set the before paramater for the next iteration\n",
    "#     # to the created_utc of the last submission we scaped\n",
    "#     if results.ok:\n",
    "#         params['before'] = results.json()['data'][-1]['created_utc']\n",
    "#         json_list += results.json()[\"data\"]\n",
    "#     else:\n",
    "#         print('error')\n",
    "#         params['before'] = json_list[-1]['created_utc']\n",
    "   \n",
    "# #     sleep_time = np.log(np.random.randint(1,12))\n",
    "#     time.sleep(3)\n",
    "    "
   ]
  },
  {
   "cell_type": "code",
   "execution_count": null,
   "metadata": {},
   "outputs": [],
   "source": [
    "# test['timestamp'] = test['created_utc'].apply(lambda x: datetime.fromtimestamp(x))"
   ]
  },
  {
   "cell_type": "code",
   "execution_count": null,
   "metadata": {},
   "outputs": [],
   "source": [
    "# test[['timestamp', 'id', 'author', 'subreddit', 'title', 'selftext']]\n",
    "# test.to_csv('depression_large.csv')"
   ]
  },
  {
   "cell_type": "code",
   "execution_count": null,
   "metadata": {},
   "outputs": [],
   "source": [
    "# lastest_submissions = crawl_subreddit(\"depression\")"
   ]
  },
  {
   "cell_type": "code",
   "execution_count": 2,
   "metadata": {},
   "outputs": [],
   "source": [
    "from random import randrange\n",
    "from datetime import timedelta\n",
    "\n",
    "def random_date(start, end):\n",
    "    \"\"\"\n",
    "    This function will return a random datetime between two datetime \n",
    "    objects.\n",
    "    \"\"\"\n",
    "    delta = end - start\n",
    "    int_delta = (delta.days * 24 * 60 * 60) + delta.seconds\n",
    "    random_second = randrange(int_delta)\n",
    "    return start + timedelta(seconds=random_second)"
   ]
  },
  {
   "cell_type": "code",
   "execution_count": 10,
   "metadata": {
    "scrolled": false
   },
   "outputs": [
    {
     "name": "stdout",
     "output_type": "stream",
     "text": [
      "2019-08-28 07:03:04\n",
      "2019-08-14 08:24:01\n",
      "2019-08-22 10:09:32\n",
      "2019-08-09 01:28:27\n",
      "2019-08-24 04:34:25\n",
      "2019-08-07 14:25:34\n",
      "2019-08-02 19:41:53\n",
      "2019-08-09 01:56:42\n",
      "2019-08-19 06:44:20\n",
      "2019-08-17 02:41:22\n",
      "2019-08-01 20:09:13\n",
      "2019-08-24 16:26:39\n",
      "2019-08-25 04:30:50\n",
      "2019-09-02 06:05:30\n",
      "2019-09-25 00:15:43\n",
      "2019-09-19 19:35:36\n",
      "2019-09-24 17:16:37\n",
      "2019-09-07 06:18:30\n",
      "2019-09-13 12:56:57\n",
      "2019-09-08 20:36:29\n",
      "2019-09-03 08:05:27\n",
      "2019-09-04 22:34:00\n",
      "2019-09-07 20:57:52\n",
      "2019-09-23 15:17:02\n",
      "2019-09-03 00:57:43\n",
      "2019-09-13 09:27:53\n"
     ]
    }
   ],
   "source": [
    "# sample 13 random days from each month.\n",
    "# and convert to timestamp so we can grab post from\n",
    "# the subreddit for those dates \n",
    "\n",
    "rand_dates = []\n",
    "rand_dates_utc = []\n",
    "\n",
    "# kind of lazy but doing this because i want to \n",
    "# get post from october of last year to this year.\n",
    "# months = [10, 11, 12, 1, 2, 3, 4, 5, 6, 7, 8, 9, 10]\n",
    "months = [8,9]\n",
    "year = 2019\n",
    "\n",
    "for month in months: \n",
    "        \n",
    "    for i in range(13):\n",
    "        d1 = datetime.strptime('{}/1/{} 12:00 PM'.format(month, year), '%m/%d/%Y %I:%M %p')\n",
    "        d2 = datetime.strptime('{}/28/{} 12:00 PM'.format(month, year), '%m/%d/%Y %I:%M %p')\n",
    "        \n",
    "        date = random_date(d1, d2)\n",
    "        print(date)\n",
    "        rand_dates.append(date)\n",
    "        rand_dates_utc.append(datetime.timestamp(date))\n",
    "    if month == 12:\n",
    "        year = 2020"
   ]
  },
  {
   "cell_type": "code",
   "execution_count": null,
   "metadata": {},
   "outputs": [],
   "source": [
    "len(rand_dates) * 100"
   ]
  },
  {
   "cell_type": "code",
   "execution_count": null,
   "metadata": {},
   "outputs": [],
   "source": [
    "print(rand_dates[0])"
   ]
  },
  {
   "cell_type": "code",
   "execution_count": null,
   "metadata": {},
   "outputs": [],
   "source": [
    "print(rand_dates_utc[0])"
   ]
  },
  {
   "cell_type": "code",
   "execution_count": 4,
   "metadata": {},
   "outputs": [],
   "source": [
    "subreddit = 'mentalhealth'\n",
    "url = \"https://api.pushshift.io/reddit/search/submission\"\n",
    "params = {\"subreddit\": subreddit, \"size\": 100, \"sort\": \"desc\", \"sort_type\": \"created_utc\"}\n",
    "params['before'] = int(rand_dates_utc[-1])\n",
    "results = requests.get(url, params)"
   ]
  },
  {
   "cell_type": "code",
   "execution_count": null,
   "metadata": {},
   "outputs": [],
   "source": [
    "# results.json()['data'][0]"
   ]
  },
  {
   "cell_type": "code",
   "execution_count": 11,
   "metadata": {
    "scrolled": true
   },
   "outputs": [
    {
     "name": "stdout",
     "output_type": "stream",
     "text": [
      "<Response [200]> 1566993784.0 1\n",
      "<Response [200]> 1565789041.0 2\n",
      "<Response [200]> 1566486572.0 0\n",
      "<Response [200]> 1565332107.0 0\n",
      "<Response [502]> 1566639265.0 3\n",
      "<Response [200]> 1565205934.0 3\n",
      "<Response [200]> 1564792913.0 2\n",
      "<Response [200]> 1565333802.0 2\n",
      "<Response [200]> 1566215060.0 2\n",
      "<Response [502]> 1566027682.0 3\n",
      "<Response [200]> 1564708153.0 0\n",
      "<Response [200]> 1566681999.0 2\n",
      "<Response [200]> 1566725450.0 2\n",
      "<Response [502]> 1567422330.0 3\n",
      "<Response [502]> 1569388543.0 3\n",
      "<Response [200]> 1568939736.0 2\n",
      "<Response [200]> 1569363397.0 2\n",
      "<Response [522]> 1567855110.0 3\n",
      "<Response [200]> 1568397417.0 2\n",
      "<Response [200]> 1567992989.0 0\n",
      "<Response [200]> 1567515927.0 1\n",
      "<Response [200]> 1567654440.0 0\n",
      "<Response [200]> 1567907872.0 2\n",
      "<Response [200]> 1569269822.0 0\n",
      "<Response [200]> 1567490263.0 2\n",
      "<Response [200]> 1568384873.0 1\n"
     ]
    }
   ],
   "source": [
    "json_list = []\n",
    "subreddit = 'depression'\n",
    "for utc in rand_dates_utc:\n",
    "    url = \"https://api.pushshift.io/reddit/search/submission\"\n",
    "    params = {\"subreddit\": subreddit, \"size\": 100, \"sort\": \"desc\", \"sort_type\": \"created_utc\"}\n",
    "    params['before'] = int(utc)\n",
    "    results = requests.get(url, params)\n",
    "    \n",
    "#     creating condition to try again three times\n",
    "#     if we get an error for a utc\n",
    "    counter = 0\n",
    "    while not results.ok and counter < 3:\n",
    "        params['before'] = int(utc)\n",
    "        results = requests.get(url, params)\n",
    "        counter += 1\n",
    "\n",
    "        \n",
    "    print(results, utc, counter)\n",
    "    if results.ok:\n",
    "        json_list+=results.json()[\"data\"]\n",
    "        \n",
    "#     time.sleep(3)\n",
    "    \n",
    "    "
   ]
  },
  {
   "cell_type": "code",
   "execution_count": 14,
   "metadata": {},
   "outputs": [],
   "source": [
    "depression = pd.DataFrame(json_list)\n",
    "depression['date'] = depression['created_utc'].apply(lambda x: datetime.fromtimestamp(x))\n",
    "depression.groupby('id').size().value_counts()\n",
    "depression.to_csv('depression_rand_large2.csv')\n"
   ]
  },
  {
   "cell_type": "code",
   "execution_count": 7,
   "metadata": {},
   "outputs": [],
   "source": [
    "# mh_df = pd.DataFrame(json_list)\n",
    "# mh_df['date'] = mh_df['created_utc'].apply(lambda x: datetime.fromtimestamp(x))\n",
    "# addiction_df.to_csv('addiction_rand_large.csv')"
   ]
  },
  {
   "cell_type": "code",
   "execution_count": 8,
   "metadata": {},
   "outputs": [
    {
     "data": {
      "text/plain": [
       "1    1482\n",
       "2     259\n",
       "dtype: int64"
      ]
     },
     "execution_count": 8,
     "metadata": {},
     "output_type": "execute_result"
    }
   ],
   "source": [
    "mh_df.groupby('id').size().value_counts()"
   ]
  },
  {
   "cell_type": "code",
   "execution_count": 9,
   "metadata": {},
   "outputs": [],
   "source": [
    "# mh_df.to_csv('mh_rand_large2.csv')"
   ]
  },
  {
   "cell_type": "code",
   "execution_count": null,
   "metadata": {},
   "outputs": [],
   "source": [
    "# mh_df.groupby('id').size().value_counts()"
   ]
  },
  {
   "cell_type": "code",
   "execution_count": null,
   "metadata": {},
   "outputs": [],
   "source": [
    "cols_of_interest = ['date', 'id', 'author', 'subreddit', 'title', 'selftext']\n",
    "addict_filtered = addiction_df[cols_of_interest]\n",
    "addict_filtered[addict_filtered.id=='dfrs6m']"
   ]
  },
  {
   "cell_type": "code",
   "execution_count": null,
   "metadata": {},
   "outputs": [],
   "source": [
    "depression_df = pd.DataFrame(json_list)\n",
    "depression_df.groupby('id').size().sort_values(ascending=False)\n",
    "depression_df['date'] = depression_df['created_utc'].apply(lambda x: datetime.fromtimestamp(x))\n",
    "depression_df.to_csv('depression_rand_large2.csv')\n",
    "# depression_df"
   ]
  },
  {
   "cell_type": "code",
   "execution_count": null,
   "metadata": {},
   "outputs": [],
   "source": [
    "testing_df = pd.read_csv('data/depression_rand_large.csv')\n",
    "# testing_df[['id', 'date', '']]"
   ]
  },
  {
   "cell_type": "code",
   "execution_count": null,
   "metadata": {},
   "outputs": [],
   "source": [
    "cols_of_interest = ['date', 'id', 'author', 'subreddit', 'title', 'selftext']\n",
    "testing_df[cols_of_interest]"
   ]
  },
  {
   "cell_type": "code",
   "execution_count": null,
   "metadata": {},
   "outputs": [],
   "source": []
  }
 ],
 "metadata": {
  "kernelspec": {
   "display_name": "Python 3",
   "language": "python",
   "name": "python3"
  },
  "language_info": {
   "codemirror_mode": {
    "name": "ipython",
    "version": 3
   },
   "file_extension": ".py",
   "mimetype": "text/x-python",
   "name": "python",
   "nbconvert_exporter": "python",
   "pygments_lexer": "ipython3",
   "version": "3.7.4"
  }
 },
 "nbformat": 4,
 "nbformat_minor": 4
}
