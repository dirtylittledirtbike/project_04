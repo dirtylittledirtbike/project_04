{
 "cells": [
  {
   "cell_type": "code",
   "execution_count": 1,
   "metadata": {},
   "outputs": [],
   "source": [
    "import requests\n",
    "import pandas as pd\n",
    "from datetime import datetime\n",
    "\n",
    "\n",
    "# url = \"https://api.pushshift.io/reddit/search/submission\"\n",
    "# params = {\"subreddit\": 'depression', \"size\": 500, \"sort\": \"desc\", \"sort_type\": \"created_utc\"}\n",
    "\n",
    "# submissions = requests.get(url, params = params)\n",
    "# submissions"
   ]
  },
  {
   "cell_type": "code",
   "execution_count": 3,
   "metadata": {},
   "outputs": [],
   "source": [
    "from random import randrange\n",
    "from datetime import timedelta\n",
    "\n",
    "# return a random datetime between two datetime objects.\n",
    "def random_date(start, end):\n",
    "    delta = end - start\n",
    "    int_delta = (delta.days * 24 * 60 * 60) + delta.seconds\n",
    "    random_second = randrange(int_delta)\n",
    "    return start + timedelta(seconds=random_second)"
   ]
  },
  {
   "cell_type": "code",
   "execution_count": 19,
   "metadata": {
    "scrolled": false
   },
   "outputs": [
    {
     "name": "stdout",
     "output_type": "stream",
     "text": [
      "2019-01-07 05:27:14\n",
      "2019-01-13 02:51:05\n",
      "2019-01-19 23:55:03\n",
      "2019-01-28 11:41:58\n",
      "2019-01-27 16:29:46\n",
      "2019-01-09 15:51:56\n",
      "2019-01-26 23:01:02\n",
      "2019-01-21 16:49:24\n",
      "2019-01-20 17:22:47\n",
      "2019-01-24 07:03:45\n",
      "2019-01-08 13:07:40\n",
      "2019-01-01 21:40:09\n",
      "2019-02-10 23:49:34\n",
      "2019-02-02 19:58:09\n",
      "2019-02-15 09:30:01\n",
      "2019-02-20 16:30:32\n",
      "2019-02-03 07:47:08\n",
      "2019-02-11 00:17:34\n",
      "2019-02-04 14:22:45\n",
      "2019-02-13 03:30:49\n",
      "2019-02-09 03:10:20\n",
      "2019-02-01 22:51:21\n",
      "2019-02-19 14:37:23\n",
      "2019-02-15 16:56:18\n",
      "2019-03-10 13:50:30\n",
      "2019-03-06 04:49:26\n",
      "2019-03-26 05:32:52\n",
      "2019-03-25 23:56:04\n",
      "2019-03-23 12:17:00\n",
      "2019-03-03 09:33:17\n",
      "2019-03-02 18:25:08\n",
      "2019-03-03 12:47:40\n",
      "2019-03-04 15:56:40\n",
      "2019-03-16 09:10:07\n",
      "2019-03-22 21:42:26\n",
      "2019-03-03 04:59:44\n",
      "2019-04-12 13:07:58\n",
      "2019-04-27 14:33:13\n",
      "2019-04-05 16:26:26\n",
      "2019-04-09 05:48:27\n",
      "2019-04-09 05:32:31\n",
      "2019-04-04 15:56:37\n",
      "2019-04-09 00:04:03\n",
      "2019-04-19 12:31:49\n",
      "2019-04-02 00:49:33\n",
      "2019-04-04 05:05:38\n",
      "2019-04-16 11:03:40\n",
      "2019-04-04 22:32:38\n",
      "2019-05-19 22:09:46\n",
      "2019-05-04 08:09:39\n",
      "2019-05-11 03:24:18\n",
      "2019-05-18 07:17:04\n",
      "2019-05-02 03:51:54\n",
      "2019-05-12 00:50:42\n",
      "2019-05-17 06:22:58\n",
      "2019-05-02 22:59:25\n",
      "2019-05-19 03:49:47\n",
      "2019-05-18 15:00:58\n",
      "2019-05-01 15:47:03\n",
      "2019-05-11 19:17:39\n",
      "2019-06-05 03:46:10\n",
      "2019-06-09 09:35:16\n",
      "2019-06-14 18:01:58\n",
      "2019-06-16 05:19:16\n",
      "2019-06-21 06:27:38\n",
      "2019-06-27 02:33:40\n",
      "2019-06-15 04:12:14\n",
      "2019-06-08 09:18:29\n",
      "2019-06-15 14:49:09\n",
      "2019-06-03 23:06:33\n",
      "2019-06-04 10:55:55\n",
      "2019-06-07 09:09:11\n",
      "2019-07-01 16:13:41\n",
      "2019-07-08 18:05:27\n",
      "2019-07-22 06:51:09\n",
      "2019-07-16 08:54:35\n",
      "2019-07-07 01:39:19\n",
      "2019-07-13 21:25:51\n",
      "2019-07-08 21:28:16\n",
      "2019-07-12 11:34:13\n",
      "2019-07-05 21:39:07\n",
      "2019-07-05 23:56:41\n",
      "2019-07-17 20:15:02\n",
      "2019-07-09 00:43:02\n",
      "2019-08-04 21:02:31\n",
      "2019-08-17 22:59:19\n",
      "2019-08-21 20:19:03\n",
      "2019-08-23 17:57:06\n",
      "2019-08-27 08:19:33\n",
      "2019-08-20 06:00:43\n",
      "2019-08-14 01:46:29\n",
      "2019-08-24 21:07:19\n",
      "2019-08-25 21:29:05\n",
      "2019-08-05 23:08:28\n",
      "2019-08-19 06:53:18\n",
      "2019-08-16 02:49:10\n",
      "2019-09-21 13:27:52\n",
      "2019-09-15 13:07:22\n",
      "2019-09-02 09:12:27\n",
      "2019-09-19 11:11:57\n",
      "2019-09-21 01:23:04\n",
      "2019-09-06 07:13:56\n",
      "2019-09-05 02:49:11\n",
      "2019-09-25 18:03:04\n",
      "2019-09-04 07:14:12\n",
      "2019-09-20 16:34:54\n",
      "2019-09-09 16:01:44\n",
      "2019-09-08 15:11:48\n",
      "2019-10-25 06:11:44\n",
      "2019-10-08 01:57:17\n",
      "2019-10-16 03:32:08\n",
      "2019-10-11 00:10:15\n",
      "2019-10-11 03:29:53\n",
      "2019-10-08 21:39:35\n",
      "2019-10-22 02:55:11\n",
      "2019-10-06 09:51:14\n",
      "2019-10-02 15:35:54\n",
      "2019-10-14 08:34:11\n",
      "2019-10-05 20:09:39\n",
      "2019-10-21 17:42:19\n"
     ]
    }
   ],
   "source": [
    "# sample 13 random days from each month.\n",
    "# and convert to timestamp so we can grab post from\n",
    "# the subreddit for those dates \n",
    "\n",
    "rand_dates = []\n",
    "rand_dates_utc = []\n",
    "\n",
    "# kind of lazy but doing this because i keep changing the \n",
    "# months around\n",
    "months = [1, 2, 3, 4, 5, 6, 7, 8, 9, 10]\n",
    "# months = [8,9]\n",
    "year = 2019\n",
    "\n",
    "for month in months: \n",
    "        \n",
    "    for i in range(12):\n",
    "        d1 = datetime.strptime('{}/1/{} 12:00 PM'.format(month, year), '%m/%d/%Y %I:%M %p')\n",
    "        d2 = datetime.strptime('{}/28/{} 12:00 PM'.format(month, year), '%m/%d/%Y %I:%M %p')\n",
    "        \n",
    "        date = random_date(d1, d2)\n",
    "        print(date)\n",
    "        rand_dates.append(date)\n",
    "        rand_dates_utc.append(datetime.timestamp(date))\n",
    "    if month == 12:\n",
    "        year = 2020"
   ]
  },
  {
   "cell_type": "code",
   "execution_count": 12,
   "metadata": {},
   "outputs": [
    {
     "data": {
      "text/plain": [
       "24000"
      ]
     },
     "execution_count": 12,
     "metadata": {},
     "output_type": "execute_result"
    }
   ],
   "source": [
    "(len(rand_dates) * 100)*2"
   ]
  },
  {
   "cell_type": "code",
   "execution_count": 13,
   "metadata": {},
   "outputs": [],
   "source": [
    "subreddit = 'depression'\n",
    "url = \"https://api.pushshift.io/reddit/search/submission\"\n",
    "params = {\"subreddit\": subreddit, \"size\": 100, \"sort\": \"desc\", \"sort_type\": \"created_utc\"}\n",
    "params['before'] = int(rand_dates_utc[-1])\n",
    "results = requests.get(url, params)"
   ]
  },
  {
   "cell_type": "code",
   "execution_count": 14,
   "metadata": {},
   "outputs": [],
   "source": [
    "# results.json()['data'][0]"
   ]
  },
  {
   "cell_type": "code",
   "execution_count": 20,
   "metadata": {
    "scrolled": true
   },
   "outputs": [
    {
     "name": "stdout",
     "output_type": "stream",
     "text": [
      "<Response [200]> 1546860434.0 0\n",
      "<Response [200]> 1547369465.0 0\n",
      "<Response [200]> 1547963703.0 0\n",
      "<Response [200]> 1548697318.0 0\n",
      "<Response [200]> 1548628186.0 0\n",
      "<Response [200]> 1547070716.0 0\n",
      "<Response [200]> 1548565262.0 0\n",
      "<Response [200]> 1548110964.0 0\n",
      "<Response [200]> 1548026567.0 0\n",
      "<Response [200]> 1548335025.0 0\n",
      "<Response [200]> 1546974460.0 0\n",
      "<Response [200]> 1546400409.0 0\n",
      "<Response [200]> 1549864174.0 0\n",
      "<Response [200]> 1549159089.0 0\n",
      "<Response [200]> 1550244601.0 0\n",
      "<Response [200]> 1550701832.0 0\n",
      "<Response [200]> 1549201628.0 0\n",
      "<Response [200]> 1549865854.0 0\n",
      "<Response [200]> 1549311765.0 0\n",
      "<Response [200]> 1550050249.0 0\n",
      "<Response [200]> 1549703420.0 0\n",
      "<Response [200]> 1549083081.0 0\n",
      "<Response [200]> 1550608643.0 0\n",
      "<Response [200]> 1550271378.0 0\n",
      "<Response [200]> 1552243830.0 0\n",
      "<Response [200]> 1551869366.0 0\n",
      "<Response [200]> 1553596372.0 0\n",
      "<Response [200]> 1553576164.0 0\n",
      "<Response [200]> 1553361420.0 0\n",
      "<Response [200]> 1551627197.0 0\n",
      "<Response [200]> 1551572708.0 0\n",
      "<Response [200]> 1551638860.0 0\n",
      "<Response [200]> 1551736600.0 0\n",
      "<Response [200]> 1552745407.0 0\n",
      "<Response [200]> 1553308946.0 0\n",
      "<Response [200]> 1551610784.0 0\n",
      "<Response [200]> 1555092478.0 0\n",
      "<Response [200]> 1556393593.0 0\n",
      "<Response [200]> 1554499586.0 0\n",
      "<Response [200]> 1554806907.0 0\n",
      "<Response [200]> 1554805951.0 0\n",
      "<Response [200]> 1554411397.0 0\n",
      "<Response [200]> 1554786243.0 0\n",
      "<Response [200]> 1555695109.0 0\n",
      "<Response [200]> 1554184173.0 0\n",
      "<Response [200]> 1554372338.0 0\n",
      "<Response [200]> 1555430620.0 0\n",
      "<Response [200]> 1554435158.0 0\n",
      "<Response [200]> 1558321786.0 0\n",
      "<Response [200]> 1556975379.0 0\n",
      "<Response [200]> 1557563058.0 0\n",
      "<Response [200]> 1558181824.0 0\n",
      "<Response [200]> 1556787114.0 0\n",
      "<Response [200]> 1557640242.0 0\n",
      "<Response [200]> 1558092178.0 0\n",
      "<Response [200]> 1556855965.0 0\n",
      "<Response [200]> 1558255787.0 0\n",
      "<Response [200]> 1558209658.0 0\n",
      "<Response [200]> 1556743623.0 0\n",
      "<Response [200]> 1557620259.0 0\n",
      "<Response [200]> 1559724370.0 0\n",
      "<Response [200]> 1560090916.0 0\n",
      "<Response [200]> 1560553318.0 0\n",
      "<Response [200]> 1560680356.0 0\n",
      "<Response [200]> 1561116458.0 0\n",
      "<Response [200]> 1561620820.0 0\n",
      "<Response [200]> 1560589934.0 0\n",
      "<Response [200]> 1560003509.0 0\n",
      "<Response [200]> 1560628149.0 0\n",
      "<Response [200]> 1559621193.0 0\n",
      "<Response [200]> 1559663755.0 0\n",
      "<Response [200]> 1559916551.0 0\n",
      "<Response [200]> 1562015621.0 0\n",
      "<Response [200]> 1562627127.0 0\n",
      "<Response [200]> 1563796269.0 0\n",
      "<Response [200]> 1563285275.0 0\n",
      "<Response [200]> 1562481559.0 0\n",
      "<Response [200]> 1563071151.0 0\n",
      "<Response [200]> 1562639296.0 0\n",
      "<Response [200]> 1562949253.0 0\n",
      "<Response [200]> 1562380747.0 0\n",
      "<Response [200]> 1562389001.0 0\n",
      "<Response [200]> 1563412502.0 0\n",
      "<Response [200]> 1562650982.0 0\n",
      "<Response [200]> 1564970551.0 0\n",
      "<Response [200]> 1566100759.0 0\n",
      "<Response [200]> 1566436743.0 0\n",
      "<Response [200]> 1566601026.0 0\n",
      "<Response [200]> 1566911973.0 0\n",
      "<Response [200]> 1566298843.0 0\n",
      "<Response [200]> 1565765189.0 0\n",
      "<Response [200]> 1566698839.0 0\n",
      "<Response [200]> 1566786545.0 0\n",
      "<Response [200]> 1565064508.0 0\n",
      "<Response [200]> 1566215598.0 0\n",
      "<Response [200]> 1565941750.0 0\n",
      "<Response [200]> 1569090472.0 0\n",
      "<Response [200]> 1568570842.0 0\n",
      "<Response [200]> 1567433547.0 0\n",
      "<Response [200]> 1568909517.0 0\n",
      "<Response [200]> 1569046984.0 0\n",
      "<Response [200]> 1567772036.0 0\n",
      "<Response [200]> 1567669751.0 0\n",
      "<Response [200]> 1569452584.0 0\n",
      "<Response [200]> 1567599252.0 0\n",
      "<Response [200]> 1569015294.0 0\n",
      "<Response [200]> 1568062904.0 0\n",
      "<Response [200]> 1567973508.0 0\n",
      "<Response [200]> 1572001904.0 0\n",
      "<Response [200]> 1570517837.0 0\n",
      "<Response [200]> 1571214728.0 0\n",
      "<Response [200]> 1570770615.0 0\n",
      "<Response [200]> 1570782593.0 0\n",
      "<Response [200]> 1570588775.0 0\n",
      "<Response [200]> 1571730911.0 0\n",
      "<Response [200]> 1570373474.0 0\n",
      "<Response [200]> 1570048554.0 0\n",
      "<Response [200]> 1571060051.0 0\n",
      "<Response [200]> 1570324179.0 0\n",
      "<Response [200]> 1571697739.0 0\n"
     ]
    }
   ],
   "source": [
    "json_list = []\n",
    "subreddit = 'mentalhealth'\n",
    "for utc in rand_dates_utc:\n",
    "    url = \"https://api.pushshift.io/reddit/search/submission\"\n",
    "    params = {\"subreddit\": subreddit, \"size\": 100, \"sort\": \"desc\", \"sort_type\": \"created_utc\"}\n",
    "    params['before'] = int(utc)\n",
    "    results = requests.get(url, params)\n",
    "    \n",
    "#     creating condition to try again three times\n",
    "#     if we get an error for a utc\n",
    "    counter = 0\n",
    "    while not results.ok and counter < 3:\n",
    "        params['before'] = int(utc)\n",
    "        results = requests.get(url, params)\n",
    "        counter += 1\n",
    "\n",
    "        \n",
    "    print(results, utc, counter)\n",
    "    if results.ok:\n",
    "        json_list+=results.json()[\"data\"]\n",
    "    \n",
    "    "
   ]
  },
  {
   "cell_type": "code",
   "execution_count": 21,
   "metadata": {},
   "outputs": [
    {
     "data": {
      "text/plain": [
       "1    9242\n",
       "2    1067\n",
       "3     208\n",
       "dtype: int64"
      ]
     },
     "execution_count": 21,
     "metadata": {},
     "output_type": "execute_result"
    }
   ],
   "source": [
    "depression = pd.DataFrame(json_list)\n",
    "depression['date'] = depression['created_utc'].apply(lambda x: datetime.fromtimestamp(x))\n",
    "depression.groupby('id').size().value_counts()\n",
    "# will drop duplicates in the topic modeing notebook..."
   ]
  },
  {
   "cell_type": "code",
   "execution_count": 22,
   "metadata": {},
   "outputs": [],
   "source": [
    "depression.to_csv('mentalhealth_rand_large2019.csv')\n"
   ]
  },
  {
   "cell_type": "code",
   "execution_count": 7,
   "metadata": {},
   "outputs": [],
   "source": [
    "# mh_df = pd.DataFrame(json_list)\n",
    "# mh_df['date'] = mh_df['created_utc'].apply(lambda x: datetime.fromtimestamp(x))\n",
    "# addiction_df.to_csv('addiction_rand_large.csv')"
   ]
  },
  {
   "cell_type": "code",
   "execution_count": 8,
   "metadata": {},
   "outputs": [
    {
     "data": {
      "text/plain": [
       "1    1482\n",
       "2     259\n",
       "dtype: int64"
      ]
     },
     "execution_count": 8,
     "metadata": {},
     "output_type": "execute_result"
    }
   ],
   "source": [
    "mh_df.groupby('id').size().value_counts()"
   ]
  },
  {
   "cell_type": "code",
   "execution_count": 9,
   "metadata": {},
   "outputs": [],
   "source": [
    "# mh_df.to_csv('mh_rand_large2.csv')"
   ]
  },
  {
   "cell_type": "code",
   "execution_count": null,
   "metadata": {},
   "outputs": [],
   "source": [
    "cols_of_interest = ['date', 'id', 'author', 'subreddit', 'title', 'selftext']\n",
    "addict_filtered = addiction_df[cols_of_interest]\n",
    "addict_filtered[addict_filtered.id=='dfrs6m']"
   ]
  },
  {
   "cell_type": "code",
   "execution_count": null,
   "metadata": {},
   "outputs": [],
   "source": [
    "# depression_df = pd.DataFrame(json_list)\n",
    "# depression_df.groupby('id').size().sort_values(ascending=False)\n",
    "# depression_df['date'] = depression_df['created_utc'].apply(lambda x: datetime.fromtimestamp(x))\n",
    "# depression_df.to_csv('depression_rand_large2.csv')\n",
    "# depression_df"
   ]
  }
 ],
 "metadata": {
  "kernelspec": {
   "display_name": "Python 3",
   "language": "python",
   "name": "python3"
  },
  "language_info": {
   "codemirror_mode": {
    "name": "ipython",
    "version": 3
   },
   "file_extension": ".py",
   "mimetype": "text/x-python",
   "name": "python",
   "nbconvert_exporter": "python",
   "pygments_lexer": "ipython3",
   "version": "3.7.4"
  }
 },
 "nbformat": 4,
 "nbformat_minor": 4
}
