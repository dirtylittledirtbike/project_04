{
 "cells": [
  {
   "cell_type": "code",
   "execution_count": 30,
   "metadata": {},
   "outputs": [],
   "source": [
    "import pandas as pd\n",
    "import numpy as np\n",
    "import datetime \n",
    "import re\n",
    "from urlextract import URLExtract\n",
    "import spacy\n",
    "import time\n",
    "import pickle\n",
    "import matplotlib.pyplot as plt\n"
   ]
  },
  {
   "cell_type": "code",
   "execution_count": 2,
   "metadata": {},
   "outputs": [],
   "source": [
    "extractor = URLExtract()\n",
    "def replace_urls(x):\n",
    "    urls = extractor.find_urls(x)\n",
    "    if urls:\n",
    "        x_new = replace_urls(x.replace(urls[0],''))\n",
    "        return x_new\n",
    "    else:\n",
    "        return x"
   ]
  },
  {
   "cell_type": "code",
   "execution_count": 3,
   "metadata": {
    "scrolled": true
   },
   "outputs": [],
   "source": [
    "mh_df2 = pd.read_csv('/Users/collinswestnedge/programming/Metis_Online/project_04/data/mh_rand_large2.csv', low_memory=False)\n",
    "mh_df =  pd.read_csv('/Users/collinswestnedge/programming/Metis_Online/project_04/data/mh_rand_large.csv', low_memory=False)\n",
    "\n",
    "depression2 = pd.read_csv('/Users/collinswestnedge/programming/Metis_Online/project_04/data/depression_rand_large2.csv', low_memory=False)\n",
    "depression = pd.read_csv('/Users/collinswestnedge/programming/Metis_Online/project_04/data/depression_rand_large.csv', low_memory=False)\n",
    "\n",
    "mh_df2.drop(columns=['Unnamed: 0'], inplace=True)\n",
    "mh_df.drop(columns=['Unnamed: 0'], inplace=True)\n",
    "\n",
    "depression2.drop(columns=['Unnamed: 0'], inplace=True)\n",
    "depression.drop(columns=['Unnamed: 0'], inplace=True)\n",
    "\n",
    "mh_df2['date'] = mh_df2.created_utc.apply(lambda x: pd.to_datetime(time.ctime(x)))\n",
    "mh_df['date'] = mh_df.created_utc.apply(lambda x: pd.to_datetime(time.ctime(x)))\n",
    "\n",
    "depression2['date'] = depression2.created_utc.apply(lambda x: pd.to_datetime(time.ctime(x)))\n",
    "depression['date'] = depression.created_utc.apply(lambda x: pd.to_datetime(time.ctime(x)))\n",
    "\n",
    "mh_df2.drop_duplicates(subset=['id'], inplace=True)\n",
    "mh_df.drop_duplicates(subset=['id'], inplace=True)\n",
    "\n",
    "depression2.drop_duplicates(subset=['id'], inplace=True)\n",
    "depression.drop_duplicates(subset=['id'], inplace=True)\n",
    "\n"
   ]
  },
  {
   "cell_type": "code",
   "execution_count": 94,
   "metadata": {},
   "outputs": [
    {
     "data": {
      "text/plain": [
       "['all_awardings',\n",
       " 'allow_live_comments',\n",
       " 'author',\n",
       " 'author_flair_css_class',\n",
       " 'author_flair_richtext',\n",
       " 'author_flair_text',\n",
       " 'author_flair_type',\n",
       " 'author_fullname',\n",
       " 'author_patreon_flair',\n",
       " 'awarders',\n",
       " 'can_mod_post',\n",
       " 'contest_mode',\n",
       " 'created_utc',\n",
       " 'domain',\n",
       " 'full_link',\n",
       " 'gildings',\n",
       " 'id',\n",
       " 'is_crosspostable',\n",
       " 'is_meta',\n",
       " 'is_original_content',\n",
       " 'is_reddit_media_domain',\n",
       " 'is_robot_indexable',\n",
       " 'is_self',\n",
       " 'is_video',\n",
       " 'link_flair_background_color',\n",
       " 'link_flair_richtext',\n",
       " 'link_flair_text_color',\n",
       " 'link_flair_type',\n",
       " 'locked',\n",
       " 'media_only',\n",
       " 'no_follow',\n",
       " 'num_comments',\n",
       " 'num_crossposts',\n",
       " 'over_18',\n",
       " 'permalink',\n",
       " 'pinned',\n",
       " 'retrieved_on',\n",
       " 'score',\n",
       " 'selftext',\n",
       " 'send_replies',\n",
       " 'spoiler',\n",
       " 'steward_reports',\n",
       " 'stickied',\n",
       " 'subreddit',\n",
       " 'subreddit_id',\n",
       " 'subreddit_subscribers',\n",
       " 'subreddit_type',\n",
       " 'thumbnail',\n",
       " 'title',\n",
       " 'total_awards_received',\n",
       " 'updated_utc',\n",
       " 'url',\n",
       " 'crosspost_parent',\n",
       " 'crosspost_parent_list',\n",
       " 'link_flair_css_class',\n",
       " 'link_flair_template_id',\n",
       " 'link_flair_text',\n",
       " 'post_hint',\n",
       " 'preview',\n",
       " 'author_flair_template_id',\n",
       " 'author_flair_text_color',\n",
       " 'author_cakeday',\n",
       " 'gilded',\n",
       " 'og_description',\n",
       " 'og_title',\n",
       " 'thumbnail_height',\n",
       " 'thumbnail_width',\n",
       " 'author_flair_background_color',\n",
       " 'removed_by',\n",
       " 'edited',\n",
       " 'author_premium',\n",
       " 'removed_by_category',\n",
       " 'treatment_tags',\n",
       " 'upvote_ratio',\n",
       " 'parent_whitelist_status',\n",
       " 'pwls',\n",
       " 'whitelist_status',\n",
       " 'wls',\n",
       " 'poll_data',\n",
       " 'url_overridden_by_dest',\n",
       " 'banned_by',\n",
       " 'date',\n",
       " 'suggested_sort']"
      ]
     },
     "execution_count": 94,
     "metadata": {},
     "output_type": "execute_result"
    }
   ],
   "source": [
    "df_full = pd.concat([mh_df, mh_df2, depression, depression2])\n",
    "# df_full.columns.to_list()"
   ]
  },
  {
   "cell_type": "code",
   "execution_count": 5,
   "metadata": {},
   "outputs": [],
   "source": [
    "# df_full[df_full.date < '2020-10-20']\n",
    "# df_full[df_full.date < '2020-03']"
   ]
  },
  {
   "cell_type": "code",
   "execution_count": 107,
   "metadata": {},
   "outputs": [
    {
     "data": {
      "text/plain": [
       "<AxesSubplot:xlabel='date,date'>"
      ]
     },
     "execution_count": 107,
     "metadata": {},
     "output_type": "execute_result"
    },
    {
     "data": {
      "image/png": "[encoded data removed]",
      "text/plain": [
       "<Figure size 432x288 with 1 Axes>"
      ]
     },
     "metadata": {
      "needs_background": "light"
     },
     "output_type": "display_data"
    }
   ],
   "source": [
    "df_full.groupby([df_full[\"date\"].dt.year, df_full[\"date\"].dt.month]).size().plot(kind=\"bar\")"
   ]
  },
  {
   "cell_type": "code",
   "execution_count": 7,
   "metadata": {
    "scrolled": true
   },
   "outputs": [
    {
     "data": {
      "text/html": [
       "<div>\n",
       "<style scoped>\n",
       "    .dataframe tbody tr th:only-of-type {\n",
       "        vertical-align: middle;\n",
       "    }\n",
       "\n",
       "    .dataframe tbody tr th {\n",
       "        vertical-align: top;\n",
       "    }\n",
       "\n",
       "    .dataframe thead th {\n",
       "        text-align: right;\n",
       "    }\n",
       "</style>\n",
       "<table border=\"1\" class=\"dataframe\">\n",
       "  <thead>\n",
       "    <tr style=\"text-align: right;\">\n",
       "      <th></th>\n",
       "      <th>date</th>\n",
       "      <th>id</th>\n",
       "      <th>author</th>\n",
       "      <th>subreddit</th>\n",
       "      <th>title</th>\n",
       "      <th>selftext</th>\n",
       "    </tr>\n",
       "  </thead>\n",
       "  <tbody>\n",
       "    <tr>\n",
       "      <th>0</th>\n",
       "      <td>2019-10-11 16:39:05</td>\n",
       "      <td>dglq7k</td>\n",
       "      <td>liznormal23</td>\n",
       "      <td>mentalhealth</td>\n",
       "      <td>Mental Health Gray Area. Please help.</td>\n",
       "      <td>*TRIGGER WARNING: EATING DISORDER AND SUBSTANC...</td>\n",
       "    </tr>\n",
       "    <tr>\n",
       "      <th>1</th>\n",
       "      <td>2019-10-11 16:34:59</td>\n",
       "      <td>dgloc1</td>\n",
       "      <td>tacobean87</td>\n",
       "      <td>mentalhealth</td>\n",
       "      <td>what’s wrong with me ?</td>\n",
       "      <td>every single time i read something my mind blu...</td>\n",
       "    </tr>\n",
       "    <tr>\n",
       "      <th>2</th>\n",
       "      <td>2019-10-11 16:22:09</td>\n",
       "      <td>dglieu</td>\n",
       "      <td>AquilaVI</td>\n",
       "      <td>mentalhealth</td>\n",
       "      <td>I'm trying to deal with a deadly car crash. (A...</td>\n",
       "      <td>Hello, people! A little backstory. I'll try to...</td>\n",
       "    </tr>\n",
       "    <tr>\n",
       "      <th>3</th>\n",
       "      <td>2019-10-11 16:18:16</td>\n",
       "      <td>dglgl6</td>\n",
       "      <td>Mrcoolbaby</td>\n",
       "      <td>mentalhealth</td>\n",
       "      <td>Overwhelmed</td>\n",
       "      <td>I feel like my life is on loop. All the same k...</td>\n",
       "    </tr>\n",
       "    <tr>\n",
       "      <th>4</th>\n",
       "      <td>2019-10-11 16:15:26</td>\n",
       "      <td>dglfcf</td>\n",
       "      <td>TheA55M4N</td>\n",
       "      <td>mentalhealth</td>\n",
       "      <td>Anxiety and obsessions</td>\n",
       "      <td>I wrote my story here</td>\n",
       "    </tr>\n",
       "    <tr>\n",
       "      <th>...</th>\n",
       "      <td>...</td>\n",
       "      <td>...</td>\n",
       "      <td>...</td>\n",
       "      <td>...</td>\n",
       "      <td>...</td>\n",
       "      <td>...</td>\n",
       "    </tr>\n",
       "    <tr>\n",
       "      <th>2095</th>\n",
       "      <td>2019-09-13 02:52:49</td>\n",
       "      <td>d3lxwm</td>\n",
       "      <td>tjmac411</td>\n",
       "      <td>depression</td>\n",
       "      <td>Need guidance</td>\n",
       "      <td>I started dating this girl about a month ago a...</td>\n",
       "    </tr>\n",
       "    <tr>\n",
       "      <th>2096</th>\n",
       "      <td>2019-09-13 02:47:28</td>\n",
       "      <td>d3lw9v</td>\n",
       "      <td>entry-level-job</td>\n",
       "      <td>depression</td>\n",
       "      <td>All companies I interview for that then reject...</td>\n",
       "      <td>It's frustrating that I want to work but I'm n...</td>\n",
       "    </tr>\n",
       "    <tr>\n",
       "      <th>2097</th>\n",
       "      <td>2019-09-13 02:41:17</td>\n",
       "      <td>d3lujy</td>\n",
       "      <td>lonelysadboii</td>\n",
       "      <td>depression</td>\n",
       "      <td>What’s the point of my existence?</td>\n",
       "      <td>I’m a disappointment to my parents and family,...</td>\n",
       "    </tr>\n",
       "    <tr>\n",
       "      <th>2098</th>\n",
       "      <td>2019-09-13 02:39:59</td>\n",
       "      <td>d3lu5k</td>\n",
       "      <td>Soulscreame</td>\n",
       "      <td>depression</td>\n",
       "      <td>All that my depression is. A theory of cowardi...</td>\n",
       "      <td>Warning! This is kinda long! If theres anythin...</td>\n",
       "    </tr>\n",
       "    <tr>\n",
       "      <th>2099</th>\n",
       "      <td>2019-09-13 02:37:30</td>\n",
       "      <td>d3ltf8</td>\n",
       "      <td>Nivonivonivonivoniv</td>\n",
       "      <td>depression</td>\n",
       "      <td>It really fucking pisses me off that my mom an...</td>\n",
       "      <td>18 year old year. In my senior year of high sc...</td>\n",
       "    </tr>\n",
       "  </tbody>\n",
       "</table>\n",
       "<p>32789 rows × 6 columns</p>\n",
       "</div>"
      ],
      "text/plain": [
       "                    date      id               author     subreddit  \\\n",
       "0    2019-10-11 16:39:05  dglq7k          liznormal23  mentalhealth   \n",
       "1    2019-10-11 16:34:59  dgloc1           tacobean87  mentalhealth   \n",
       "2    2019-10-11 16:22:09  dglieu             AquilaVI  mentalhealth   \n",
       "3    2019-10-11 16:18:16  dglgl6           Mrcoolbaby  mentalhealth   \n",
       "4    2019-10-11 16:15:26  dglfcf            TheA55M4N  mentalhealth   \n",
       "...                  ...     ...                  ...           ...   \n",
       "2095 2019-09-13 02:52:49  d3lxwm             tjmac411    depression   \n",
       "2096 2019-09-13 02:47:28  d3lw9v      entry-level-job    depression   \n",
       "2097 2019-09-13 02:41:17  d3lujy        lonelysadboii    depression   \n",
       "2098 2019-09-13 02:39:59  d3lu5k          Soulscreame    depression   \n",
       "2099 2019-09-13 02:37:30  d3ltf8  Nivonivonivonivoniv    depression   \n",
       "\n",
       "                                                  title  \\\n",
       "0                 Mental Health Gray Area. Please help.   \n",
       "1                                what’s wrong with me ?   \n",
       "2     I'm trying to deal with a deadly car crash. (A...   \n",
       "3                                           Overwhelmed   \n",
       "4                                Anxiety and obsessions   \n",
       "...                                                 ...   \n",
       "2095                                      Need guidance   \n",
       "2096  All companies I interview for that then reject...   \n",
       "2097                  What’s the point of my existence?   \n",
       "2098  All that my depression is. A theory of cowardi...   \n",
       "2099  It really fucking pisses me off that my mom an...   \n",
       "\n",
       "                                               selftext  \n",
       "0     *TRIGGER WARNING: EATING DISORDER AND SUBSTANC...  \n",
       "1     every single time i read something my mind blu...  \n",
       "2     Hello, people! A little backstory. I'll try to...  \n",
       "3     I feel like my life is on loop. All the same k...  \n",
       "4                                I wrote my story here   \n",
       "...                                                 ...  \n",
       "2095  I started dating this girl about a month ago a...  \n",
       "2096  It's frustrating that I want to work but I'm n...  \n",
       "2097  I’m a disappointment to my parents and family,...  \n",
       "2098  Warning! This is kinda long! If theres anythin...  \n",
       "2099  18 year old year. In my senior year of high sc...  \n",
       "\n",
       "[32789 rows x 6 columns]"
      ]
     },
     "execution_count": 7,
     "metadata": {},
     "output_type": "execute_result"
    }
   ],
   "source": [
    "# remove indents and urls and double spaces\n",
    "df_full['selftext'] = df_full.selftext.map(lambda x: re.sub('\\n',' ',str(x)))\n",
    "df_full['selftext'] = df_full.selftext.map(lambda x: re.sub('  ',' ',str(x)))\n",
    "df_full['selftext'] = df_full.selftext.map(lambda x: replace_urls(x))\n",
    "\n",
    "cols_of_interest = ['date', 'id', 'author', 'subreddit', 'title', 'selftext']\n",
    "df_full_clean = df_full[(df_full.selftext != '[removed]') & (df_full.selftext != '[deleted]')].copy()\n",
    "df_full_clean[cols_of_interest]"
   ]
  },
  {
   "cell_type": "code",
   "execution_count": 108,
   "metadata": {},
   "outputs": [],
   "source": [
    "stop_words = ['feel',\n",
    " 'want',\n",
    " 'myself',\n",
    " 'people',\n",
    " 'help',\n",
    " 'depression',\n",
    " 'nan',\n",
    " 'fucking',\n",
    " 'mental',\n",
    " 'hate',\n",
    " 'health',\n",
    " 'life',\n",
    " 'need',\n",
    " 'anxiety',\n",
    " 'talk',\n",
    " 'anymore',\n",
    " 'die',\n",
    " 'depressed',\n",
    " 'friends',\n",
    " 'fuck',\n",
    " 'feeling',\n",
    " 'kill',\n",
    " 'time',\n",
    " 'shit',\n",
    " 'tired',\n",
    " 'happy',\n",
    " 'better',\n",
    " 'things',\n",
    " 'going',\n",
    " 'bad',\n",
    " 'way',\n",
    " 'care',\n",
    " 'good',\n",
    " 'wish',\n",
    " 'person',\n",
    " 'sad',\n",
    " 'day',\n",
    " 'makes',\n",
    " 'years',\n",
    " 'right',\n",
    " 'tell',\n",
    " 'self',\n",
    " 'worse',\n",
    " 'try',\n",
    " 'thoughts',\n",
    " 'live',\n",
    " 'friend',\n",
    " 'stop',\n",
    "'feel',\n",
    " 'help',\n",
    " 'nan',\n",
    " 'people',\n",
    " 'need',\n",
    " 'fucking',\n",
    " 'hate',\n",
    " 'myself',\n",
    " 'talk',\n",
    " 'mental',\n",
    " 'health',\n",
    " 'depressed',\n",
    " 'fuck',\n",
    " 'shit',\n",
    " 'self',\n",
    " 'person',\n",
    " 'makes',\n",
    " 'friends',\n",
    " 'feeling',\n",
    " 'better',\n",
    " 'depression',\n",
    " 'wanna',\n",
    " 'sad',\n",
    " 'good',\n",
    " 'way',\n",
    " 'try',\n",
    " 'understand',\n",
    " 'wrong',\n",
    " 'lonely',\n",
    " 'advice',\n",
    " 'find',\n",
    " 'care',\n",
    " 'feelings',\n",
    " 'idk',\n",
    " 'emotions',\n",
    " 'bad',\n",
    " 'issues',\n",
    " 'talking',\n",
    " 'stupid',\n",
    " 'actually',\n",
    " 'ask',\n",
    " 'like',\n",
    " 'right',\n",
    " 'thoughts',\n",
    " 'guilty',\n",
    " 'illness',\n",
    " 'life',\n",
    " 'therapy',\n",
    " 'things',\n",
    " 'social','best', 'bit', 'lot', 'great', 'says', 'getting', 'numb', 'come', 'amp', 'thing', 'little', 'today', 'started', 'maybe', 'feels', 'feel', 'feeling',\n",
    "\"told\", 'tomorrow', 'everyday', 'future', 'reason', 'pay', 'got', 'said', 'everyday', 'tomorrow', 'week', 'old', 'start', 'anxious', 'able', 'tried', 'features']\n",
    "              \n",
    "              \n",
    "              \n",
    "              "
   ]
  },
  {
   "cell_type": "code",
   "execution_count": 111,
   "metadata": {},
   "outputs": [],
   "source": [
    "path = '/Users/collinswestnedge/programming/Metis_Online/project_04/pickles/'\n",
    "\n",
    "with open(path+'stop_words5.pickle', 'wb') as file:\n",
    "    pickle.dump(set(stop_words), file)"
   ]
  },
  {
   "cell_type": "code",
   "execution_count": 112,
   "metadata": {},
   "outputs": [],
   "source": [
    "with open(path+'stop_words5.pickle', 'rb') as file:\n",
    "    stop_words = pickle.load(file)"
   ]
  },
  {
   "cell_type": "code",
   "execution_count": 113,
   "metadata": {},
   "outputs": [],
   "source": [
    "class NLPPipe:\n",
    "    \n",
    "    def __init__(self, vectorizer, tokenizer, disable, pos, lemma=False):\n",
    "        \n",
    "        self.vectorizer = vectorizer\n",
    "        self.tokenize = tokenizer\n",
    "        self.disable = disable\n",
    "        self.pos_list = pos\n",
    "        self.lemma = lemma\n",
    "    \n",
    "    def process_text(self, text):\n",
    "\n",
    "        nlp = spacy.load(\"en_core_web_sm\")\n",
    "        nlp.Defaults.stop_words |= stop_words\n",
    "#         nlp.vocab[\"myself\"].is_stop = False\n",
    "        nlp.vocab[\" \"].is_stop = True\n",
    "        nlp.vocab[\"like\"].is_stop = True\n",
    "        nlp.vocab[\"think\"].is_stop = True\n",
    "        nlp.vocab[\"know\"].is_stop = True\n",
    "        nlp.Defaults.stop_words |= stop_words\n",
    "\n",
    "        text_full = [] \n",
    "        for doc in nlp.pipe(text, disable=self.disable):\n",
    "            # if part of speech list isnt empty return matches for pos\n",
    "            if self.pos_list:\n",
    "                tokens = [(ent.text) for ent in doc if not ent.is_stop and not ent.is_punct and ent.pos_ in self.pos_list]\n",
    "                cleaned_text = \" \".join(tokens)\n",
    "                text_full.append(cleaned_text)\n",
    "            elif self.lemma == True:\n",
    "                tokens = [(ent.lemma_) for ent in doc if not ent.is_stop and not ent.is_punct]\n",
    "                cleaned_text = \" \".join(tokens)\n",
    "                text_full.append(cleaned_text)\n",
    "            else:\n",
    "                tokens = [(ent.text) for ent in doc if not ent.is_stop and not ent.is_punct]\n",
    "                cleaned_text = \" \".join(tokens)\n",
    "                text_full.append(cleaned_text)\n",
    "\n",
    "        return text_full\n",
    "    \n",
    "    def fit(self, text):\n",
    "        clean_text = self.process_text(text)\n",
    "        return self.vectorizer.fit(clean_text)\n",
    "    \n",
    "    def transform(self, text):\n",
    "        clean_text = self.process_text(text)\n",
    "        return self.vectorizer.transform(clean_text)\n",
    "    \n",
    "    def fit_transform(self, text):\n",
    "        clean_text = self.process_text(text)\n",
    "        return self.vectorizer.fit_transform(clean_text)\n",
    "    \n",
    "    def save_pipe(self, filename):\n",
    "        \"\"\"\n",
    "        Writes the attributes of the pipeline to a file\n",
    "        allowing a pipeline to be loaded later with the\n",
    "        pre-trained pieces in place.\n",
    "        \"\"\"\n",
    "        if type(filename) != str:\n",
    "            raise TypeError(\"filename must be a string\")\n",
    "        pickle.dump(self.__dict__, open(filename+\".mdl\", 'wb'))\n",
    "        \n",
    "    def load_pipe(self, filename):\n",
    "        \"\"\"\n",
    "        Writes the attributes of the pipeline to a file\n",
    "        allowing a pipeline to be loaded later with the\n",
    "        pre-trained pieces in place.\n",
    "        \"\"\"\n",
    "        if type(filename) != str:\n",
    "            raise TypeError(\"filename must be a string\")\n",
    "        if filename[-4:] != '.mdl':\n",
    "            filename += '.mdl'\n",
    "        self.__dict__ = pickle.load(open(filename, 'rb'))"
   ]
  },
  {
   "cell_type": "code",
   "execution_count": null,
   "metadata": {},
   "outputs": [],
   "source": [
    "# corpus = df_full_clean[['title','selftext']].sample(1)\n",
    "# corpus.title.values[0]"
   ]
  },
  {
   "cell_type": "code",
   "execution_count": 15,
   "metadata": {
    "scrolled": true
   },
   "outputs": [],
   "source": [
    "# def process_text(text, pos_list, lemma=False):\n",
    "\n",
    "#     nlp = spacy.load(\"en_core_web_sm\")\n",
    "# #     nlp.vocab[\"myself\"].is_stop = False\n",
    "#     nlp.vocab[\" \"].is_stop = True\n",
    "# #     nlp.vocab[\"like\"].is_stop = True\n",
    "# #     nlp.vocab[\"think\"].is_stop = True\n",
    "# #     nlp.vocab[\"know\"].is_stop = True\n",
    "#     nlp.Defaults.stop_words |= stop_words\n",
    "\n",
    "\n",
    "#     text_full = [] \n",
    "#     for doc in nlp.pipe(text, disable=['parser', 'ner']):\n",
    "#         # if part of speech list isnt empty return matches for pos\n",
    "#         if pos_list:\n",
    "#             tokens = [(ent.pos_) for ent in doc if not ent.is_stop and not ent.is_punct and ent.pos_ in pos_list]\n",
    "#             cleaned_text = \" \".join(tokens)\n",
    "#             text_full.append(cleaned_text)\n",
    "#         elif lemma == True:\n",
    "#             tokens = [(ent.lemma_) for ent in doc if not ent.is_stop and not ent.is_punct]\n",
    "#             cleaned_text = \" \".join(tokens)\n",
    "#             text_full.append(cleaned_text)\n",
    "#         else:\n",
    "#             tokens = [(ent.text) for ent in doc if not ent.is_stop and not ent.is_punct]\n",
    "#             cleaned_text = \" \".join(tokens)\n",
    "#             text_full.append(cleaned_text)\n",
    "            \n",
    "#     return text_full\n",
    "\n",
    "# # print(corpus.title.values[0])\n",
    "# # print()\n",
    "\n",
    "# a = process_text(['abandon', 'abandoned', 'abandonment', 'running', 'ran', 'runs'], pos_list=[], lemma=False)\n",
    "# a"
   ]
  },
  {
   "cell_type": "code",
   "execution_count": 16,
   "metadata": {},
   "outputs": [],
   "source": [
    "df_full_clean['text_title'] = df_full_clean.title + ' ' + df_full_clean.selftext"
   ]
  },
  {
   "cell_type": "code",
   "execution_count": 52,
   "metadata": {},
   "outputs": [],
   "source": [
    "pre_covid_corpus = df_full_clean[df_full_clean.date < '2020-02-5'].text_title\n",
    "post_covid_corpus = df_full_clean[df_full_clean.date > '2020-02-5'].text_title"
   ]
  },
  {
   "cell_type": "code",
   "execution_count": 114,
   "metadata": {},
   "outputs": [],
   "source": [
    "from sklearn.feature_extraction.text import TfidfVectorizer\n",
    "\n",
    "# corpus = df_full_clean.selftext\n",
    "corpus = df_full_clean.text_title\n",
    "\n",
    "\n",
    "\n",
    "tfdif_vect = TfidfVectorizer(\n",
    "                             min_df = 5,\n",
    "                             ngram_range=(1, 1),\n",
    "                             max_df = .5, \n",
    "                             token_pattern = r'\\b[a-zA-Z]{3,}\\b'\n",
    "                             )\n",
    "\n",
    "pipeline = NLPPipe(vectorizer=tfdif_vect,\n",
    "                  tokenizer=None,\n",
    "                  disable=[\"tagger\",\"parser\", \"ner\"],\n",
    "                  pos=[],\n",
    "#                   pos=['NOUN', 'ADJ', 'PROPN'],\n",
    "                  lemma=True)\n",
    "\n",
    "#PROPN\n",
    "\n",
    "word_vect = pipeline.fit_transform(corpus).toarray()"
   ]
  },
  {
   "cell_type": "code",
   "execution_count": 115,
   "metadata": {
    "scrolled": true
   },
   "outputs": [
    {
     "data": {
      "text/html": [
       "<div>\n",
       "<style scoped>\n",
       "    .dataframe tbody tr th:only-of-type {\n",
       "        vertical-align: middle;\n",
       "    }\n",
       "\n",
       "    .dataframe tbody tr th {\n",
       "        vertical-align: top;\n",
       "    }\n",
       "\n",
       "    .dataframe thead th {\n",
       "        text-align: right;\n",
       "    }\n",
       "</style>\n",
       "<table border=\"1\" class=\"dataframe\">\n",
       "  <thead>\n",
       "    <tr style=\"text-align: right;\">\n",
       "      <th></th>\n",
       "      <th>aback</th>\n",
       "      <th>abandon</th>\n",
       "      <th>abandoned</th>\n",
       "      <th>abandonment</th>\n",
       "      <th>abc</th>\n",
       "      <th>abchecken</th>\n",
       "      <th>abdomen</th>\n",
       "      <th>abdominal</th>\n",
       "      <th>abhor</th>\n",
       "      <th>abhorrent</th>\n",
       "      <th>...</th>\n",
       "      <th>zen</th>\n",
       "      <th>zero</th>\n",
       "      <th>ziemlich</th>\n",
       "      <th>zoloft</th>\n",
       "      <th>zombie</th>\n",
       "      <th>zone</th>\n",
       "      <th>zoo</th>\n",
       "      <th>zoom</th>\n",
       "      <th>zopiclone</th>\n",
       "      <th>zyprexa</th>\n",
       "    </tr>\n",
       "  </thead>\n",
       "  <tbody>\n",
       "    <tr>\n",
       "      <th>0</th>\n",
       "      <td>0.0</td>\n",
       "      <td>0.0</td>\n",
       "      <td>0.0</td>\n",
       "      <td>0.0</td>\n",
       "      <td>0.0</td>\n",
       "      <td>0.0</td>\n",
       "      <td>0.0</td>\n",
       "      <td>0.0</td>\n",
       "      <td>0.0</td>\n",
       "      <td>0.0</td>\n",
       "      <td>...</td>\n",
       "      <td>0.0</td>\n",
       "      <td>0.0</td>\n",
       "      <td>0.0</td>\n",
       "      <td>0.0</td>\n",
       "      <td>0.0</td>\n",
       "      <td>0.0</td>\n",
       "      <td>0.0</td>\n",
       "      <td>0.0</td>\n",
       "      <td>0.0</td>\n",
       "      <td>0.0</td>\n",
       "    </tr>\n",
       "    <tr>\n",
       "      <th>1</th>\n",
       "      <td>0.0</td>\n",
       "      <td>0.0</td>\n",
       "      <td>0.0</td>\n",
       "      <td>0.0</td>\n",
       "      <td>0.0</td>\n",
       "      <td>0.0</td>\n",
       "      <td>0.0</td>\n",
       "      <td>0.0</td>\n",
       "      <td>0.0</td>\n",
       "      <td>0.0</td>\n",
       "      <td>...</td>\n",
       "      <td>0.0</td>\n",
       "      <td>0.0</td>\n",
       "      <td>0.0</td>\n",
       "      <td>0.0</td>\n",
       "      <td>0.0</td>\n",
       "      <td>0.0</td>\n",
       "      <td>0.0</td>\n",
       "      <td>0.0</td>\n",
       "      <td>0.0</td>\n",
       "      <td>0.0</td>\n",
       "    </tr>\n",
       "    <tr>\n",
       "      <th>2</th>\n",
       "      <td>0.0</td>\n",
       "      <td>0.0</td>\n",
       "      <td>0.0</td>\n",
       "      <td>0.0</td>\n",
       "      <td>0.0</td>\n",
       "      <td>0.0</td>\n",
       "      <td>0.0</td>\n",
       "      <td>0.0</td>\n",
       "      <td>0.0</td>\n",
       "      <td>0.0</td>\n",
       "      <td>...</td>\n",
       "      <td>0.0</td>\n",
       "      <td>0.0</td>\n",
       "      <td>0.0</td>\n",
       "      <td>0.0</td>\n",
       "      <td>0.0</td>\n",
       "      <td>0.0</td>\n",
       "      <td>0.0</td>\n",
       "      <td>0.0</td>\n",
       "      <td>0.0</td>\n",
       "      <td>0.0</td>\n",
       "    </tr>\n",
       "    <tr>\n",
       "      <th>3</th>\n",
       "      <td>0.0</td>\n",
       "      <td>0.0</td>\n",
       "      <td>0.0</td>\n",
       "      <td>0.0</td>\n",
       "      <td>0.0</td>\n",
       "      <td>0.0</td>\n",
       "      <td>0.0</td>\n",
       "      <td>0.0</td>\n",
       "      <td>0.0</td>\n",
       "      <td>0.0</td>\n",
       "      <td>...</td>\n",
       "      <td>0.0</td>\n",
       "      <td>0.0</td>\n",
       "      <td>0.0</td>\n",
       "      <td>0.0</td>\n",
       "      <td>0.0</td>\n",
       "      <td>0.0</td>\n",
       "      <td>0.0</td>\n",
       "      <td>0.0</td>\n",
       "      <td>0.0</td>\n",
       "      <td>0.0</td>\n",
       "    </tr>\n",
       "    <tr>\n",
       "      <th>4</th>\n",
       "      <td>0.0</td>\n",
       "      <td>0.0</td>\n",
       "      <td>0.0</td>\n",
       "      <td>0.0</td>\n",
       "      <td>0.0</td>\n",
       "      <td>0.0</td>\n",
       "      <td>0.0</td>\n",
       "      <td>0.0</td>\n",
       "      <td>0.0</td>\n",
       "      <td>0.0</td>\n",
       "      <td>...</td>\n",
       "      <td>0.0</td>\n",
       "      <td>0.0</td>\n",
       "      <td>0.0</td>\n",
       "      <td>0.0</td>\n",
       "      <td>0.0</td>\n",
       "      <td>0.0</td>\n",
       "      <td>0.0</td>\n",
       "      <td>0.0</td>\n",
       "      <td>0.0</td>\n",
       "      <td>0.0</td>\n",
       "    </tr>\n",
       "    <tr>\n",
       "      <th>...</th>\n",
       "      <td>...</td>\n",
       "      <td>...</td>\n",
       "      <td>...</td>\n",
       "      <td>...</td>\n",
       "      <td>...</td>\n",
       "      <td>...</td>\n",
       "      <td>...</td>\n",
       "      <td>...</td>\n",
       "      <td>...</td>\n",
       "      <td>...</td>\n",
       "      <td>...</td>\n",
       "      <td>...</td>\n",
       "      <td>...</td>\n",
       "      <td>...</td>\n",
       "      <td>...</td>\n",
       "      <td>...</td>\n",
       "      <td>...</td>\n",
       "      <td>...</td>\n",
       "      <td>...</td>\n",
       "      <td>...</td>\n",
       "      <td>...</td>\n",
       "    </tr>\n",
       "    <tr>\n",
       "      <th>32784</th>\n",
       "      <td>0.0</td>\n",
       "      <td>0.0</td>\n",
       "      <td>0.0</td>\n",
       "      <td>0.0</td>\n",
       "      <td>0.0</td>\n",
       "      <td>0.0</td>\n",
       "      <td>0.0</td>\n",
       "      <td>0.0</td>\n",
       "      <td>0.0</td>\n",
       "      <td>0.0</td>\n",
       "      <td>...</td>\n",
       "      <td>0.0</td>\n",
       "      <td>0.0</td>\n",
       "      <td>0.0</td>\n",
       "      <td>0.0</td>\n",
       "      <td>0.0</td>\n",
       "      <td>0.0</td>\n",
       "      <td>0.0</td>\n",
       "      <td>0.0</td>\n",
       "      <td>0.0</td>\n",
       "      <td>0.0</td>\n",
       "    </tr>\n",
       "    <tr>\n",
       "      <th>32785</th>\n",
       "      <td>0.0</td>\n",
       "      <td>0.0</td>\n",
       "      <td>0.0</td>\n",
       "      <td>0.0</td>\n",
       "      <td>0.0</td>\n",
       "      <td>0.0</td>\n",
       "      <td>0.0</td>\n",
       "      <td>0.0</td>\n",
       "      <td>0.0</td>\n",
       "      <td>0.0</td>\n",
       "      <td>...</td>\n",
       "      <td>0.0</td>\n",
       "      <td>0.0</td>\n",
       "      <td>0.0</td>\n",
       "      <td>0.0</td>\n",
       "      <td>0.0</td>\n",
       "      <td>0.0</td>\n",
       "      <td>0.0</td>\n",
       "      <td>0.0</td>\n",
       "      <td>0.0</td>\n",
       "      <td>0.0</td>\n",
       "    </tr>\n",
       "    <tr>\n",
       "      <th>32786</th>\n",
       "      <td>0.0</td>\n",
       "      <td>0.0</td>\n",
       "      <td>0.0</td>\n",
       "      <td>0.0</td>\n",
       "      <td>0.0</td>\n",
       "      <td>0.0</td>\n",
       "      <td>0.0</td>\n",
       "      <td>0.0</td>\n",
       "      <td>0.0</td>\n",
       "      <td>0.0</td>\n",
       "      <td>...</td>\n",
       "      <td>0.0</td>\n",
       "      <td>0.0</td>\n",
       "      <td>0.0</td>\n",
       "      <td>0.0</td>\n",
       "      <td>0.0</td>\n",
       "      <td>0.0</td>\n",
       "      <td>0.0</td>\n",
       "      <td>0.0</td>\n",
       "      <td>0.0</td>\n",
       "      <td>0.0</td>\n",
       "    </tr>\n",
       "    <tr>\n",
       "      <th>32787</th>\n",
       "      <td>0.0</td>\n",
       "      <td>0.0</td>\n",
       "      <td>0.0</td>\n",
       "      <td>0.0</td>\n",
       "      <td>0.0</td>\n",
       "      <td>0.0</td>\n",
       "      <td>0.0</td>\n",
       "      <td>0.0</td>\n",
       "      <td>0.0</td>\n",
       "      <td>0.0</td>\n",
       "      <td>...</td>\n",
       "      <td>0.0</td>\n",
       "      <td>0.0</td>\n",
       "      <td>0.0</td>\n",
       "      <td>0.0</td>\n",
       "      <td>0.0</td>\n",
       "      <td>0.0</td>\n",
       "      <td>0.0</td>\n",
       "      <td>0.0</td>\n",
       "      <td>0.0</td>\n",
       "      <td>0.0</td>\n",
       "    </tr>\n",
       "    <tr>\n",
       "      <th>32788</th>\n",
       "      <td>0.0</td>\n",
       "      <td>0.0</td>\n",
       "      <td>0.0</td>\n",
       "      <td>0.0</td>\n",
       "      <td>0.0</td>\n",
       "      <td>0.0</td>\n",
       "      <td>0.0</td>\n",
       "      <td>0.0</td>\n",
       "      <td>0.0</td>\n",
       "      <td>0.0</td>\n",
       "      <td>...</td>\n",
       "      <td>0.0</td>\n",
       "      <td>0.0</td>\n",
       "      <td>0.0</td>\n",
       "      <td>0.0</td>\n",
       "      <td>0.0</td>\n",
       "      <td>0.0</td>\n",
       "      <td>0.0</td>\n",
       "      <td>0.0</td>\n",
       "      <td>0.0</td>\n",
       "      <td>0.0</td>\n",
       "    </tr>\n",
       "  </tbody>\n",
       "</table>\n",
       "<p>32789 rows × 10333 columns</p>\n",
       "</div>"
      ],
      "text/plain": [
       "       aback  abandon  abandoned  abandonment  abc  abchecken  abdomen  \\\n",
       "0        0.0      0.0        0.0          0.0  0.0        0.0      0.0   \n",
       "1        0.0      0.0        0.0          0.0  0.0        0.0      0.0   \n",
       "2        0.0      0.0        0.0          0.0  0.0        0.0      0.0   \n",
       "3        0.0      0.0        0.0          0.0  0.0        0.0      0.0   \n",
       "4        0.0      0.0        0.0          0.0  0.0        0.0      0.0   \n",
       "...      ...      ...        ...          ...  ...        ...      ...   \n",
       "32784    0.0      0.0        0.0          0.0  0.0        0.0      0.0   \n",
       "32785    0.0      0.0        0.0          0.0  0.0        0.0      0.0   \n",
       "32786    0.0      0.0        0.0          0.0  0.0        0.0      0.0   \n",
       "32787    0.0      0.0        0.0          0.0  0.0        0.0      0.0   \n",
       "32788    0.0      0.0        0.0          0.0  0.0        0.0      0.0   \n",
       "\n",
       "       abdominal  abhor  abhorrent  ...  zen  zero  ziemlich  zoloft  zombie  \\\n",
       "0            0.0    0.0        0.0  ...  0.0   0.0       0.0     0.0     0.0   \n",
       "1            0.0    0.0        0.0  ...  0.0   0.0       0.0     0.0     0.0   \n",
       "2            0.0    0.0        0.0  ...  0.0   0.0       0.0     0.0     0.0   \n",
       "3            0.0    0.0        0.0  ...  0.0   0.0       0.0     0.0     0.0   \n",
       "4            0.0    0.0        0.0  ...  0.0   0.0       0.0     0.0     0.0   \n",
       "...          ...    ...        ...  ...  ...   ...       ...     ...     ...   \n",
       "32784        0.0    0.0        0.0  ...  0.0   0.0       0.0     0.0     0.0   \n",
       "32785        0.0    0.0        0.0  ...  0.0   0.0       0.0     0.0     0.0   \n",
       "32786        0.0    0.0        0.0  ...  0.0   0.0       0.0     0.0     0.0   \n",
       "32787        0.0    0.0        0.0  ...  0.0   0.0       0.0     0.0     0.0   \n",
       "32788        0.0    0.0        0.0  ...  0.0   0.0       0.0     0.0     0.0   \n",
       "\n",
       "       zone  zoo  zoom  zopiclone  zyprexa  \n",
       "0       0.0  0.0   0.0        0.0      0.0  \n",
       "1       0.0  0.0   0.0        0.0      0.0  \n",
       "2       0.0  0.0   0.0        0.0      0.0  \n",
       "3       0.0  0.0   0.0        0.0      0.0  \n",
       "4       0.0  0.0   0.0        0.0      0.0  \n",
       "...     ...  ...   ...        ...      ...  \n",
       "32784   0.0  0.0   0.0        0.0      0.0  \n",
       "32785   0.0  0.0   0.0        0.0      0.0  \n",
       "32786   0.0  0.0   0.0        0.0      0.0  \n",
       "32787   0.0  0.0   0.0        0.0      0.0  \n",
       "32788   0.0  0.0   0.0        0.0      0.0  \n",
       "\n",
       "[32789 rows x 10333 columns]"
      ]
     },
     "execution_count": 115,
     "metadata": {},
     "output_type": "execute_result"
    }
   ],
   "source": [
    "df = pd.DataFrame(word_vect)\n",
    "df.columns = pipeline.vectorizer.get_feature_names()\n",
    "df"
   ]
  },
  {
   "cell_type": "code",
   "execution_count": 45,
   "metadata": {},
   "outputs": [],
   "source": [
    "import pandas as pd\n",
    "from sklearn.feature_extraction.text import CountVectorizer \n",
    "from sklearn.decomposition import TruncatedSVD\n",
    "from sklearn.decomposition import NMF\n",
    "from sklearn.decomposition import LatentDirichletAllocation\n",
    "from sklearn.metrics.pairwise import cosine_similarity\n",
    "import plotly.express as px"
   ]
  },
  {
   "cell_type": "code",
   "execution_count": null,
   "metadata": {},
   "outputs": [],
   "source": [
    "# import warnings\n",
    "# warnings.filterwarnings('ignore')"
   ]
  },
  {
   "cell_type": "code",
   "execution_count": null,
   "metadata": {},
   "outputs": [],
   "source": [
    "lsa = TruncatedSVD(10, random_state=0)\n",
    "topic_mat = lsa.fit_transform(word_vect)\n",
    "lsa.explained_variance_ratio_"
   ]
  },
  {
   "cell_type": "code",
   "execution_count": null,
   "metadata": {
    "scrolled": true
   },
   "outputs": [],
   "source": [
    "topic_word = pd.DataFrame(lsa.components_,\n",
    "                          index=['topic_'+str(i) for i in range(10)],\n",
    "                          columns=pipeline.vectorizer.get_feature_names())\n",
    "\n",
    "top_words = topic_word.median(axis=0).sort_values(ascending=False).head(50).index.to_list()\n",
    "\n"
   ]
  },
  {
   "cell_type": "code",
   "execution_count": null,
   "metadata": {},
   "outputs": [],
   "source": [
    "top_words"
   ]
  },
  {
   "cell_type": "code",
   "execution_count": null,
   "metadata": {},
   "outputs": [],
   "source": [
    "topic_word['aback'].values"
   ]
  },
  {
   "cell_type": "code",
   "execution_count": null,
   "metadata": {},
   "outputs": [],
   "source": [
    "import matplotlib.pyplot as plt\n",
    "for word in top_words:\n",
    "    plt.title(word)\n",
    "    plt.bar(topic_word[word].index, topic_word[word].values)\n",
    "    plt.xticks(rotation=90)\n",
    "    plt.show()"
   ]
  },
  {
   "cell_type": "code",
   "execution_count": 22,
   "metadata": {},
   "outputs": [],
   "source": [
    "def display_topics(model, feature_names, no_top_words, topic_names=None):\n",
    "    for ix, topic in enumerate(model.components_):\n",
    "        if not topic_names or not topic_names[ix]:\n",
    "            print(\"\\nTopic \", ix)\n",
    "        else:\n",
    "            print(\"\\nTopic: '\",topic_names[ix],\"'\")\n",
    "        print(\", \".join([feature_names[i]\n",
    "                        for i in topic.argsort()[:-no_top_words - 1:-1]]))"
   ]
  },
  {
   "cell_type": "code",
   "execution_count": 23,
   "metadata": {},
   "outputs": [],
   "source": [
    "# display_topics(lsa, pipeline.vectorizer.get_feature_names(), 100)"
   ]
  },
  {
   "cell_type": "code",
   "execution_count": 24,
   "metadata": {},
   "outputs": [],
   "source": [
    "def plot_topics(topic_model, topic, num_words=20):\n",
    "    \n",
    "    num_topics = topic_model.components_.shape[0]\n",
    "    \n",
    "    topic_word = pd.DataFrame(topic_model.components_,\n",
    "                              index=['topic_'+str(i) for i in range(num_topics)],\n",
    "                              columns=pipeline.vectorizer.get_feature_names())\n",
    "\n",
    "    topics_df = topic_word.T\n",
    "    top_words = topics_df['topic_'+str(topic)].sort_values(ascending=False)\n",
    "    top_words[0:20]\n",
    "\n",
    "    fig = px.bar(y=top_words[0:num_words].index,\n",
    "                 x=top_words[0:num_words].values,\n",
    "                 orientation='h',\n",
    "                 width=500,\n",
    "                 height=1000)\n",
    "    fig.show()"
   ]
  },
  {
   "cell_type": "code",
   "execution_count": 25,
   "metadata": {
    "scrolled": true
   },
   "outputs": [],
   "source": [
    "# plot_topics(lsa, topic=4, num_words=40)"
   ]
  },
  {
   "cell_type": "code",
   "execution_count": 144,
   "metadata": {},
   "outputs": [],
   "source": [
    "nmf = NMF(13, alpha=.1, l1_ratio=.5, random_state=0, max_iter=500)\n",
    "doc_topic = nmf.fit_transform(word_vect)"
   ]
  },
  {
   "cell_type": "code",
   "execution_count": 100,
   "metadata": {},
   "outputs": [],
   "source": [
    "topic_word = pd.DataFrame(nmf.components_,\n",
    "                              index=['topic_'+str(i) for i in range(12)],\n",
    "                              columns=pipeline.vectorizer.get_feature_names())\n"
   ]
  },
  {
   "cell_type": "code",
   "execution_count": 101,
   "metadata": {},
   "outputs": [],
   "source": [
    "high_median_words = topic_word.median(axis=0).sort_values(ascending=False).head(25).index.to_list()"
   ]
  },
  {
   "cell_type": "code",
   "execution_count": 103,
   "metadata": {},
   "outputs": [
    {
     "data": {
      "image/png": "[encoded data removed]",
      "text/plain": [
       "<Figure size 432x288 with 1 Axes>"
      ]
     },
     "metadata": {
      "needs_background": "light"
     },
     "output_type": "display_data"
    },
    {
     "data": {
      "image/png": "[encoded data removed]",
      "text/plain": [
       "<Figure size 432x288 with 1 Axes>"
      ]
     },
     "metadata": {
      "needs_background": "light"
     },
     "output_type": "display_data"
    },
    {
     "data": {
      "image/png": "[encoded data removed]",
      "text/plain": [
       "<Figure size 432x288 with 1 Axes>"
      ]
     },
     "metadata": {
      "needs_background": "light"
     },
     "output_type": "display_data"
    },
    {
     "data": {
      "image/png": "[encoded data removed]",
      "text/plain": [
       "<Figure size 432x288 with 1 Axes>"
      ]
     },
     "metadata": {
      "needs_background": "light"
     },
     "output_type": "display_data"
    },
    {
     "data": {
      "image/png": "[encoded data removed]",
      "text/plain": [
       "<Figure size 432x288 with 1 Axes>"
      ]
     },
     "metadata": {
      "needs_background": "light"
     },
     "output_type": "display_data"
    },
    {
     "data": {
      "image/png": "[encoded data removed]",
      "text/plain": [
       "<Figure size 432x288 with 1 Axes>"
      ]
     },
     "metadata": {
      "needs_background": "light"
     },
     "output_type": "display_data"
    },
    {
     "data": {
      "image/png": "[encoded data removed]",
      "text/plain": [
       "<Figure size 432x288 with 1 Axes>"
      ]
     },
     "metadata": {
      "needs_background": "light"
     },
     "output_type": "display_data"
    },
    {
     "data": {
      "image/png": "[encoded data removed]",
      "text/plain": [
       "<Figure size 432x288 with 1 Axes>"
      ]
     },
     "metadata": {
      "needs_background": "light"
     },
     "output_type": "display_data"
    },
    {
     "data": {
      "image/png": "[encoded data removed]",
      "text/plain": [
       "<Figure size 432x288 with 1 Axes>"
      ]
     },
     "metadata": {
      "needs_background": "light"
     },
     "output_type": "display_data"
    },
    {
     "data": {
      "image/png": "[encoded data removed]",
      "text/plain": [
       "<Figure size 432x288 with 1 Axes>"
      ]
     },
     "metadata": {
      "needs_background": "light"
     },
     "output_type": "display_data"
    },
    {
     "data": {
      "image/png": "[encoded data removed]",
      "text/plain": [
       "<Figure size 432x288 with 1 Axes>"
      ]
     },
     "metadata": {
      "needs_background": "light"
     },
     "output_type": "display_data"
    },
    {
     "data": {
      "image/png": "[encoded data removed]",
      "text/plain": [
       "<Figure size 432x288 with 1 Axes>"
      ]
     },
     "metadata": {
      "needs_background": "light"
     },
     "output_type": "display_data"
    },
    {
     "data": {
      "image/png": "[encoded data removed]",
      "text/plain": [
       "<Figure size 432x288 with 1 Axes>"
      ]
     },
     "metadata": {
      "needs_background": "light"
     },
     "output_type": "display_data"
    },
    {
     "data": {
      "image/png": "[encoded data removed]",
      "text/plain": [
       "<Figure size 432x288 with 1 Axes>"
      ]
     },
     "metadata": {
      "needs_background": "light"
     },
     "output_type": "display_data"
    },
    {
     "data": {
      "image/png": "[encoded data removed]",
      "text/plain": [
       "<Figure size 432x288 with 1 Axes>"
      ]
     },
     "metadata": {
      "needs_background": "light"
     },
     "output_type": "display_data"
    },
    {
     "data": {
      "image/png": "[encoded data removed]",
      "text/plain": [
       "<Figure size 432x288 with 1 Axes>"
      ]
     },
     "metadata": {
      "needs_background": "light"
     },
     "output_type": "display_data"
    },
    {
     "data": {
      "image/png": "[encoded data removed]",
      "text/plain": [
       "<Figure size 432x288 with 1 Axes>"
      ]
     },
     "metadata": {
      "needs_background": "light"
     },
     "output_type": "display_data"
    },
    {
     "data": {
      "image/png": "[encoded data removed]",
      "text/plain": [
       "<Figure size 432x288 with 1 Axes>"
      ]
     },
     "metadata": {
      "needs_background": "light"
     },
     "output_type": "display_data"
    },
    {
     "data": {
      "image/png": "[encoded data removed]",
      "text/plain": [
       "<Figure size 432x288 with 1 Axes>"
      ]
     },
     "metadata": {
      "needs_background": "light"
     },
     "output_type": "display_data"
    },
    {
     "data": {
      "image/png": "[encoded data removed]",
      "text/plain": [
       "<Figure size 432x288 with 1 Axes>"
      ]
     },
     "metadata": {
      "needs_background": "light"
     },
     "output_type": "display_data"
    },
    {
     "data": {
      "image/png": "[encoded data removed]",
      "text/plain": [
       "<Figure size 432x288 with 1 Axes>"
      ]
     },
     "metadata": {
      "needs_background": "light"
     },
     "output_type": "display_data"
    },
    {
     "data": {
      "image/png": "[encoded data removed]",
      "text/plain": [
       "<Figure size 432x288 with 1 Axes>"
      ]
     },
     "metadata": {
      "needs_background": "light"
     },
     "output_type": "display_data"
    },
    {
     "data": {
      "image/png": "[encoded data removed]",
      "text/plain": [
       "<Figure size 432x288 with 1 Axes>"
      ]
     },
     "metadata": {
      "needs_background": "light"
     },
     "output_type": "display_data"
    },
    {
     "data": {
      "image/png": "[encoded data removed]",
      "text/plain": [
       "<Figure size 432x288 with 1 Axes>"
      ]
     },
     "metadata": {
      "needs_background": "light"
     },
     "output_type": "display_data"
    },
    {
     "data": {
      "image/png": "[encoded data removed]",
      "text/plain": [
       "<Figure size 432x288 with 1 Axes>"
      ]
     },
     "metadata": {
      "needs_background": "light"
     },
     "output_type": "display_data"
    }
   ],
   "source": [
    "for word in high_median_words:\n",
    "    plt.title(word)\n",
    "    plt.barh(topic_word[word].index, topic_word[word].values)\n",
    "#     plt.savefig(word+'.pdf')\n",
    "#     plt.xticks(rotation=90)\n",
    "    plt.show()"
   ]
  },
  {
   "cell_type": "code",
   "execution_count": null,
   "metadata": {},
   "outputs": [],
   "source": []
  },
  {
   "cell_type": "code",
   "execution_count": 145,
   "metadata": {},
   "outputs": [
    {
     "name": "stdout",
     "output_type": "stream",
     "text": [
      "\n",
      "Topic  0\n",
      "long, look, happen, end, want, hard, feel, point, lose, relationship, try, leave, post, month, away, problem, break, come, let, family, have, world, hope, year, day, mind, mean, know, sure, past, time, live, guy, change, read, okay, ago, close, girl, place, remember, deal, head, struggle, pretty, normal, sorry, write, real, kind, guess, probably, take, love, see, get, will, give, matt, make, meet, completely, cause, believe, moment, ask, situation, experience, play, stuff, hear, find, recently, new, constantly, stay, realize, keep, different, worry, honestly, turn, girlfriend, care, watch, help, need, idea, enjoy, boyfriend, thank, say, spend, listen, suffer, tell, brain, word, fall, couple, sense, lie, bring, big, interest, face, game, finally, fight, late, date, share, fear, drink, literally, weird, speak, control, etc, open, forget, start, far, support, cut, usually, state, fact, inside, night, sit, nice, stick, video, act, hang, afraid, fine, hold, push, reach, extremely, happiness, miss, begin, sound, kinda, truly, wrong, week\n",
      "\n",
      "Topic  1\n",
      "not, have, will, ill, alot, sorry, parent, point, handle, alive, cant, problem, bother, okay, cause, deserve, suicidal, stuff, annoy, worthless, cuz, cut, kinda, kill, tell, wait, shitty, literally, pathetic, exist, girlfriend, everytime, mind, workout, bore, dumb, god, girl, fix, matt, real, tho, trust, month, end, fuck, get, useless, confuse, like, inside, atleast, head, hate, know, hard, hell, mad, sick, honestly, explain, hello, ppl, distract, hobby, fun, fake, hug, normal, let, drink, remember, group, dog, type, leave, english, rant, sound, change, gym, everyones, fail, barely, dead, lie, act, shut, worth, afraid, lose, terrible, force, weak, worry, shit, highschool, motivation, try, ignore, date, anytime, yea, loser, fault, stick, beg, want, stand, sell, aswell, escape, game, meds, fine, yes, live, belong, drop, ago, quarantine, place, smoke, guy, angry, honest, lazy, bear, ask, away, pursue, abt, crush, random, talk, harm, world, sense, open, laugh, cus, trap, interest, mentally, hospital, face, lately, lockdown, voice, mum\n",
      "\n",
      "Topic  2\n",
      "work, job, home, money, quit, new, hour, month, hard, stress, college, pay, boss, leave, spend, lose, year, apply, interview, day, week, company, career, house, car, manager, degree, try, motivation, take, live, bill, graduate, drive, stick, place, shift, stay, afford, fire, wife, meds, sick, coworker, rend, covid, bed, family, office, weekend, move, lazy, focus, struggle, morning, hire, make, finish, worker, failure, break, energy, plan, end, barely, waste, husband, business, hobby, field, clean, motivate, give, debt, study, pandemic, find, enjoy, worry, gym, support, minimum, suck, buy, position, manage, unemployed, apartment, stressful, currently, goal, project, suppose, fail, schedule, exhaust, early, useless, marry, wage, current, task, option, insurance, store, etc, rest, call, long, employer, productive, interest, change, university, get, low, retail, offer, country, mentally, extra, miserable, effort, need, food, worth, train, employee, disability, function, decent, customer, hopeless, drop, late, busy, routine, sit, doctor, improve, saving, free, passion, forward, uni, overwhelm, ago, start, town, successful\n",
      "\n",
      "Topic  3\n",
      "sleep, wake, night, hour, bed, asleep, dream, fall, morning, day, awake, nightmare, stay, exhaust, pill, energy, drink, late, schedule, lie, insomnia, room, eye, take, nap, motivation, barely, past, week, tonight, mind, early, literally, lay, till, cycle, normal, happen, shower, forever, minute, rest, body, watch, home, wrong, sleepy, work, escape, usually, pass, light, house, weekend, long, spend, alive, reality, phone, alarm, get, repeat, brain, hope, turn, walk, half, sit, hell, headache, trouble, hard, productive, hallucination, force, meds, paralysis, remember, end, dread, function, dead, coffee, effect, sleeping, away, dark, vivid, physically, doctor, currently, soon, lack, lately, couple, shut, afternoon, distract, tip, usual, melatonin, constant, clean, deprivation, noise, sick, yesterday, smoke, lazy, help, constantly, floor, stress, straight, miserable, relax, fatigue, symptom, dose, ago, head, stare, bore, midnight, exhaustion, terror, notice, zombie, pattern, start, stomach, wait, real, month, routine, even, breathe, close, endless, normally, quarantine, waste, drain, alcohol, scream, run, apnea, deprive, keep, properly\n",
      "\n",
      "Topic  4\n",
      "school, high, class, college, year, grade, parent, fail, semester, study, teacher, graduate, bully, student, home, miss, drop, online, stress, motivation, homework, finish, senior, university, middle, test, exam, summer, kid, learn, assignment, skip, counselor, failure, attend, girl, junior, group, take, freshman, degree, math, play, waste, course, quarantine, pass, smart, gpa, barely, education, elementary, focus, classmate, sophomore, suck, major, lazy, pretty, sit, late, end, new, make, bed, pressure, fun, plan, basically, art, career, program, game, begin, point, probably, struggle, stuff, move, final, currently, literally, apply, start, age, outside, stop, like, hate, interest, highschool, english, useless, motivate, hang, disappoint, suppose, project, know, talk, leave, academic, country, single, decide, skill, graduation, force, sport, transfer, teach, stay, adhd, early, uni, month, spend, horrible, honestly, hard, loser, scholarship, easy, week, half, average, computer, popular, grad, awkward, boy, super, schoolwork, eventually, handle, campus, excuse, shy, special, kick, subject, smoke, have, far, straight, fuck, science, dumb, adult, meet\n",
      "\n",
      "Topic  5\n",
      "therapist, medication, doctor, meds, take, diagnose, psychiatrist, disorder, appointment, experience, month, see, bipolar, antidepressant, diagnosis, session, suicidal, symptom, help, insurance, prescribe, struggle, new, effect, adhd, week, hospital, finally, sure, harm, treatment, ago, psychologist, question, professional, ocd, different, problem, parent, recently, mood, severe, past, anti, dose, seek, long, work, pill, ptsd, ask, zoloft, deal, year, stop, episode, need, depressive, drug, wonder, change, kind, depressant, suffer, recommend, major, medical, bpd, appreciate, idea, medicine, afford, thank, currently, hear, test, option, prescription, thanks, etc, prozac, patient, psych, personality, find, lexapro, give, start, visit, nervous, wait, borderline, online, call, try, ssri, open, counselor, cope, admit, service, schedule, hello, counsel, couple, wellbutrin, hospitalize, support, helpful, cause, low, list, high, worry, refuse, trauma, talk, believe, dosage, similar, consider, issue, add, sertraline, refer, possible, function, seriously, pretty, answer, control, concern, switch, attempt, decide, psychiatric, schizophrenia, soon, explain, notice, state, treat, expect, multiple, normal, cbt, check, med, area, send\n",
      "\n",
      "Topic  6\n",
      "cry, tear, break, okay, eye, night, sadness, laugh, feel, scream, emotion, emotional, hour, upset, song, breakdown, smile, sit, day, bed, lately, happen, chest, hug, boyfriend, time, want, yell, ago, hold, normal, month, yesterday, care, crying, movie, sensitive, minute, inside, watch, randomly, easily, listen, angry, bathroom, hear, die, burst, overwhelm, unable, finally, try, baby, comfort, hard, home, cat, room, calm, stress, release, shake, dog, fine, floor, fake, sorry, throat, small, birthday, weird, come, verge, sob, distract, see, headache, literally, suck, ask, let, sure, bottle, uncontrollably, miss, mad, remember, bawl, ball, matt, car, anger, teacher, tonight, express, stuff, strong, curl, alright, usually, control, lie, fun, hide, write, embarrass, moment, trigger, worthless, shoulder, shed, fall, numbness, physical, storm, rarely, random, tell, cause, fight, till, everytime, blank, irritate, breathe, suddenly, anyways, desperate, face, somebody, relieve, middle, build, harm, death, currently, explode, hit, weight, man, help, morning, kill, episode, call, urge, emotionally, arm, horrible, sore\n",
      "\n",
      "Topic  7\n",
      "mom, dad, parent, family, brother, sister, mother, house, home, father, kid, room, abuse, child, leave, yell, call, young, sibling, live, tell, mad, money, abusive, die, away, old, divorce, ask, move, want, fight, mum, blame, phone, say, daughter, angry, grandma, come, know, scream, grow, stay, problem, cousin, childhood, hospital, car, bring, argument, see, beat, take, son, age, uncle, refuse, talk, stuff, will, threaten, grade, keep, visit, kill, hear, raise, close, ago, need, step, aunt, fault, love, member, dog, husband, marry, believe, hit, get, pass, mentally, find, emotionally, bear, turn, cancer, door, treat, give, anger, drink, upset, remember, baby, let, kick, act, hate, cause, police, support, grandmother, throw, ignore, deal, run, argue, basically, clean, night, speak, grandparent, adult, physically, horrible, bully, send, late, time, sorry, piss, stand, drive, dinner, year, lie, drug, man, worry, place, boyfriend, buy, country, walk, alcoholic, big, cat, christmas, food, situation, dead, birthday, constantly, pay, narcissistic, verbally, stop\n",
      "\n",
      "Topic  8\n",
      "scare, fear, hospital, afraid, happen, terrify, will, scary, open, death, dye, worry, parent, away, paranoid, scared, lose, start, reach, sorry, forever, suicidal, honestly, cut, freak, depend, end, judge, doctor, cause, night, somebody, recently, insane, edge, close, confuse, dark, nervous, admit, harm, fail, calm, kill, big, hear, past, normal, inside, outside, trust, tell, failure, real, room, sound, lately, overwhelm, knife, pain, control, terrible, shake, nightmare, handle, soon, mess, leave, ruin, honest, professional, family, fuck, mask, idea, dumb, attempt, psychiatrist, urge, ready, stick, sadness, live, kinda, lock, bring, confidence, ward, emptiness, kind, relapse, tuesday, come, boyfriend, dead, faint, near, sudden, probably, place, stress, pussy, hopeless, voice, disappoint, incredibly, attention, extremely, btw, horrible, angry, overdose, rope, comfort, iam, fall, safe, doubt, super, grow, void, send, tonight, ashamed, coronavirus, commit, thx, safety, turn, affect, stuff, appointment, subreddit, constant, option, new, courage, especially, coward, crazy, shitless, draft, mind, overreact, drive, complicate, chest, chicken, eye, disappear\n",
      "\n",
      "Topic  9\n",
      "eat, weight, food, disorder, lose, gain, body, meal, healthy, hungry, appetite, fat, day, exercise, binge, bed, shower, skinny, calory, pound, starve, stomach, drink, diet, eating, look, breakfast, force, throw, lunch, habit, sick, disgust, motivation, anorexia, barely, energy, struggle, dinner, fast, usually, unhealthy, cook, stress, month, overweight, brush, recently, water, pizza, snack, weigh, junk, thin, clean, bite, tooth, past, gym, enjoy, home, room, vomit, week, underweight, start, mirror, obese, taste, small, purge, bulimia, depressive, control, cause, clothe, low, stop, loss, wash, hair, slowly, physically, constantly, harm, tip, quarantine, normally, restrict, sugar, normal, worry, satisfy, calorie, try, chore, nauseous, walk, recover, hunger, loose, smoke, nausea, lately, overeat, year, skin, workout, hour, watch, fatigue, make, half, anorexic, count, physical, bathroom, bring, ugly, buy, gross, symptom, episode, get, pain, blood, etc, lazy, notice, dysmorphia, meat, point, house, properly, manage, zero, order, motivate, outside, extreme, image, bowl, puke, spend, kitchen, couple, heavy, egg, soda, fridge\n",
      "\n",
      "Topic  10\n",
      "panic, attack, have, calm, happen, disorder, breathe, heart, trigger, cause, symptom, severe, experience, breakdown, episode, shake, normal, head, fear, feel, diagnose, afraid, weird, night, cope, past, deal, worry, ptsd, constant, brain, ago, stress, think, usually, time, body, chest, control, dizzy, recently, suddenly, scream, lately, start, last, constantly, terrify, hour, harm, intense, hyperventilate, doctor, random, trouble, freak, throw, wrong, physical, minute, crazy, paranoid, help, daily, breath, voice, house, flashback, dye, late, boyfriend, depressive, stomach, extreme, intrusive, week, trauma, sound, sure, super, completely, sudden, hear, day, wave, extremely, currently, horrible, sweat, vision, room, ocd, major, scary, crisis, real, yell, beat, attacks, stuff, remember, loud, agoraphobia, hallucination, explode, couple, leave, home, kinda, mild, come, blow, nightmare, second, spiral, etc, send, normally, problem, hit, suffer, lead, fast, month, sign, smoke, test, moment, paranoia, monday, tip, sort, xanax, having, begin, race, blood, frequent, small, explain, fine, anxiety, traumatic, get, nervous, example, nauseous, possible, describe, strange\n",
      "\n",
      "Topic  11\n",
      "think, suicide, suicidal, commit, kill, attempt, death, harm, mind, plan, head, consider, hotline, dye, want, dead, normal, end, lately, note, ideation, negative, write, past, attention, cut, hospital, suffer, constantly, idea, family, worry, fail, alive, recently, know, contemplate, time, crazy, realize, happen, brain, easy, wonder, ago, question, night, pill, seriously, guess, jump, probably, sure, overdose, intrusive, die, option, finally, method, worth, say, find, fine, horrible, fuck, come, pain, fact, keep, honestly, exist, kind, moment, wrong, reason, sound, gun, painful, selfish, believe, kinda, have, regret, overthinking, prevention, urge, process, god, coward, freak, unhappy, care, hit, hell, shitty, imagine, somebody, nearly, mentally, scary, feel, afraid, tell, turn, sit, actively, laugh, fake, trigger, call, tonight, obviously, cause, react, weird, hospitalize, wrist, fantasize, month, stop, spiral, ward, week, point, rational, yes, distract, answer, crisis, knife, way, hear, honest, terrible, instead, survive, concern, scenario, ill, insane, mean, calm, thinking, convince, pop, hang, dumb, genuinely, car, seek\n",
      "\n",
      "Topic  12\n",
      "hurt, pain, cut, end, deserve, break, away, heart, leave, harm, body, physically, chest, head, suffer, physical, love, will, okay, care, exist, emotionally, alive, horrible, urge, hard, sorry, stomach, let, matt, badly, inside, painful, sick, cause, trust, kill, death, arm, know, world, hope, god, live, angry, constant, breathe, fight, get, ruin, emotional, scream, push, hit, piece, lose, throw, forgive, point, wrong, deep, anger, sensitive, close, strong, ache, miss, friendship, awful, one, fault, bleed, worthless, dead, disappoint, unbearable, wrist, scar, burden, worth, sadness, blood, misery, save, punch, neck, honestly, existence, guilt, useless, easy, handle, want, stop, skin, hell, dye, mean, way, eye, escape, stand, chronic, tonight, regret, heal, hold, upset, family, dark, fair, try, die, use, cope, listen, knife, somebody, animal, weak, ignore, understand, deal, run, afraid, damn, literally, truly, endure, human, act, boyfriend, hopeless, selfish, torture, tear, single, leg, destroy, everybody, desperate, bear, burn, abuse, stab, girlfriend, inflict, trap, option, everytime\n"
     ]
    }
   ],
   "source": [
    "display_topics(nmf, pipeline.vectorizer.get_feature_names(), 150)"
   ]
  },
  {
   "cell_type": "code",
   "execution_count": null,
   "metadata": {},
   "outputs": [],
   "source": [
    "# \"told\", 'tomorrow', 'everyday', 'future', 'reason', 'pay', 'got', 'said', 'everyday', 'tomorrow', 'week', 'old', 'start', 'anxious', 'able', 'tried', 'features'"
   ]
  },
  {
   "cell_type": "code",
   "execution_count": 42,
   "metadata": {},
   "outputs": [],
   "source": [
    "# plot_topics(nmf, topic=9, num_words=50)"
   ]
  },
  {
   "cell_type": "code",
   "execution_count": 39,
   "metadata": {},
   "outputs": [],
   "source": [
    "# lda = LatentDirichletAllocation(n_components=10, random_state=0)\n",
    "# lda.fit(word_vect)"
   ]
  },
  {
   "cell_type": "code",
   "execution_count": 38,
   "metadata": {},
   "outputs": [],
   "source": [
    "# import pickle\n",
    "\n",
    "# path = '/Users/collinswestnedge/programming/Metis_Online/project_04/pickles/'\n",
    "\n",
    "# with open(path+'idk.pickle', 'wb') as file:\n",
    "#     pickle.dump(nmf, file)\n",
    "#     pickle.dump(word_vect, file)\n",
    "#     pickle.dump(pipeline.vectorizer, file)"
   ]
  },
  {
   "cell_type": "code",
   "execution_count": 35,
   "metadata": {},
   "outputs": [],
   "source": [
    "with open(path+'best_topic_model.pickle', 'rb') as file:\n",
    "    nmf2 = pickle.load(file)\n",
    "    word_vec2 = pickle.load(file)\n",
    "    vectorizer = pickle.load(file)"
   ]
  },
  {
   "cell_type": "code",
   "execution_count": null,
   "metadata": {},
   "outputs": [],
   "source": [
    "# import pyLDAvis\n",
    "# import pyLDAvis.sklearn\n",
    "# pyLDAvis.enable_notebook()\n",
    "\n",
    "# pyLDAvis.sklearn.prepare(lda, np.matrix(word_vect), pipeline.vectorizer, mds='mmds')"
   ]
  },
  {
   "cell_type": "code",
   "execution_count": null,
   "metadata": {},
   "outputs": [],
   "source": []
  }
 ],
 "metadata": {
  "kernelspec": {
   "display_name": "Python 3",
   "language": "python",
   "name": "python3"
  },
  "language_info": {
   "codemirror_mode": {
    "name": "ipython",
    "version": 3
   },
   "file_extension": ".py",
   "mimetype": "text/x-python",
   "name": "python",
   "nbconvert_exporter": "python",
   "pygments_lexer": "ipython3",
   "version": "3.7.4"
  }
 },
 "nbformat": 4,
 "nbformat_minor": 4
}
