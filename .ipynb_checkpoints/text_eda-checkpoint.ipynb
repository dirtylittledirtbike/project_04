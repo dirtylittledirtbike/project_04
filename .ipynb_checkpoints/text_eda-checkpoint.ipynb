{
 "cells": [
  {
   "cell_type": "code",
   "execution_count": 1,
   "metadata": {},
   "outputs": [],
   "source": [
    "import pandas as pd\n",
    "import numpy as np\n",
    "import datetime \n",
    "import re\n",
    "from urlextract import URLExtract\n",
    "import spacy"
   ]
  },
  {
   "cell_type": "code",
   "execution_count": 2,
   "metadata": {},
   "outputs": [],
   "source": [
    "extractor = URLExtract()\n",
    "def replace_urls(x):\n",
    "    urls = extractor.find_urls(x)\n",
    "    if urls:\n",
    "        x_new = replace_urls(x.replace(urls[0],''))\n",
    "        return x_new\n",
    "    else:\n",
    "        return x"
   ]
  },
  {
   "cell_type": "code",
   "execution_count": 3,
   "metadata": {
    "scrolled": true
   },
   "outputs": [],
   "source": [
    "mh_df =  pd.read_csv('data/mh_rand_large.csv', low_memory=False)\n",
    "depression = pd.read_csv('data/depression_rand_large.csv', low_memory=False)\n",
    "\n",
    "mh_df.drop(columns=['Unnamed: 0'], inplace=True)\n",
    "depression.drop(columns=['Unnamed: 0'], inplace=True)\n",
    "\n",
    "mh_df['date'] = pd.to_datetime(mh_df.date)\n",
    "depression['date'] = pd.to_datetime(depression.date)\n",
    "\n",
    "mh_df.drop_duplicates(subset=['id'], inplace=True)\n",
    "depression.drop_duplicates(subset=['id'], inplace=True)\n"
   ]
  },
  {
   "cell_type": "code",
   "execution_count": 4,
   "metadata": {},
   "outputs": [],
   "source": [
    "df_full = pd.concat([mh_df, depression])"
   ]
  },
  {
   "cell_type": "code",
   "execution_count": 5,
   "metadata": {
    "scrolled": true
   },
   "outputs": [
    {
     "data": {
      "text/html": [
       "<div>\n",
       "<style scoped>\n",
       "    .dataframe tbody tr th:only-of-type {\n",
       "        vertical-align: middle;\n",
       "    }\n",
       "\n",
       "    .dataframe tbody tr th {\n",
       "        vertical-align: top;\n",
       "    }\n",
       "\n",
       "    .dataframe thead th {\n",
       "        text-align: right;\n",
       "    }\n",
       "</style>\n",
       "<table border=\"1\" class=\"dataframe\">\n",
       "  <thead>\n",
       "    <tr style=\"text-align: right;\">\n",
       "      <th></th>\n",
       "      <th>date</th>\n",
       "      <th>id</th>\n",
       "      <th>author</th>\n",
       "      <th>subreddit</th>\n",
       "      <th>title</th>\n",
       "      <th>selftext</th>\n",
       "    </tr>\n",
       "  </thead>\n",
       "  <tbody>\n",
       "    <tr>\n",
       "      <th>0</th>\n",
       "      <td>2019-10-11 16:41:57</td>\n",
       "      <td>dglq7k</td>\n",
       "      <td>liznormal23</td>\n",
       "      <td>mentalhealth</td>\n",
       "      <td>Mental Health Gray Area. Please help.</td>\n",
       "      <td>*TRIGGER WARNING: EATING DISORDER AND SUBSTANC...</td>\n",
       "    </tr>\n",
       "    <tr>\n",
       "      <th>1</th>\n",
       "      <td>2019-10-11 15:36:08</td>\n",
       "      <td>dgloc1</td>\n",
       "      <td>tacobean87</td>\n",
       "      <td>mentalhealth</td>\n",
       "      <td>what’s wrong with me ?</td>\n",
       "      <td>every single time i read something my mind blu...</td>\n",
       "    </tr>\n",
       "    <tr>\n",
       "      <th>2</th>\n",
       "      <td>2019-10-11 15:09:15</td>\n",
       "      <td>dglieu</td>\n",
       "      <td>AquilaVI</td>\n",
       "      <td>mentalhealth</td>\n",
       "      <td>I'm trying to deal with a deadly car crash. (A...</td>\n",
       "      <td>Hello, people! A little backstory. I'll try to...</td>\n",
       "    </tr>\n",
       "    <tr>\n",
       "      <th>3</th>\n",
       "      <td>2019-10-11 14:31:43</td>\n",
       "      <td>dglgl6</td>\n",
       "      <td>Mrcoolbaby</td>\n",
       "      <td>mentalhealth</td>\n",
       "      <td>Overwhelmed</td>\n",
       "      <td>I feel like my life is on loop. All the same k...</td>\n",
       "    </tr>\n",
       "    <tr>\n",
       "      <th>4</th>\n",
       "      <td>2019-10-11 11:39:06</td>\n",
       "      <td>dglfcf</td>\n",
       "      <td>TheA55M4N</td>\n",
       "      <td>mentalhealth</td>\n",
       "      <td>Anxiety and obsessions</td>\n",
       "      <td>I wrote my story here</td>\n",
       "    </tr>\n",
       "    <tr>\n",
       "      <th>...</th>\n",
       "      <td>...</td>\n",
       "      <td>...</td>\n",
       "      <td>...</td>\n",
       "      <td>...</td>\n",
       "      <td>...</td>\n",
       "      <td>...</td>\n",
       "    </tr>\n",
       "    <tr>\n",
       "      <th>16695</th>\n",
       "      <td>2020-10-23 13:04:12</td>\n",
       "      <td>jgsc4e</td>\n",
       "      <td>reddeaddoritos</td>\n",
       "      <td>depression</td>\n",
       "      <td>What was that??</td>\n",
       "      <td>More than year ago i had some sort of breakdow...</td>\n",
       "    </tr>\n",
       "    <tr>\n",
       "      <th>16696</th>\n",
       "      <td>2020-10-23 13:02:54</td>\n",
       "      <td>jgsb6b</td>\n",
       "      <td>satanslittl3sist3r</td>\n",
       "      <td>depression</td>\n",
       "      <td>I don’t want to be here anymore.</td>\n",
       "      <td>I’m bipolar1 and bpd. I have been doing some t...</td>\n",
       "    </tr>\n",
       "    <tr>\n",
       "      <th>16697</th>\n",
       "      <td>2020-10-23 12:59:24</td>\n",
       "      <td>jgs8ht</td>\n",
       "      <td>lIIIlllIIlllllIlllll</td>\n",
       "      <td>depression</td>\n",
       "      <td>I have become addicted</td>\n",
       "      <td>I cut myself on the upper arm I really want to...</td>\n",
       "    </tr>\n",
       "    <tr>\n",
       "      <th>16698</th>\n",
       "      <td>2020-10-23 12:58:42</td>\n",
       "      <td>jgs80h</td>\n",
       "      <td>ncorona12</td>\n",
       "      <td>depression</td>\n",
       "      <td>expierences with lexopro? (or any antidepressa...</td>\n",
       "      <td>I was prescribed 10 mg Lexapro yesterday and i...</td>\n",
       "    </tr>\n",
       "    <tr>\n",
       "      <th>16699</th>\n",
       "      <td>2020-10-23 12:57:46</td>\n",
       "      <td>jgs7cr</td>\n",
       "      <td>ohhotjelly</td>\n",
       "      <td>depression</td>\n",
       "      <td>My first good day after being cheated on</td>\n",
       "      <td>Last night was the first truly good evening i'...</td>\n",
       "    </tr>\n",
       "  </tbody>\n",
       "</table>\n",
       "<p>29249 rows × 6 columns</p>\n",
       "</div>"
      ],
      "text/plain": [
       "                     date      id                author     subreddit  \\\n",
       "0     2019-10-11 16:41:57  dglq7k           liznormal23  mentalhealth   \n",
       "1     2019-10-11 15:36:08  dgloc1            tacobean87  mentalhealth   \n",
       "2     2019-10-11 15:09:15  dglieu              AquilaVI  mentalhealth   \n",
       "3     2019-10-11 14:31:43  dglgl6            Mrcoolbaby  mentalhealth   \n",
       "4     2019-10-11 11:39:06  dglfcf             TheA55M4N  mentalhealth   \n",
       "...                   ...     ...                   ...           ...   \n",
       "16695 2020-10-23 13:04:12  jgsc4e        reddeaddoritos    depression   \n",
       "16696 2020-10-23 13:02:54  jgsb6b    satanslittl3sist3r    depression   \n",
       "16697 2020-10-23 12:59:24  jgs8ht  lIIIlllIIlllllIlllll    depression   \n",
       "16698 2020-10-23 12:58:42  jgs80h             ncorona12    depression   \n",
       "16699 2020-10-23 12:57:46  jgs7cr            ohhotjelly    depression   \n",
       "\n",
       "                                                   title  \\\n",
       "0                  Mental Health Gray Area. Please help.   \n",
       "1                                 what’s wrong with me ?   \n",
       "2      I'm trying to deal with a deadly car crash. (A...   \n",
       "3                                            Overwhelmed   \n",
       "4                                 Anxiety and obsessions   \n",
       "...                                                  ...   \n",
       "16695                                    What was that??   \n",
       "16696                   I don’t want to be here anymore.   \n",
       "16697                             I have become addicted   \n",
       "16698  expierences with lexopro? (or any antidepressa...   \n",
       "16699           My first good day after being cheated on   \n",
       "\n",
       "                                                selftext  \n",
       "0      *TRIGGER WARNING: EATING DISORDER AND SUBSTANC...  \n",
       "1      every single time i read something my mind blu...  \n",
       "2      Hello, people! A little backstory. I'll try to...  \n",
       "3      I feel like my life is on loop. All the same k...  \n",
       "4                                 I wrote my story here   \n",
       "...                                                  ...  \n",
       "16695  More than year ago i had some sort of breakdow...  \n",
       "16696  I’m bipolar1 and bpd. I have been doing some t...  \n",
       "16697  I cut myself on the upper arm I really want to...  \n",
       "16698  I was prescribed 10 mg Lexapro yesterday and i...  \n",
       "16699  Last night was the first truly good evening i'...  \n",
       "\n",
       "[29249 rows x 6 columns]"
      ]
     },
     "execution_count": 5,
     "metadata": {},
     "output_type": "execute_result"
    }
   ],
   "source": [
    "# remove indents and urls and double spaces\n",
    "df_full['selftext'] = df_full.selftext.map(lambda x: re.sub('\\n',' ',str(x)))\n",
    "df_full['selftext'] = df_full.selftext.map(lambda x: re.sub('  ',' ',str(x)))\n",
    "df_full['selftext'] = df_full.selftext.map(lambda x: replace_urls(x))\n",
    "\n",
    "cols_of_interest = ['date', 'id', 'author', 'subreddit', 'title', 'selftext']\n",
    "df_full_clean = df_full[(df_full.selftext != '[removed]') & (df_full.selftext != '[deleted]')].copy()\n",
    "df_full_clean[cols_of_interest]"
   ]
  },
  {
   "cell_type": "code",
   "execution_count": 6,
   "metadata": {},
   "outputs": [],
   "source": [
    "class NLPPipe:\n",
    "    \n",
    "    def __init__(self, vectorizer, tokenizer, disable, pos, lemma=False):\n",
    "        \n",
    "        self.vectorizer = vectorizer\n",
    "        self.tokenize = tokenizer\n",
    "        self.disable = disable\n",
    "        self.pos_list = pos\n",
    "        self.lemma = lemma\n",
    "    \n",
    "    def process_text(self, text):\n",
    "\n",
    "        nlp = spacy.load(\"en_core_web_sm\")\n",
    "        nlp.vocab[\"myself\"].is_stop = False\n",
    "        nlp.vocab[\" \"].is_stop = True\n",
    "        nlp.vocab[\"like\"].is_stop = True\n",
    "        nlp.vocab[\"think\"].is_stop = True\n",
    "        nlp.vocab[\"know\"].is_stop = True\n",
    "\n",
    "        text_full = [] \n",
    "        for doc in nlp.pipe(text, disable=self.disable):\n",
    "            # if part of speech list isnt empty return matches for pos\n",
    "            if self.pos_list:\n",
    "                tokens = [(ent.text) for ent in doc if not ent.is_stop and not ent.is_punct and ent.pos_ in self.pos_list]\n",
    "                cleaned_text = \" \".join(tokens)\n",
    "                text_full.append(cleaned_text)\n",
    "            elif self.lemma == True:\n",
    "                tokens = [(ent.lemma_) for ent in doc if not ent.is_stop and not ent.is_punct]\n",
    "                cleaned_text = \" \".join(tokens)\n",
    "                text_full.append(cleaned_text)\n",
    "            else:\n",
    "                tokens = [(ent.text) for ent in doc if not ent.is_stop and not ent.is_punct]\n",
    "                cleaned_text = \" \".join(tokens)\n",
    "                text_full.append(cleaned_text)\n",
    "\n",
    "        return text_full\n",
    "    \n",
    "    def fit(self, text):\n",
    "        clean_text = self.process_text(text)\n",
    "        return self.vectorizer.fit(clean_text)\n",
    "    \n",
    "    def transform(self, text):\n",
    "        clean_text = self.process_text(text)\n",
    "        return self.vectorizer.transform(clean_text)\n",
    "    \n",
    "    def fit_transform(self, text):\n",
    "        clean_text = self.process_text(text)\n",
    "        return self.vectorizer.fit_transform(clean_text)"
   ]
  },
  {
   "cell_type": "code",
   "execution_count": 34,
   "metadata": {},
   "outputs": [],
   "source": [
    "def process_text(text, pos_list, lemma=False):\n",
    "\n",
    "    nlp = spacy.load(\"en_core_web_sm\")\n",
    "    nlp.vocab[\"myself\"].is_stop = False\n",
    "    nlp.vocab[\" \"].is_stop = True\n",
    "    nlp.vocab[\"like\"].is_stop = True\n",
    "    nlp.vocab[\"think\"].is_stop = True\n",
    "    nlp.vocab[\"know\"].is_stop = True\n",
    "\n",
    "    text_full = [] \n",
    "    for doc in nlp.pipe(text, disable=['parser', 'ner']):\n",
    "        # if part of speech list isnt empty return matches for pos\n",
    "        if pos_list:\n",
    "            tokens = [(ent.text) for ent in doc if not ent.is_stop and not ent.is_punct and ent.pos_ in pos_list]\n",
    "            cleaned_text = \" \".join(tokens)\n",
    "            text_full.append(cleaned_text)\n",
    "        elif lemma == True:\n",
    "            tokens = [(ent.lemma_) for ent in doc if not ent.is_stop and not ent.is_punct]\n",
    "            cleaned_text = \" \".join(tokens)\n",
    "            text_full.append(cleaned_text)\n",
    "        else:\n",
    "            tokens = [(ent.text) for ent in doc if not ent.is_stop and not ent.is_punct]\n",
    "            cleaned_text = \" \".join(tokens)\n",
    "            text_full.append(cleaned_text)\n",
    "            \n",
    "    return text_full"
   ]
  },
  {
   "cell_type": "code",
   "execution_count": 43,
   "metadata": {},
   "outputs": [
    {
     "data": {
      "text/plain": [
       "['TRIGGER WARNING EATING DISORDER SUBSTANCE treatment fact depression anxiety history disorder behaviors years food ED college time job field progression alcohol abuse expectation drinking problem job meltdown month treatment alcohol abuse disorder aspects alcohol treatment alcoholic disorder thoughts drinking correlation job situation category traits sense therapist borderline traits traits criteria ED borderline hell denial temperament drinking skill ED whisper',\n",
       " 'time mind chunk category hallucination brain internet diagnoses category psych eval mind chunk text word schizophrenia letters',\n",
       " 'people things jobs Truck vehicle recovery job interview problem corpses blood horror movies gory picture Today car accident help recovery car site accident ramp highway work car row trees mph estimates bits flesh bones car tree driver thing blur things sight body bag number parts effect way thing childs booster seat wreckage man family grief accident life people suicide crash scooters helmets trunk car pieces car people eyes moment father emotions smell',\n",
       " 'life loop incidents friends relationship lot failure People friends time pysco guy wierd person relationship friendship people lot fuck person lot relation fuck fucks time life people life lepper game',\n",
       " 'story',\n",
       " 'toughie clients church faith technique husband state diagnosis church husband church diagnosis suggestions condition progress church husband',\n",
       " '',\n",
       " 'disappointment suicide times subject blog disappointment Today people life help vein help efforts day woman friends help suicide suicide friend power way way day expectations people life',\n",
       " 'time post f job years thing bit conversation people friends thing people life people people time drugs tremors head arms People eyes lots meds psychotherapist anxiety life bit advice job interview panic attack time post mistakes native mistakes day night lol',\n",
       " 'day night home home friends options existent weekends home.\\\\\\\\ walk everyday gym meet ups hobby option thought anxiety',\n",
       " 'disability benefits store beginning year time journalist fundraiser superior boss diagnosis month relationships things week relationship ultamatum robbery managers couple days woman terms point work relationship ship head manager weeks bit promotions favor hires worker retentio days deposit months disability pay deposit benefits parties paychecks deposit store insight matter people SS system bit passions grief period relationship ones job pay employers week SS benefits months future job',\n",
       " 'grandfather years years week house times room parents blanket lap penis people man woman girls sex aspect pleasure lot people body virginity year boyfriend sex sex person childhood abuse lot parents attitude situation police guilt prison therapy parents behaviors example times room feeling sex repress issues substance abuse past weed boyfriend months time thoughts things thing issues food fascination food body image hand hand disorder diet time BMI months time grandfather food lot food food sense sense thoughts reason night hit dab time bowl thoughts head guy head face head flood memories steps boyfriend house pee house point panic attack feeling dread boyfriend room bag bed bathroom mirror adult panic attack watching car bed boyfriend backseat truck sex truck night wave sex car seats truck boyfriend truck backdoors shoes backseat feeling situation child backseat time corner head boyfriend backseat boyfriend sex point flash faces men head head handles interior car boyfriend memory car child sex memories sex attention memory sex boyfriend sex knowing sex things night things car things father Daddy thing point legs boyfriend shoulders point flash legs time penis memory beer child mom people grandfather car Sex boyfriend sense sex feeling sensation time pain month sex sex boyfriend reason sex child',\n",
       " 'hardship',\n",
       " 'months dreams life life feeling',\n",
       " 'kind thinking title years year school realschule school years reason chances possibilities future school year job slave life years performance drugs shit psychology dream stuff math self harm relapse shit law sines month exams girl lot beer girlfriend friends type thinking lies society bit people Life school thing Love fades days friends tho d people way thinking share thoughts trouble self harm scratches therapy option problems way thinking exams math ones',\n",
       " 'post Help counseling service month trial bit health youtubers advantage trial registration therapist site experience trial people scam trial experience site trial input',\n",
       " 'article',\n",
       " 'depression anxiety years year job haul friends days time trouble eating outlet therapy point time help',\n",
       " 'background cycling school depression mood swings performance school episode diagnosis love health psychiatry idea business people health issues school skills psychologist tips tricks people disorders disregulation ailments schoolwork fronts website videos anxiety study health videos blog measure person tutoring center psychologists tutors school health problem hell suggestions comment help website resources psychologists tutors business year',\n",
       " 'shit',\n",
       " 'state alcohol therapist meds year stories people kids thing state thread',\n",
       " 'work school notices cares health low years profs work time night sleep weeks',\n",
       " 'years friends school years friend groups feeling fact phone school weeks brothers friends way help parents health depression parents kids year group habit time meal school times week difference',\n",
       " '',\n",
       " 'crossing gate head concussion consciousness prominence words brain atrophy injury mind finding neurologist case user drinker atrophy brain drug use brain bleeding worry time life couple weeks personality change hypochondriac delusions health addition compulsions reason touching/ neck directions lot obsessions lot thoughts lot derealization appointment neurologist symptoms MRI brain results brain lobe rest brain finding symptoms detail issue weed months personality months',\n",
       " '',\n",
       " '',\n",
       " 'year boy emo rap people people sight characteristics people art music sense problem switching emotions life emotions things thing girlfriend world universe lack emotions times suicide reason family girlfriend friends year attention help advice life state',\n",
       " 'time mind chunk category hallucination brain internet diagnoses category psych eval',\n",
       " '',\n",
       " 'people hotlines health experiences hotlines problems experiences stranger phone statements state conclusion hotlines',\n",
       " 'Life',\n",
       " 'self respect confidence self esteem problems soul today self respect years story girlfriend years point age job factory money hours day times week girl sex times years daughter week time daughter time love sex years friends time year work pm daughter playground house backpack flat phones messenger sounds phone bestfriend(who male messages years weekend messages man clothes parents house daughter weekends year test daughter work bed games series life year woman friends people today guys problem time',\n",
       " '',\n",
       " 'friend[14F year time parents house week days cuts second Today cuts cold sniffing help',\n",
       " 'documentary',\n",
       " 'school counselor kids weeks beginning school year lot cuts arms math period class class hoodie sleeve shirt day minutes teacher counseling office I’M course counselor nurse mom class trouble point rest day hyperventilating door phone bedroom door room school permission hospital mom phone brothers room kind logic people minds state ankles',\n",
       " 'lot symptoms retail months loss prevention couple months panic stress levels associate anxiety levels need twilight zone lot home doctor yesterday week antidepressant improvement antipsychotics work management department time department managers department coworkers areas grocery registers tomorrow work lot sense mind time break',\n",
       " 'Sunburns years agoraphobia medication months meds appointments shit friends coworkers jobs months months bedroom video games month relationship boyfriend time life person things sort steps months drink weeks weed paranoia skyrocket week half life days boyfriend apartment backyard puppy fun sunburn week time world fetch pup character campaign sun sunblock tonight',\n",
       " 'minute person clump things head people',\n",
       " 'cigarettes sex ex gf cigarette hand time turn scars hand cigarette burns fetish scat feces huge week time reason bile week idea incident fetish psychologist fetishes problem identity psychiatrist feces',\n",
       " 'Age Gender Male time days money goals time role year work sense mind night position openings supervisors supervisors position work rate wreck benefits family spot doctor time work position time option company union job position words day',\n",
       " 'joke',\n",
       " 'time waters title friend health pills kidneys type words actions subreddit apologies hand Thanks',\n",
       " 'university level athlete level sporting ability people point anxiety people way film whiplash anxiety worry advice',\n",
       " 'child family responsibility habit responsibility actions everytime fault episodes depression anxiety years years breakdown family responsibility actions job work environments world experiences years',\n",
       " 'child hardship things parents world luxury age parents depression age years grade parents trash parents words actions way childhood alcohol thought skin pain Suicide times place mistakes regret poorchoices shame head cloud anxiety morning child abuse trauma abandonment pain day day day person stuff support version stories journey',\n",
       " 'time day thoughts fun idea things self harm urges life time thought self harm urge life',\n",
       " 'relationship year relationship teens details case throwaway year relationship breakup sides lack understanding things year honeymoon year things things advice day flashbacks things things way hands argument noises things case weekend people people care',\n",
       " 'spells minutes hours time flashback thoughts moment situation situation flashback time future time time time week ages maths maths teacher clue Thanks',\n",
       " 'type medication emotions cycle irritability depression mania breath weeks friend lot questions disorder treatment plan symptoms friend history center attention details response hypomania weeks psychiatrist treatment thing emphasis assumptions yesterday health day disorder disorder right self diagnosing diagnosis disorder',\n",
       " 'feelings uselessness mindset father time head anxiety school training body face people haircut standing mirror day',\n",
       " 'guys thing girl months today try girl reasons gym life girls time person love world',\n",
       " '',\n",
       " 'opportunity university months school effort classes faclty doctor meds doctor mother matches treatment school',\n",
       " 'form responses model',\n",
       " 'sense typos phone weed depression year half depression point life years reward retirement years self loathing depression break school sweetheart years relationship person time majority end purpose opportunities shit issues years relationship mind mistakes mistakes people issue love things relationship use moment way jobs food cabinet shop money drug time break weed time problem months sobriety hell home sleep medication sleep drug cycle lot break drugs self drugs disappointment family self friend structure trust issues friends ex times friend life time mind way it/ schedule stone bunch activities hours sleep&gt time(every week suggestions school degrees degree demand business issue degree depression axienty drugs schedule person',\n",
       " 'life video help insurance support life mistakes glasses person failure garbage money',\n",
       " 'Disclaimer community thoughts lot things disease peoplewho eachother fun point fantasies hope life day day misconceptions women hate outlet craving love males females thoughts women frustrations ideas chatroom people point jealousy ppl things jealousy leads thing need control way circles level thoughts ideas stomach times kind insecurity faults scenario life things person trouble people identity guy times girlfriends women guy perversions bullshit parents world kind value models success man mind guarantee success things standpoint realization soul post ideas subject',\n",
       " 'therapist provider problem therapist issues age range insurance centric therapy people therapy therapist person therapy option help options',\n",
       " 'subreddits subreddit frustration country career path training doctor personality anxiety residency luck women girlfriend partner lot advice example lot advice men lives girlfriend sex life years studies things years experience women quarter life crisis intimacy woman attention eye contact people speech choice words things coaches Truth advice coaches men suspicion guys territory terms case PUAs coaches brush guys guys girl self esteem women public borderline harassment sleazeballs thing mainstream lot advice men interest women phase culture message men women messages interest women beings fact women years way men motives interest person plenty friendships women date sex attraction way assumption guys women coaches PUAs answers men advice shit video people charlatans person fame gripe number thing anxiety game observation male sexuality demonization sexuality shaming things issues discourse demonization sexuality woman man way attraction woman risk creep men attraction women oblivion Men partner zinger Women dates fucks woman Attempts flirting suspicion alarm intentions OMG women women code beings rings years women beings results Flirting kind interaction conversation eggshells time women women sex objects worth minority spouting stuff sexuality creepy predatory evil insecurities sadness lack success risks assumptions character years woman troubles way men date reaction men dates fucks kind thinking thread women location context detractors street point B bookstore club bar drink girlfriends guy salsa class salsa preference implication guy creep predatory behavior kind interest predatory location women Hours hours swiping matches dates self esteem swipe etc women nonsense interest explodes bit end result advice techniques man women type stuff gym lift advance career kind advice caveat women interest weights exercise sake benefits boxes forearms confidence boost women guys guns need biceps mirror problem things comfort zone things kind motive hobbies yoga salsa things heart things women people predator woman salsa class hobbies women bunch sweaty dudes need nail coffin gender role kid family expression kid girls problem friendships girls thoughts demeanor women brother girls multitude reasons gender role persists men fault fact degree stoicism strength women lowers attraction women lot men women needle haystack men preference beauty youth fertility women allegiance idea women emotions guys men feelings revulsion time shaming patriarchy girl app flirtier responses self girl hopes dreams struggle cracks square accusations woman good mentalhealth self attempts women answers',\n",
       " 'days people restrictions bed therapist doctor recommendation father therapist experience',\n",
       " 'reddit depression anxiety teens health issues friends family therapy appointment end month positivity way',\n",
       " 'people bitching week portion people media message year kid health school week article chat reflux issues decade anxiety problems help reminder people depression people people things order discussions workplaces coworker experience eyes world days year world heart disease suicide obesity autism places water vaxxers people access vaccines malaria racism trafficking drug abuse places schools concentration camps refugee camps idea way light education cause time people places lives day associations causes stage turn resources solution step day mom shit rest year day things day people freedom 4th clothes pin world times feed effect week way support victims shelter people time day food shelters children cancer hospital day abuse ribbon picture help bitch help mood craps health tree people negativity disservice changes decades Generations people people place people people bandwagon',\n",
       " 'days people restrictions bed therapist doctor recommendation father therapist experience',\n",
       " 'title people door cup tea Work week cake yoga class jigsaw company staff shit people health feed rant breakdown today work ability job day boy nursery shit times year health awareness week bunch crap people statuses companies cupcakes sense compassion door shit people time',\n",
       " 'surgery injury panic attack tipping point health years anxiety referral psychologist examination amp diagnosis plan strangers help idea self injury surgery friends family help thinking people love family friends doctors pride shame torture people meals day meals pill shame shame help care friend place text friend difference help thought people way happiness',\n",
       " 'advocacy organisation poverty level honour information poverty illness fact poverty period time risk factors health problems cycle poverty stress finances- money eating habits food food link issues depression anxiety cases personality disorder rates violence tension cases illnesses cause people poverty people poverty life risk illness Poverty toll health children rates delinquency anxiety disorders rates disorders adulthood poverty toll health cycle research solutions poverty life condition illnesses poverty people poverty',\n",
       " 'headphones nature music',\n",
       " 'bit background thread autism years help people autism school total years help school highschool prograp year months help student art academy life lot things day psychologists life feelings today issue people autism solution past events life suicide rollercoester feeling years times train station platform train rilatin medication school mind medication people meltdowns time psychologist explanation meds time meds place psychologist fraud way',\n",
       " 'question pity advice character flaw problems calls debt collectors school phone calls family members apartment childhood kids poverty stepfather father overweight teeth kids hunger family friend molestation court hearing therapy visits fact passion child movies tv movies memories grandmother school movie theater hometown films hours hours Movies school world result life problems life movie trouble lot parking ticket months trouble guidance hope',\n",
       " 'autism psychosis depression anxiety Medicine',\n",
       " 'world life',\n",
       " 'morning work gift co worker friend help work person time help therapy psychiatrist life emotions people way doctor leg story Life things Bills Works world illness',\n",
       " 'depression anxiety help today appointment bit place advice topic help conversation topic life',\n",
       " 'week schoolwork feeling head space work stuff heart beats week week Friday(last week week days',\n",
       " 'tl;dr years guidance mg year difficulties life dosage pills option dosage place choice medication choice year pattern medication Week day Week days Week days Week day days Week week Week week Week Week pill Week pill pill pill Week day health day day medication medication brain shakes house time pattern weeks stage hurdle GP university service appointment day medication receptionist appointment pharmacist goal medication advice tl;dr stage medication refusing appointment pharmacist',\n",
       " 'friends point things mind friend life details times reason people friends years sister girlfriend years things year mind point stuff problems',\n",
       " 'months years allways self esteem aand lot friends problem people point person cash register hair things people weeks conversations friends excuses coffe morning homework sleep pop head lot self lot songs fitzgerald lyrics thought Tea reasons tea mom',\n",
       " 'years life situations states experience life self realisation night power self belief therapy drug world idea taps belief Night',\n",
       " 'gym today friend years jokes shit rest friend group personality sister stuff friend shape hair beard life conversation energy shit soul type stuff years ass personality yrs gym anxiety',\n",
       " 'lot people disorder ect questions awareness',\n",
       " '',\n",
       " 'years list disorders inpatient weeks children relationship parents day divorce panic disorder OCD life help children state panic disorder personality disorder depression disorder sense chance worker bunch questions disability school week head parents disability limbs tasks panic list time job school friends tv shows places life parents partners kids weeks mind information disability disorders terms Thanks',\n",
       " 'person shower car music podcast television years life methods distraction stimuli brain solitude cost help steps silence time therapy medication help services disposal problem step',\n",
       " 'self harm suicide anxiety disorder recurring depression severity times anxiety bit depression teen 20s treatment therapy insurance finances help hat partner family partner sibling depression age depression self suicide coping mechanisms partner depression feelings self time years place suicide situation experience situation advice doctor insurance',\n",
       " 'numbness emotions things ferocity personality things bubble feeling wreck time emotions',\n",
       " 'issues comparison childhood times person years peak years happiness sadness reason depression years depersonalisation/ derealisation year depersonalisation numbness comparison weight exercise stuff transcendent happiness brain times reason feeling chapter sorrow',\n",
       " 'message suffering health issues years point depression thoughts state courage problems guy today way parents brother sister cousin friend teacher messages guys weakness run post person change life',\n",
       " 'illnesses disorder anxiety depression illness idea idea panic attack agoraphobia shit everyday depression doctor wayyyyyy disorders anxiety depression people hypocrites',\n",
       " 'guys depression pills way therapy sessions therapists reasons sessions therapy medication matter hope cure experience area depression years medication cure',\n",
       " 'letter suicide video things',\n",
       " 'guys day anxiety depression anxiety depression story obstacles health month psychologist problems anxiety day condition problems life loss friends relationships anxiety everyday partner medication face face therapy techniques skills methods depression anxiety Thanks advance',\n",
       " 'disorder gender dysphoria personality disorder disorder point view Therapists freak job society reality guidelines treatment list factors suicide job purpose world feelings surface behavior therapy stick healthcare answers bit theater appearance professionalism tools brain activity structures tea leaves',\n",
       " 'poker club yesterday thing minutes people table fun face game lot lot tricks strategies situation face strategies instincts chips fun rest night time time club',\n",
       " 'symptoms depression lot symptoms thoughts Stuff trouble interest problem life problem melatonin psychiatrist school help time life mission year time leave surgery thoughts',\n",
       " 'birth sayings positivity motivation future couple dreams future people critic self paths future people role models lot desire motivation ability time acceptance toll health need mask public family months',\n",
       " 'time need college student aspirations degree computer science semester half semester classes idea desire occasion hole homework word computer stuff coding hardware interest life feeling despair class today tomorrow school teachers problem home discord reddit play games work times objective bus college appearance fact night day thing crumbles reason hole weeks classes work today hours test hours Today day days apathy',\n",
       " 'help man thought fuck',\n",
       " 'subreddit couple months time dishes time thing couple weeks yesterday depression past time job jobs experience screaming bubble head reason moment experience tips guidance questions']"
      ]
     },
     "execution_count": 43,
     "metadata": {},
     "output_type": "execute_result"
    }
   ],
   "source": [
    "corpus = df_full_clean.selftext\n",
    "a = process_text(corpus[:100], pos_list=['NOUN', 'ADJ'])\n",
    "a"
   ]
  },
  {
   "cell_type": "code",
   "execution_count": 44,
   "metadata": {},
   "outputs": [],
   "source": [
    "from sklearn.feature_extraction.text import TfidfVectorizer\n",
    "\n",
    "tfdif_vect = TfidfVectorizer(\n",
    "#                              analyzer='word',\n",
    "#                              stop_words='english',\n",
    "#                              lowercase = True,\n",
    "                             max_df = 0.5, \n",
    "                             min_df = 10,\n",
    "                             ngram_range=(1, 1),\n",
    "#                              max_features=4000,\n",
    "                             token_pattern = r'\\b[a-zA-Z]{3,}\\b'\n",
    "                             )\n",
    "\n",
    "pipeline = NLPPipe(vectorizer=tfdif_vect,\n",
    "                  tokenizer=None,\n",
    "                  disable=[\"parser\", \"ner\"],\n",
    "                  pos=['NOUN', 'ADJ'],\n",
    "                  lemma=False)\n",
    "\n",
    "word_vect = pipeline.fit_transform(corpus).toarray()"
   ]
  },
  {
   "cell_type": "code",
   "execution_count": 10,
   "metadata": {
    "scrolled": true
   },
   "outputs": [
    {
     "data": {
      "text/html": [
       "<div>\n",
       "<style scoped>\n",
       "    .dataframe tbody tr th:only-of-type {\n",
       "        vertical-align: middle;\n",
       "    }\n",
       "\n",
       "    .dataframe tbody tr th {\n",
       "        vertical-align: top;\n",
       "    }\n",
       "\n",
       "    .dataframe thead th {\n",
       "        text-align: right;\n",
       "    }\n",
       "</style>\n",
       "<table border=\"1\" class=\"dataframe\">\n",
       "  <thead>\n",
       "    <tr style=\"text-align: right;\">\n",
       "      <th></th>\n",
       "      <th>able</th>\n",
       "      <th>abnormal</th>\n",
       "      <th>absent</th>\n",
       "      <th>absolute</th>\n",
       "      <th>abstract</th>\n",
       "      <th>absurd</th>\n",
       "      <th>abused</th>\n",
       "      <th>abusive</th>\n",
       "      <th>abysmal</th>\n",
       "      <th>academic</th>\n",
       "      <th>...</th>\n",
       "      <th>worthwhile</th>\n",
       "      <th>worthy</th>\n",
       "      <th>wrong</th>\n",
       "      <th>yearly</th>\n",
       "      <th>yell</th>\n",
       "      <th>yellow</th>\n",
       "      <th>young</th>\n",
       "      <th>younger</th>\n",
       "      <th>youngest</th>\n",
       "      <th>youtube</th>\n",
       "    </tr>\n",
       "  </thead>\n",
       "  <tbody>\n",
       "    <tr>\n",
       "      <th>0</th>\n",
       "      <td>0.124983</td>\n",
       "      <td>0.000000</td>\n",
       "      <td>0.0</td>\n",
       "      <td>0.0</td>\n",
       "      <td>0.0</td>\n",
       "      <td>0.0</td>\n",
       "      <td>0.0</td>\n",
       "      <td>0.0</td>\n",
       "      <td>0.0</td>\n",
       "      <td>0.0</td>\n",
       "      <td>...</td>\n",
       "      <td>0.0</td>\n",
       "      <td>0.0</td>\n",
       "      <td>0.0</td>\n",
       "      <td>0.0</td>\n",
       "      <td>0.0</td>\n",
       "      <td>0.0</td>\n",
       "      <td>0.0</td>\n",
       "      <td>0.0</td>\n",
       "      <td>0.0</td>\n",
       "      <td>0.0</td>\n",
       "    </tr>\n",
       "    <tr>\n",
       "      <th>1</th>\n",
       "      <td>0.000000</td>\n",
       "      <td>0.000000</td>\n",
       "      <td>0.0</td>\n",
       "      <td>0.0</td>\n",
       "      <td>0.0</td>\n",
       "      <td>0.0</td>\n",
       "      <td>0.0</td>\n",
       "      <td>0.0</td>\n",
       "      <td>0.0</td>\n",
       "      <td>0.0</td>\n",
       "      <td>...</td>\n",
       "      <td>0.0</td>\n",
       "      <td>0.0</td>\n",
       "      <td>0.0</td>\n",
       "      <td>0.0</td>\n",
       "      <td>0.0</td>\n",
       "      <td>0.0</td>\n",
       "      <td>0.0</td>\n",
       "      <td>0.0</td>\n",
       "      <td>0.0</td>\n",
       "      <td>0.0</td>\n",
       "    </tr>\n",
       "    <tr>\n",
       "      <th>2</th>\n",
       "      <td>0.000000</td>\n",
       "      <td>0.000000</td>\n",
       "      <td>0.0</td>\n",
       "      <td>0.0</td>\n",
       "      <td>0.0</td>\n",
       "      <td>0.0</td>\n",
       "      <td>0.0</td>\n",
       "      <td>0.0</td>\n",
       "      <td>0.0</td>\n",
       "      <td>0.0</td>\n",
       "      <td>...</td>\n",
       "      <td>0.0</td>\n",
       "      <td>0.0</td>\n",
       "      <td>0.0</td>\n",
       "      <td>0.0</td>\n",
       "      <td>0.0</td>\n",
       "      <td>0.0</td>\n",
       "      <td>0.0</td>\n",
       "      <td>0.0</td>\n",
       "      <td>0.0</td>\n",
       "      <td>0.0</td>\n",
       "    </tr>\n",
       "    <tr>\n",
       "      <th>3</th>\n",
       "      <td>0.000000</td>\n",
       "      <td>0.620704</td>\n",
       "      <td>0.0</td>\n",
       "      <td>0.0</td>\n",
       "      <td>0.0</td>\n",
       "      <td>0.0</td>\n",
       "      <td>0.0</td>\n",
       "      <td>0.0</td>\n",
       "      <td>0.0</td>\n",
       "      <td>0.0</td>\n",
       "      <td>...</td>\n",
       "      <td>0.0</td>\n",
       "      <td>0.0</td>\n",
       "      <td>0.0</td>\n",
       "      <td>0.0</td>\n",
       "      <td>0.0</td>\n",
       "      <td>0.0</td>\n",
       "      <td>0.0</td>\n",
       "      <td>0.0</td>\n",
       "      <td>0.0</td>\n",
       "      <td>0.0</td>\n",
       "    </tr>\n",
       "    <tr>\n",
       "      <th>4</th>\n",
       "      <td>0.000000</td>\n",
       "      <td>0.000000</td>\n",
       "      <td>0.0</td>\n",
       "      <td>0.0</td>\n",
       "      <td>0.0</td>\n",
       "      <td>0.0</td>\n",
       "      <td>0.0</td>\n",
       "      <td>0.0</td>\n",
       "      <td>0.0</td>\n",
       "      <td>0.0</td>\n",
       "      <td>...</td>\n",
       "      <td>0.0</td>\n",
       "      <td>0.0</td>\n",
       "      <td>0.0</td>\n",
       "      <td>0.0</td>\n",
       "      <td>0.0</td>\n",
       "      <td>0.0</td>\n",
       "      <td>0.0</td>\n",
       "      <td>0.0</td>\n",
       "      <td>0.0</td>\n",
       "      <td>0.0</td>\n",
       "    </tr>\n",
       "    <tr>\n",
       "      <th>...</th>\n",
       "      <td>...</td>\n",
       "      <td>...</td>\n",
       "      <td>...</td>\n",
       "      <td>...</td>\n",
       "      <td>...</td>\n",
       "      <td>...</td>\n",
       "      <td>...</td>\n",
       "      <td>...</td>\n",
       "      <td>...</td>\n",
       "      <td>...</td>\n",
       "      <td>...</td>\n",
       "      <td>...</td>\n",
       "      <td>...</td>\n",
       "      <td>...</td>\n",
       "      <td>...</td>\n",
       "      <td>...</td>\n",
       "      <td>...</td>\n",
       "      <td>...</td>\n",
       "      <td>...</td>\n",
       "      <td>...</td>\n",
       "      <td>...</td>\n",
       "    </tr>\n",
       "    <tr>\n",
       "      <th>29244</th>\n",
       "      <td>0.000000</td>\n",
       "      <td>0.000000</td>\n",
       "      <td>0.0</td>\n",
       "      <td>0.0</td>\n",
       "      <td>0.0</td>\n",
       "      <td>0.0</td>\n",
       "      <td>0.0</td>\n",
       "      <td>0.0</td>\n",
       "      <td>0.0</td>\n",
       "      <td>0.0</td>\n",
       "      <td>...</td>\n",
       "      <td>0.0</td>\n",
       "      <td>0.0</td>\n",
       "      <td>0.0</td>\n",
       "      <td>0.0</td>\n",
       "      <td>0.0</td>\n",
       "      <td>0.0</td>\n",
       "      <td>0.0</td>\n",
       "      <td>0.0</td>\n",
       "      <td>0.0</td>\n",
       "      <td>0.0</td>\n",
       "    </tr>\n",
       "    <tr>\n",
       "      <th>29245</th>\n",
       "      <td>0.000000</td>\n",
       "      <td>0.000000</td>\n",
       "      <td>0.0</td>\n",
       "      <td>0.0</td>\n",
       "      <td>0.0</td>\n",
       "      <td>0.0</td>\n",
       "      <td>0.0</td>\n",
       "      <td>0.0</td>\n",
       "      <td>0.0</td>\n",
       "      <td>0.0</td>\n",
       "      <td>...</td>\n",
       "      <td>0.0</td>\n",
       "      <td>0.0</td>\n",
       "      <td>0.0</td>\n",
       "      <td>0.0</td>\n",
       "      <td>0.0</td>\n",
       "      <td>0.0</td>\n",
       "      <td>0.0</td>\n",
       "      <td>0.0</td>\n",
       "      <td>0.0</td>\n",
       "      <td>0.0</td>\n",
       "    </tr>\n",
       "    <tr>\n",
       "      <th>29246</th>\n",
       "      <td>0.000000</td>\n",
       "      <td>0.000000</td>\n",
       "      <td>0.0</td>\n",
       "      <td>0.0</td>\n",
       "      <td>0.0</td>\n",
       "      <td>0.0</td>\n",
       "      <td>0.0</td>\n",
       "      <td>0.0</td>\n",
       "      <td>0.0</td>\n",
       "      <td>0.0</td>\n",
       "      <td>...</td>\n",
       "      <td>0.0</td>\n",
       "      <td>0.0</td>\n",
       "      <td>0.0</td>\n",
       "      <td>0.0</td>\n",
       "      <td>0.0</td>\n",
       "      <td>0.0</td>\n",
       "      <td>0.0</td>\n",
       "      <td>0.0</td>\n",
       "      <td>0.0</td>\n",
       "      <td>0.0</td>\n",
       "    </tr>\n",
       "    <tr>\n",
       "      <th>29247</th>\n",
       "      <td>0.000000</td>\n",
       "      <td>0.000000</td>\n",
       "      <td>0.0</td>\n",
       "      <td>0.0</td>\n",
       "      <td>0.0</td>\n",
       "      <td>0.0</td>\n",
       "      <td>0.0</td>\n",
       "      <td>0.0</td>\n",
       "      <td>0.0</td>\n",
       "      <td>0.0</td>\n",
       "      <td>...</td>\n",
       "      <td>0.0</td>\n",
       "      <td>0.0</td>\n",
       "      <td>0.0</td>\n",
       "      <td>0.0</td>\n",
       "      <td>0.0</td>\n",
       "      <td>0.0</td>\n",
       "      <td>0.0</td>\n",
       "      <td>0.0</td>\n",
       "      <td>0.0</td>\n",
       "      <td>0.0</td>\n",
       "    </tr>\n",
       "    <tr>\n",
       "      <th>29248</th>\n",
       "      <td>0.000000</td>\n",
       "      <td>0.000000</td>\n",
       "      <td>0.0</td>\n",
       "      <td>0.0</td>\n",
       "      <td>0.0</td>\n",
       "      <td>0.0</td>\n",
       "      <td>0.0</td>\n",
       "      <td>0.0</td>\n",
       "      <td>0.0</td>\n",
       "      <td>0.0</td>\n",
       "      <td>...</td>\n",
       "      <td>0.0</td>\n",
       "      <td>0.0</td>\n",
       "      <td>0.0</td>\n",
       "      <td>0.0</td>\n",
       "      <td>0.0</td>\n",
       "      <td>0.0</td>\n",
       "      <td>0.0</td>\n",
       "      <td>0.0</td>\n",
       "      <td>0.0</td>\n",
       "      <td>0.0</td>\n",
       "    </tr>\n",
       "  </tbody>\n",
       "</table>\n",
       "<p>29249 rows × 1629 columns</p>\n",
       "</div>"
      ],
      "text/plain": [
       "           able  abnormal  absent  absolute  abstract  absurd  abused  \\\n",
       "0      0.124983  0.000000     0.0       0.0       0.0     0.0     0.0   \n",
       "1      0.000000  0.000000     0.0       0.0       0.0     0.0     0.0   \n",
       "2      0.000000  0.000000     0.0       0.0       0.0     0.0     0.0   \n",
       "3      0.000000  0.620704     0.0       0.0       0.0     0.0     0.0   \n",
       "4      0.000000  0.000000     0.0       0.0       0.0     0.0     0.0   \n",
       "...         ...       ...     ...       ...       ...     ...     ...   \n",
       "29244  0.000000  0.000000     0.0       0.0       0.0     0.0     0.0   \n",
       "29245  0.000000  0.000000     0.0       0.0       0.0     0.0     0.0   \n",
       "29246  0.000000  0.000000     0.0       0.0       0.0     0.0     0.0   \n",
       "29247  0.000000  0.000000     0.0       0.0       0.0     0.0     0.0   \n",
       "29248  0.000000  0.000000     0.0       0.0       0.0     0.0     0.0   \n",
       "\n",
       "       abusive  abysmal  academic  ...  worthwhile  worthy  wrong  yearly  \\\n",
       "0          0.0      0.0       0.0  ...         0.0     0.0    0.0     0.0   \n",
       "1          0.0      0.0       0.0  ...         0.0     0.0    0.0     0.0   \n",
       "2          0.0      0.0       0.0  ...         0.0     0.0    0.0     0.0   \n",
       "3          0.0      0.0       0.0  ...         0.0     0.0    0.0     0.0   \n",
       "4          0.0      0.0       0.0  ...         0.0     0.0    0.0     0.0   \n",
       "...        ...      ...       ...  ...         ...     ...    ...     ...   \n",
       "29244      0.0      0.0       0.0  ...         0.0     0.0    0.0     0.0   \n",
       "29245      0.0      0.0       0.0  ...         0.0     0.0    0.0     0.0   \n",
       "29246      0.0      0.0       0.0  ...         0.0     0.0    0.0     0.0   \n",
       "29247      0.0      0.0       0.0  ...         0.0     0.0    0.0     0.0   \n",
       "29248      0.0      0.0       0.0  ...         0.0     0.0    0.0     0.0   \n",
       "\n",
       "       yell  yellow  young  younger  youngest  youtube  \n",
       "0       0.0     0.0    0.0      0.0       0.0      0.0  \n",
       "1       0.0     0.0    0.0      0.0       0.0      0.0  \n",
       "2       0.0     0.0    0.0      0.0       0.0      0.0  \n",
       "3       0.0     0.0    0.0      0.0       0.0      0.0  \n",
       "4       0.0     0.0    0.0      0.0       0.0      0.0  \n",
       "...     ...     ...    ...      ...       ...      ...  \n",
       "29244   0.0     0.0    0.0      0.0       0.0      0.0  \n",
       "29245   0.0     0.0    0.0      0.0       0.0      0.0  \n",
       "29246   0.0     0.0    0.0      0.0       0.0      0.0  \n",
       "29247   0.0     0.0    0.0      0.0       0.0      0.0  \n",
       "29248   0.0     0.0    0.0      0.0       0.0      0.0  \n",
       "\n",
       "[29249 rows x 1629 columns]"
      ]
     },
     "execution_count": 10,
     "metadata": {},
     "output_type": "execute_result"
    }
   ],
   "source": [
    "df = pd.DataFrame(word_vect)\n",
    "df.columns = pipeline.vectorizer.get_feature_names()\n",
    "df"
   ]
  },
  {
   "cell_type": "code",
   "execution_count": 11,
   "metadata": {},
   "outputs": [],
   "source": [
    "import pandas as pd\n",
    "from sklearn.feature_extraction.text import CountVectorizer \n",
    "from sklearn.decomposition import TruncatedSVD\n",
    "from sklearn.decomposition import NMF\n",
    "from sklearn.decomposition import LatentDirichletAllocation\n",
    "from sklearn.metrics.pairwise import cosine_similarity\n",
    "import plotly.express as px"
   ]
  },
  {
   "cell_type": "code",
   "execution_count": 12,
   "metadata": {},
   "outputs": [
    {
     "data": {
      "text/plain": [
       "array([0.01140351, 0.01415294, 0.01285447, 0.01261209, 0.01184448,\n",
       "       0.01148517, 0.01065276, 0.00993871, 0.00931763, 0.00914578])"
      ]
     },
     "execution_count": 12,
     "metadata": {},
     "output_type": "execute_result"
    }
   ],
   "source": [
    "lsa = TruncatedSVD(10, random_state=0)\n",
    "topic_mat = lsa.fit_transform(word_vect)\n",
    "lsa.explained_variance_ratio_"
   ]
  },
  {
   "cell_type": "code",
   "execution_count": 13,
   "metadata": {},
   "outputs": [],
   "source": [
    "def display_topics(model, feature_names, no_top_words, topic_names=None):\n",
    "    for ix, topic in enumerate(model.components_):\n",
    "        if not topic_names or not topic_names[ix]:\n",
    "            print(\"\\nTopic \", ix)\n",
    "        else:\n",
    "            print(\"\\nTopic: '\",topic_names[ix],\"'\")\n",
    "        print(\", \".join([feature_names[i]\n",
    "                        for i in topic.argsort()[:-no_top_words - 1:-1]]))"
   ]
  },
  {
   "cell_type": "code",
   "execution_count": 14,
   "metadata": {},
   "outputs": [],
   "source": [
    "# display_topics(lsa, pipeline.vectorizer.get_feature_names(), 20)"
   ]
  },
  {
   "cell_type": "code",
   "execution_count": 15,
   "metadata": {},
   "outputs": [],
   "source": [
    "def plot_topics(topic_model, topic, num_words=20):\n",
    "    \n",
    "    num_topics = topic_model.components_.shape[0]\n",
    "    \n",
    "    topic_word = pd.DataFrame(topic_model.components_,\n",
    "                              index=['topic_'+str(i) for i in range(num_topics)],\n",
    "                              columns=pipeline.vectorizer.get_feature_names())\n",
    "\n",
    "    topics_df = topic_word.T\n",
    "    top_words = topics_df['topic_'+str(topic)].sort_values(ascending=False)\n",
    "    top_words[0:20]\n",
    "\n",
    "    fig = px.bar(y=top_words[0:num_words].index,\n",
    "                 x=top_words[0:num_words].values,\n",
    "    #              color=filtered_topics.toxic,\n",
    "                 orientation='h',\n",
    "                 width=500,\n",
    "                 height=1000)\n",
    "    fig.show()"
   ]
  },
  {
   "cell_type": "code",
   "execution_count": 18,
   "metadata": {
    "scrolled": true
   },
   "outputs": [
    {
     "data": {
      "application/vnd.plotly.v1+json": {
       "config": {
        "plotlyServerURL": "https://plot.ly"
       },
       "data": [
        {
         "alignmentgroup": "True",
         "hovertemplate": "x=%{x}<br>y=%{y}<extra></extra>",
         "legendgroup": "",
         "marker": {
          "color": "#636efa"
         },
         "name": "",
         "offsetgroup": "",
         "orientation": "h",
         "showlegend": false,
         "textposition": "auto",
         "type": "bar",
         "x": [
          0.8290080763251108,
          0.05725873712650026,
          0.04674191925492286,
          0.03591913081383685,
          0.0330464373682575,
          0.03255586082493956,
          0.030134979114988067,
          0.027964511404224617,
          0.02577438496283116,
          0.020155588754775838,
          0.017928178507878315,
          0.016686443959132047,
          0.01645716315050202,
          0.01608485331703097,
          0.015765477872770727,
          0.015486252826285728,
          0.015353112325437304,
          0.01475395871934443,
          0.01473912152016975,
          0.014020479784961707,
          0.013395921797198873,
          0.01335682271152322,
          0.01334801596218565,
          0.013134109140723334,
          0.012197891622750782,
          0.011725923114691013,
          0.011382861943902301,
          0.011345958926969444,
          0.011217762907980041,
          0.010998505933250236,
          0.010646093593222538,
          0.010430177327182747,
          0.009704844777661783,
          0.009524262873878774,
          0.009491351510385864,
          0.009374342334466873,
          0.009197583863772067,
          0.009040287694017565,
          0.008834967162638487,
          0.00864516619103674
         ],
         "xaxis": "x",
         "y": [
          "mental",
          "worse",
          "bad",
          "sure",
          "suicidal",
          "physical",
          "scared",
          "different",
          "severe",
          "past",
          "bipolar",
          "medical",
          "open",
          "social",
          "professional",
          "worried",
          "able",
          "free",
          "similar",
          "short",
          "long",
          "difficult",
          "personal",
          "possible",
          "major",
          "aware",
          "current",
          "helpful",
          "interested",
          "multiple",
          "new",
          "old",
          "emotional",
          "ill",
          "curious",
          "clear",
          "important",
          "specific",
          "strong",
          "wrong"
         ],
         "yaxis": "y"
        }
       ],
       "layout": {
        "barmode": "relative",
        "height": 1000,
        "legend": {
         "tracegroupgap": 0
        },
        "margin": {
         "t": 60
        },
        "template": {
         "data": {
          "bar": [
           {
            "error_x": {
             "color": "#2a3f5f"
            },
            "error_y": {
             "color": "#2a3f5f"
            },
            "marker": {
             "line": {
              "color": "#E5ECF6",
              "width": 0.5
             }
            },
            "type": "bar"
           }
          ],
          "barpolar": [
           {
            "marker": {
             "line": {
              "color": "#E5ECF6",
              "width": 0.5
             }
            },
            "type": "barpolar"
           }
          ],
          "carpet": [
           {
            "aaxis": {
             "endlinecolor": "#2a3f5f",
             "gridcolor": "white",
             "linecolor": "white",
             "minorgridcolor": "white",
             "startlinecolor": "#2a3f5f"
            },
            "baxis": {
             "endlinecolor": "#2a3f5f",
             "gridcolor": "white",
             "linecolor": "white",
             "minorgridcolor": "white",
             "startlinecolor": "#2a3f5f"
            },
            "type": "carpet"
           }
          ],
          "choropleth": [
           {
            "colorbar": {
             "outlinewidth": 0,
             "ticks": ""
            },
            "type": "choropleth"
           }
          ],
          "contour": [
           {
            "colorbar": {
             "outlinewidth": 0,
             "ticks": ""
            },
            "colorscale": [
             [
              0,
              "#0d0887"
             ],
             [
              0.1111111111111111,
              "#46039f"
             ],
             [
              0.2222222222222222,
              "#7201a8"
             ],
             [
              0.3333333333333333,
              "#9c179e"
             ],
             [
              0.4444444444444444,
              "#bd3786"
             ],
             [
              0.5555555555555556,
              "#d8576b"
             ],
             [
              0.6666666666666666,
              "#ed7953"
             ],
             [
              0.7777777777777778,
              "#fb9f3a"
             ],
             [
              0.8888888888888888,
              "#fdca26"
             ],
             [
              1,
              "#f0f921"
             ]
            ],
            "type": "contour"
           }
          ],
          "contourcarpet": [
           {
            "colorbar": {
             "outlinewidth": 0,
             "ticks": ""
            },
            "type": "contourcarpet"
           }
          ],
          "heatmap": [
           {
            "colorbar": {
             "outlinewidth": 0,
             "ticks": ""
            },
            "colorscale": [
             [
              0,
              "#0d0887"
             ],
             [
              0.1111111111111111,
              "#46039f"
             ],
             [
              0.2222222222222222,
              "#7201a8"
             ],
             [
              0.3333333333333333,
              "#9c179e"
             ],
             [
              0.4444444444444444,
              "#bd3786"
             ],
             [
              0.5555555555555556,
              "#d8576b"
             ],
             [
              0.6666666666666666,
              "#ed7953"
             ],
             [
              0.7777777777777778,
              "#fb9f3a"
             ],
             [
              0.8888888888888888,
              "#fdca26"
             ],
             [
              1,
              "#f0f921"
             ]
            ],
            "type": "heatmap"
           }
          ],
          "heatmapgl": [
           {
            "colorbar": {
             "outlinewidth": 0,
             "ticks": ""
            },
            "colorscale": [
             [
              0,
              "#0d0887"
             ],
             [
              0.1111111111111111,
              "#46039f"
             ],
             [
              0.2222222222222222,
              "#7201a8"
             ],
             [
              0.3333333333333333,
              "#9c179e"
             ],
             [
              0.4444444444444444,
              "#bd3786"
             ],
             [
              0.5555555555555556,
              "#d8576b"
             ],
             [
              0.6666666666666666,
              "#ed7953"
             ],
             [
              0.7777777777777778,
              "#fb9f3a"
             ],
             [
              0.8888888888888888,
              "#fdca26"
             ],
             [
              1,
              "#f0f921"
             ]
            ],
            "type": "heatmapgl"
           }
          ],
          "histogram": [
           {
            "marker": {
             "colorbar": {
              "outlinewidth": 0,
              "ticks": ""
             }
            },
            "type": "histogram"
           }
          ],
          "histogram2d": [
           {
            "colorbar": {
             "outlinewidth": 0,
             "ticks": ""
            },
            "colorscale": [
             [
              0,
              "#0d0887"
             ],
             [
              0.1111111111111111,
              "#46039f"
             ],
             [
              0.2222222222222222,
              "#7201a8"
             ],
             [
              0.3333333333333333,
              "#9c179e"
             ],
             [
              0.4444444444444444,
              "#bd3786"
             ],
             [
              0.5555555555555556,
              "#d8576b"
             ],
             [
              0.6666666666666666,
              "#ed7953"
             ],
             [
              0.7777777777777778,
              "#fb9f3a"
             ],
             [
              0.8888888888888888,
              "#fdca26"
             ],
             [
              1,
              "#f0f921"
             ]
            ],
            "type": "histogram2d"
           }
          ],
          "histogram2dcontour": [
           {
            "colorbar": {
             "outlinewidth": 0,
             "ticks": ""
            },
            "colorscale": [
             [
              0,
              "#0d0887"
             ],
             [
              0.1111111111111111,
              "#46039f"
             ],
             [
              0.2222222222222222,
              "#7201a8"
             ],
             [
              0.3333333333333333,
              "#9c179e"
             ],
             [
              0.4444444444444444,
              "#bd3786"
             ],
             [
              0.5555555555555556,
              "#d8576b"
             ],
             [
              0.6666666666666666,
              "#ed7953"
             ],
             [
              0.7777777777777778,
              "#fb9f3a"
             ],
             [
              0.8888888888888888,
              "#fdca26"
             ],
             [
              1,
              "#f0f921"
             ]
            ],
            "type": "histogram2dcontour"
           }
          ],
          "mesh3d": [
           {
            "colorbar": {
             "outlinewidth": 0,
             "ticks": ""
            },
            "type": "mesh3d"
           }
          ],
          "parcoords": [
           {
            "line": {
             "colorbar": {
              "outlinewidth": 0,
              "ticks": ""
             }
            },
            "type": "parcoords"
           }
          ],
          "pie": [
           {
            "automargin": true,
            "type": "pie"
           }
          ],
          "scatter": [
           {
            "marker": {
             "colorbar": {
              "outlinewidth": 0,
              "ticks": ""
             }
            },
            "type": "scatter"
           }
          ],
          "scatter3d": [
           {
            "line": {
             "colorbar": {
              "outlinewidth": 0,
              "ticks": ""
             }
            },
            "marker": {
             "colorbar": {
              "outlinewidth": 0,
              "ticks": ""
             }
            },
            "type": "scatter3d"
           }
          ],
          "scattercarpet": [
           {
            "marker": {
             "colorbar": {
              "outlinewidth": 0,
              "ticks": ""
             }
            },
            "type": "scattercarpet"
           }
          ],
          "scattergeo": [
           {
            "marker": {
             "colorbar": {
              "outlinewidth": 0,
              "ticks": ""
             }
            },
            "type": "scattergeo"
           }
          ],
          "scattergl": [
           {
            "marker": {
             "colorbar": {
              "outlinewidth": 0,
              "ticks": ""
             }
            },
            "type": "scattergl"
           }
          ],
          "scattermapbox": [
           {
            "marker": {
             "colorbar": {
              "outlinewidth": 0,
              "ticks": ""
             }
            },
            "type": "scattermapbox"
           }
          ],
          "scatterpolar": [
           {
            "marker": {
             "colorbar": {
              "outlinewidth": 0,
              "ticks": ""
             }
            },
            "type": "scatterpolar"
           }
          ],
          "scatterpolargl": [
           {
            "marker": {
             "colorbar": {
              "outlinewidth": 0,
              "ticks": ""
             }
            },
            "type": "scatterpolargl"
           }
          ],
          "scatterternary": [
           {
            "marker": {
             "colorbar": {
              "outlinewidth": 0,
              "ticks": ""
             }
            },
            "type": "scatterternary"
           }
          ],
          "surface": [
           {
            "colorbar": {
             "outlinewidth": 0,
             "ticks": ""
            },
            "colorscale": [
             [
              0,
              "#0d0887"
             ],
             [
              0.1111111111111111,
              "#46039f"
             ],
             [
              0.2222222222222222,
              "#7201a8"
             ],
             [
              0.3333333333333333,
              "#9c179e"
             ],
             [
              0.4444444444444444,
              "#bd3786"
             ],
             [
              0.5555555555555556,
              "#d8576b"
             ],
             [
              0.6666666666666666,
              "#ed7953"
             ],
             [
              0.7777777777777778,
              "#fb9f3a"
             ],
             [
              0.8888888888888888,
              "#fdca26"
             ],
             [
              1,
              "#f0f921"
             ]
            ],
            "type": "surface"
           }
          ],
          "table": [
           {
            "cells": {
             "fill": {
              "color": "#EBF0F8"
             },
             "line": {
              "color": "white"
             }
            },
            "header": {
             "fill": {
              "color": "#C8D4E3"
             },
             "line": {
              "color": "white"
             }
            },
            "type": "table"
           }
          ]
         },
         "layout": {
          "annotationdefaults": {
           "arrowcolor": "#2a3f5f",
           "arrowhead": 0,
           "arrowwidth": 1
          },
          "coloraxis": {
           "colorbar": {
            "outlinewidth": 0,
            "ticks": ""
           }
          },
          "colorscale": {
           "diverging": [
            [
             0,
             "#8e0152"
            ],
            [
             0.1,
             "#c51b7d"
            ],
            [
             0.2,
             "#de77ae"
            ],
            [
             0.3,
             "#f1b6da"
            ],
            [
             0.4,
             "#fde0ef"
            ],
            [
             0.5,
             "#f7f7f7"
            ],
            [
             0.6,
             "#e6f5d0"
            ],
            [
             0.7,
             "#b8e186"
            ],
            [
             0.8,
             "#7fbc41"
            ],
            [
             0.9,
             "#4d9221"
            ],
            [
             1,
             "#276419"
            ]
           ],
           "sequential": [
            [
             0,
             "#0d0887"
            ],
            [
             0.1111111111111111,
             "#46039f"
            ],
            [
             0.2222222222222222,
             "#7201a8"
            ],
            [
             0.3333333333333333,
             "#9c179e"
            ],
            [
             0.4444444444444444,
             "#bd3786"
            ],
            [
             0.5555555555555556,
             "#d8576b"
            ],
            [
             0.6666666666666666,
             "#ed7953"
            ],
            [
             0.7777777777777778,
             "#fb9f3a"
            ],
            [
             0.8888888888888888,
             "#fdca26"
            ],
            [
             1,
             "#f0f921"
            ]
           ],
           "sequentialminus": [
            [
             0,
             "#0d0887"
            ],
            [
             0.1111111111111111,
             "#46039f"
            ],
            [
             0.2222222222222222,
             "#7201a8"
            ],
            [
             0.3333333333333333,
             "#9c179e"
            ],
            [
             0.4444444444444444,
             "#bd3786"
            ],
            [
             0.5555555555555556,
             "#d8576b"
            ],
            [
             0.6666666666666666,
             "#ed7953"
            ],
            [
             0.7777777777777778,
             "#fb9f3a"
            ],
            [
             0.8888888888888888,
             "#fdca26"
            ],
            [
             1,
             "#f0f921"
            ]
           ]
          },
          "colorway": [
           "#636efa",
           "#EF553B",
           "#00cc96",
           "#ab63fa",
           "#FFA15A",
           "#19d3f3",
           "#FF6692",
           "#B6E880",
           "#FF97FF",
           "#FECB52"
          ],
          "font": {
           "color": "#2a3f5f"
          },
          "geo": {
           "bgcolor": "white",
           "lakecolor": "white",
           "landcolor": "#E5ECF6",
           "showlakes": true,
           "showland": true,
           "subunitcolor": "white"
          },
          "hoverlabel": {
           "align": "left"
          },
          "hovermode": "closest",
          "mapbox": {
           "style": "light"
          },
          "paper_bgcolor": "white",
          "plot_bgcolor": "#E5ECF6",
          "polar": {
           "angularaxis": {
            "gridcolor": "white",
            "linecolor": "white",
            "ticks": ""
           },
           "bgcolor": "#E5ECF6",
           "radialaxis": {
            "gridcolor": "white",
            "linecolor": "white",
            "ticks": ""
           }
          },
          "scene": {
           "xaxis": {
            "backgroundcolor": "#E5ECF6",
            "gridcolor": "white",
            "gridwidth": 2,
            "linecolor": "white",
            "showbackground": true,
            "ticks": "",
            "zerolinecolor": "white"
           },
           "yaxis": {
            "backgroundcolor": "#E5ECF6",
            "gridcolor": "white",
            "gridwidth": 2,
            "linecolor": "white",
            "showbackground": true,
            "ticks": "",
            "zerolinecolor": "white"
           },
           "zaxis": {
            "backgroundcolor": "#E5ECF6",
            "gridcolor": "white",
            "gridwidth": 2,
            "linecolor": "white",
            "showbackground": true,
            "ticks": "",
            "zerolinecolor": "white"
           }
          },
          "shapedefaults": {
           "line": {
            "color": "#2a3f5f"
           }
          },
          "ternary": {
           "aaxis": {
            "gridcolor": "white",
            "linecolor": "white",
            "ticks": ""
           },
           "baxis": {
            "gridcolor": "white",
            "linecolor": "white",
            "ticks": ""
           },
           "bgcolor": "#E5ECF6",
           "caxis": {
            "gridcolor": "white",
            "linecolor": "white",
            "ticks": ""
           }
          },
          "title": {
           "x": 0.05
          },
          "xaxis": {
           "automargin": true,
           "gridcolor": "white",
           "linecolor": "white",
           "ticks": "",
           "title": {
            "standoff": 15
           },
           "zerolinecolor": "white",
           "zerolinewidth": 2
          },
          "yaxis": {
           "automargin": true,
           "gridcolor": "white",
           "linecolor": "white",
           "ticks": "",
           "title": {
            "standoff": 15
           },
           "zerolinecolor": "white",
           "zerolinewidth": 2
          }
         }
        },
        "width": 500,
        "xaxis": {
         "anchor": "y",
         "domain": [
          0,
          1
         ],
         "title": {
          "text": "x"
         }
        },
        "yaxis": {
         "anchor": "x",
         "domain": [
          0,
          1
         ],
         "title": {
          "text": "y"
         }
        }
       }
      },
      "text/html": [
       "<div>\n",
       "        \n",
       "        \n",
       "            <div id=\"bfa272ca-7d87-416c-8d99-c410b95a769b\" class=\"plotly-graph-div\" style=\"height:1000px; width:500px;\"></div>\n",
       "            <script type=\"text/javascript\">\n",
       "                require([\"plotly\"], function(Plotly) {\n",
       "                    window.PLOTLYENV=window.PLOTLYENV || {};\n",
       "                    \n",
       "                if (document.getElementById(\"bfa272ca-7d87-416c-8d99-c410b95a769b\")) {\n",
       "                    Plotly.newPlot(\n",
       "                        'bfa272ca-7d87-416c-8d99-c410b95a769b',\n",
       "                        [{\"alignmentgroup\": \"True\", \"hovertemplate\": \"x=%{x}<br>y=%{y}<extra></extra>\", \"legendgroup\": \"\", \"marker\": {\"color\": \"#636efa\"}, \"name\": \"\", \"offsetgroup\": \"\", \"orientation\": \"h\", \"showlegend\": false, \"textposition\": \"auto\", \"type\": \"bar\", \"x\": [0.8290080763251108, 0.05725873712650026, 0.04674191925492286, 0.03591913081383685, 0.0330464373682575, 0.03255586082493956, 0.030134979114988067, 0.027964511404224617, 0.02577438496283116, 0.020155588754775838, 0.017928178507878315, 0.016686443959132047, 0.01645716315050202, 0.01608485331703097, 0.015765477872770727, 0.015486252826285728, 0.015353112325437304, 0.01475395871934443, 0.01473912152016975, 0.014020479784961707, 0.013395921797198873, 0.01335682271152322, 0.01334801596218565, 0.013134109140723334, 0.012197891622750782, 0.011725923114691013, 0.011382861943902301, 0.011345958926969444, 0.011217762907980041, 0.010998505933250236, 0.010646093593222538, 0.010430177327182747, 0.009704844777661783, 0.009524262873878774, 0.009491351510385864, 0.009374342334466873, 0.009197583863772067, 0.009040287694017565, 0.008834967162638487, 0.00864516619103674], \"xaxis\": \"x\", \"y\": [\"mental\", \"worse\", \"bad\", \"sure\", \"suicidal\", \"physical\", \"scared\", \"different\", \"severe\", \"past\", \"bipolar\", \"medical\", \"open\", \"social\", \"professional\", \"worried\", \"able\", \"free\", \"similar\", \"short\", \"long\", \"difficult\", \"personal\", \"possible\", \"major\", \"aware\", \"current\", \"helpful\", \"interested\", \"multiple\", \"new\", \"old\", \"emotional\", \"ill\", \"curious\", \"clear\", \"important\", \"specific\", \"strong\", \"wrong\"], \"yaxis\": \"y\"}],\n",
       "                        {\"barmode\": \"relative\", \"height\": 1000, \"legend\": {\"tracegroupgap\": 0}, \"margin\": {\"t\": 60}, \"template\": {\"data\": {\"bar\": [{\"error_x\": {\"color\": \"#2a3f5f\"}, \"error_y\": {\"color\": \"#2a3f5f\"}, \"marker\": {\"line\": {\"color\": \"#E5ECF6\", \"width\": 0.5}}, \"type\": \"bar\"}], \"barpolar\": [{\"marker\": {\"line\": {\"color\": \"#E5ECF6\", \"width\": 0.5}}, \"type\": \"barpolar\"}], \"carpet\": [{\"aaxis\": {\"endlinecolor\": \"#2a3f5f\", \"gridcolor\": \"white\", \"linecolor\": \"white\", \"minorgridcolor\": \"white\", \"startlinecolor\": \"#2a3f5f\"}, \"baxis\": {\"endlinecolor\": \"#2a3f5f\", \"gridcolor\": \"white\", \"linecolor\": \"white\", \"minorgridcolor\": \"white\", \"startlinecolor\": \"#2a3f5f\"}, \"type\": \"carpet\"}], \"choropleth\": [{\"colorbar\": {\"outlinewidth\": 0, \"ticks\": \"\"}, \"type\": \"choropleth\"}], \"contour\": [{\"colorbar\": {\"outlinewidth\": 0, \"ticks\": \"\"}, \"colorscale\": [[0.0, \"#0d0887\"], [0.1111111111111111, \"#46039f\"], [0.2222222222222222, \"#7201a8\"], [0.3333333333333333, \"#9c179e\"], [0.4444444444444444, \"#bd3786\"], [0.5555555555555556, \"#d8576b\"], [0.6666666666666666, \"#ed7953\"], [0.7777777777777778, \"#fb9f3a\"], [0.8888888888888888, \"#fdca26\"], [1.0, \"#f0f921\"]], \"type\": \"contour\"}], \"contourcarpet\": [{\"colorbar\": {\"outlinewidth\": 0, \"ticks\": \"\"}, \"type\": \"contourcarpet\"}], \"heatmap\": [{\"colorbar\": {\"outlinewidth\": 0, \"ticks\": \"\"}, \"colorscale\": [[0.0, \"#0d0887\"], [0.1111111111111111, \"#46039f\"], [0.2222222222222222, \"#7201a8\"], [0.3333333333333333, \"#9c179e\"], [0.4444444444444444, \"#bd3786\"], [0.5555555555555556, \"#d8576b\"], [0.6666666666666666, \"#ed7953\"], [0.7777777777777778, \"#fb9f3a\"], [0.8888888888888888, \"#fdca26\"], [1.0, \"#f0f921\"]], \"type\": \"heatmap\"}], \"heatmapgl\": [{\"colorbar\": {\"outlinewidth\": 0, \"ticks\": \"\"}, \"colorscale\": [[0.0, \"#0d0887\"], [0.1111111111111111, \"#46039f\"], [0.2222222222222222, \"#7201a8\"], [0.3333333333333333, \"#9c179e\"], [0.4444444444444444, \"#bd3786\"], [0.5555555555555556, \"#d8576b\"], [0.6666666666666666, \"#ed7953\"], [0.7777777777777778, \"#fb9f3a\"], [0.8888888888888888, \"#fdca26\"], [1.0, \"#f0f921\"]], \"type\": \"heatmapgl\"}], \"histogram\": [{\"marker\": {\"colorbar\": {\"outlinewidth\": 0, \"ticks\": \"\"}}, \"type\": \"histogram\"}], \"histogram2d\": [{\"colorbar\": {\"outlinewidth\": 0, \"ticks\": \"\"}, \"colorscale\": [[0.0, \"#0d0887\"], [0.1111111111111111, \"#46039f\"], [0.2222222222222222, \"#7201a8\"], [0.3333333333333333, \"#9c179e\"], [0.4444444444444444, \"#bd3786\"], [0.5555555555555556, \"#d8576b\"], [0.6666666666666666, \"#ed7953\"], [0.7777777777777778, \"#fb9f3a\"], [0.8888888888888888, \"#fdca26\"], [1.0, \"#f0f921\"]], \"type\": \"histogram2d\"}], \"histogram2dcontour\": [{\"colorbar\": {\"outlinewidth\": 0, \"ticks\": \"\"}, \"colorscale\": [[0.0, \"#0d0887\"], [0.1111111111111111, \"#46039f\"], [0.2222222222222222, \"#7201a8\"], [0.3333333333333333, \"#9c179e\"], [0.4444444444444444, \"#bd3786\"], [0.5555555555555556, \"#d8576b\"], [0.6666666666666666, \"#ed7953\"], [0.7777777777777778, \"#fb9f3a\"], [0.8888888888888888, \"#fdca26\"], [1.0, \"#f0f921\"]], \"type\": \"histogram2dcontour\"}], \"mesh3d\": [{\"colorbar\": {\"outlinewidth\": 0, \"ticks\": \"\"}, \"type\": \"mesh3d\"}], \"parcoords\": [{\"line\": {\"colorbar\": {\"outlinewidth\": 0, \"ticks\": \"\"}}, \"type\": \"parcoords\"}], \"pie\": [{\"automargin\": true, \"type\": \"pie\"}], \"scatter\": [{\"marker\": {\"colorbar\": {\"outlinewidth\": 0, \"ticks\": \"\"}}, \"type\": \"scatter\"}], \"scatter3d\": [{\"line\": {\"colorbar\": {\"outlinewidth\": 0, \"ticks\": \"\"}}, \"marker\": {\"colorbar\": {\"outlinewidth\": 0, \"ticks\": \"\"}}, \"type\": \"scatter3d\"}], \"scattercarpet\": [{\"marker\": {\"colorbar\": {\"outlinewidth\": 0, \"ticks\": \"\"}}, \"type\": \"scattercarpet\"}], \"scattergeo\": [{\"marker\": {\"colorbar\": {\"outlinewidth\": 0, \"ticks\": \"\"}}, \"type\": \"scattergeo\"}], \"scattergl\": [{\"marker\": {\"colorbar\": {\"outlinewidth\": 0, \"ticks\": \"\"}}, \"type\": \"scattergl\"}], \"scattermapbox\": [{\"marker\": {\"colorbar\": {\"outlinewidth\": 0, \"ticks\": \"\"}}, \"type\": \"scattermapbox\"}], \"scatterpolar\": [{\"marker\": {\"colorbar\": {\"outlinewidth\": 0, \"ticks\": \"\"}}, \"type\": \"scatterpolar\"}], \"scatterpolargl\": [{\"marker\": {\"colorbar\": {\"outlinewidth\": 0, \"ticks\": \"\"}}, \"type\": \"scatterpolargl\"}], \"scatterternary\": [{\"marker\": {\"colorbar\": {\"outlinewidth\": 0, \"ticks\": \"\"}}, \"type\": \"scatterternary\"}], \"surface\": [{\"colorbar\": {\"outlinewidth\": 0, \"ticks\": \"\"}, \"colorscale\": [[0.0, \"#0d0887\"], [0.1111111111111111, \"#46039f\"], [0.2222222222222222, \"#7201a8\"], [0.3333333333333333, \"#9c179e\"], [0.4444444444444444, \"#bd3786\"], [0.5555555555555556, \"#d8576b\"], [0.6666666666666666, \"#ed7953\"], [0.7777777777777778, \"#fb9f3a\"], [0.8888888888888888, \"#fdca26\"], [1.0, \"#f0f921\"]], \"type\": \"surface\"}], \"table\": [{\"cells\": {\"fill\": {\"color\": \"#EBF0F8\"}, \"line\": {\"color\": \"white\"}}, \"header\": {\"fill\": {\"color\": \"#C8D4E3\"}, \"line\": {\"color\": \"white\"}}, \"type\": \"table\"}]}, \"layout\": {\"annotationdefaults\": {\"arrowcolor\": \"#2a3f5f\", \"arrowhead\": 0, \"arrowwidth\": 1}, \"coloraxis\": {\"colorbar\": {\"outlinewidth\": 0, \"ticks\": \"\"}}, \"colorscale\": {\"diverging\": [[0, \"#8e0152\"], [0.1, \"#c51b7d\"], [0.2, \"#de77ae\"], [0.3, \"#f1b6da\"], [0.4, \"#fde0ef\"], [0.5, \"#f7f7f7\"], [0.6, \"#e6f5d0\"], [0.7, \"#b8e186\"], [0.8, \"#7fbc41\"], [0.9, \"#4d9221\"], [1, \"#276419\"]], \"sequential\": [[0.0, \"#0d0887\"], [0.1111111111111111, \"#46039f\"], [0.2222222222222222, \"#7201a8\"], [0.3333333333333333, \"#9c179e\"], [0.4444444444444444, \"#bd3786\"], [0.5555555555555556, \"#d8576b\"], [0.6666666666666666, \"#ed7953\"], [0.7777777777777778, \"#fb9f3a\"], [0.8888888888888888, \"#fdca26\"], [1.0, \"#f0f921\"]], \"sequentialminus\": [[0.0, \"#0d0887\"], [0.1111111111111111, \"#46039f\"], [0.2222222222222222, \"#7201a8\"], [0.3333333333333333, \"#9c179e\"], [0.4444444444444444, \"#bd3786\"], [0.5555555555555556, \"#d8576b\"], [0.6666666666666666, \"#ed7953\"], [0.7777777777777778, \"#fb9f3a\"], [0.8888888888888888, \"#fdca26\"], [1.0, \"#f0f921\"]]}, \"colorway\": [\"#636efa\", \"#EF553B\", \"#00cc96\", \"#ab63fa\", \"#FFA15A\", \"#19d3f3\", \"#FF6692\", \"#B6E880\", \"#FF97FF\", \"#FECB52\"], \"font\": {\"color\": \"#2a3f5f\"}, \"geo\": {\"bgcolor\": \"white\", \"lakecolor\": \"white\", \"landcolor\": \"#E5ECF6\", \"showlakes\": true, \"showland\": true, \"subunitcolor\": \"white\"}, \"hoverlabel\": {\"align\": \"left\"}, \"hovermode\": \"closest\", \"mapbox\": {\"style\": \"light\"}, \"paper_bgcolor\": \"white\", \"plot_bgcolor\": \"#E5ECF6\", \"polar\": {\"angularaxis\": {\"gridcolor\": \"white\", \"linecolor\": \"white\", \"ticks\": \"\"}, \"bgcolor\": \"#E5ECF6\", \"radialaxis\": {\"gridcolor\": \"white\", \"linecolor\": \"white\", \"ticks\": \"\"}}, \"scene\": {\"xaxis\": {\"backgroundcolor\": \"#E5ECF6\", \"gridcolor\": \"white\", \"gridwidth\": 2, \"linecolor\": \"white\", \"showbackground\": true, \"ticks\": \"\", \"zerolinecolor\": \"white\"}, \"yaxis\": {\"backgroundcolor\": \"#E5ECF6\", \"gridcolor\": \"white\", \"gridwidth\": 2, \"linecolor\": \"white\", \"showbackground\": true, \"ticks\": \"\", \"zerolinecolor\": \"white\"}, \"zaxis\": {\"backgroundcolor\": \"#E5ECF6\", \"gridcolor\": \"white\", \"gridwidth\": 2, \"linecolor\": \"white\", \"showbackground\": true, \"ticks\": \"\", \"zerolinecolor\": \"white\"}}, \"shapedefaults\": {\"line\": {\"color\": \"#2a3f5f\"}}, \"ternary\": {\"aaxis\": {\"gridcolor\": \"white\", \"linecolor\": \"white\", \"ticks\": \"\"}, \"baxis\": {\"gridcolor\": \"white\", \"linecolor\": \"white\", \"ticks\": \"\"}, \"bgcolor\": \"#E5ECF6\", \"caxis\": {\"gridcolor\": \"white\", \"linecolor\": \"white\", \"ticks\": \"\"}}, \"title\": {\"x\": 0.05}, \"xaxis\": {\"automargin\": true, \"gridcolor\": \"white\", \"linecolor\": \"white\", \"ticks\": \"\", \"title\": {\"standoff\": 15}, \"zerolinecolor\": \"white\", \"zerolinewidth\": 2}, \"yaxis\": {\"automargin\": true, \"gridcolor\": \"white\", \"linecolor\": \"white\", \"ticks\": \"\", \"title\": {\"standoff\": 15}, \"zerolinecolor\": \"white\", \"zerolinewidth\": 2}}}, \"width\": 500, \"xaxis\": {\"anchor\": \"y\", \"domain\": [0.0, 1.0], \"title\": {\"text\": \"x\"}}, \"yaxis\": {\"anchor\": \"x\", \"domain\": [0.0, 1.0], \"title\": {\"text\": \"y\"}}},\n",
       "                        {\"responsive\": true}\n",
       "                    ).then(function(){\n",
       "                            \n",
       "var gd = document.getElementById('bfa272ca-7d87-416c-8d99-c410b95a769b');\n",
       "var x = new MutationObserver(function (mutations, observer) {{\n",
       "        var display = window.getComputedStyle(gd).display;\n",
       "        if (!display || display === 'none') {{\n",
       "            console.log([gd, 'removed!']);\n",
       "            Plotly.purge(gd);\n",
       "            observer.disconnect();\n",
       "        }}\n",
       "}});\n",
       "\n",
       "// Listen for the removal of the full notebook cells\n",
       "var notebookContainer = gd.closest('#notebook-container');\n",
       "if (notebookContainer) {{\n",
       "    x.observe(notebookContainer, {childList: true});\n",
       "}}\n",
       "\n",
       "// Listen for the clearing of the current output cell\n",
       "var outputEl = gd.closest('.output');\n",
       "if (outputEl) {{\n",
       "    x.observe(outputEl, {childList: true});\n",
       "}}\n",
       "\n",
       "                        })\n",
       "                };\n",
       "                });\n",
       "            </script>\n",
       "        </div>"
      ]
     },
     "metadata": {},
     "output_type": "display_data"
    }
   ],
   "source": [
    "plot_topics(lsa, topic=1, num_words=40)"
   ]
  },
  {
   "cell_type": "code",
   "execution_count": 17,
   "metadata": {},
   "outputs": [],
   "source": [
    "nmf = NMF(10, alpha=.2, l1_ratio=.5, random_state=0)\n",
    "doc_topic = nmf.fit_transform(word_vect)"
   ]
  },
  {
   "cell_type": "code",
   "execution_count": 24,
   "metadata": {},
   "outputs": [
    {
     "data": {
      "application/vnd.plotly.v1+json": {
       "config": {
        "plotlyServerURL": "https://plot.ly"
       },
       "data": [
        {
         "alignmentgroup": "True",
         "hovertemplate": "x=%{x}<br>y=%{y}<extra></extra>",
         "legendgroup": "",
         "marker": {
          "color": "#636efa"
         },
         "name": "",
         "offsetgroup": "",
         "orientation": "h",
         "showlegend": false,
         "textposition": "auto",
         "type": "bar",
         "x": [
          9.410018146993535,
          0.26374082484255346,
          0.13069491649960313,
          0.11991959993476216,
          0.11516472915975753,
          0.0985132492611945,
          0.090686223149578,
          0.08972322854388792,
          0.0840624274188601,
          0.08377203052780882,
          0.08344112398750864,
          0.08291668102286756,
          0.0800289106418197,
          0.07968817010593944,
          0.07865458091023773,
          0.0755376851545054,
          0.07413993326778769,
          0.07394832764263357,
          0.07321392977341105,
          0.06792713064107253,
          0.06694652989315845,
          0.0615041873773558,
          0.0586299814497102,
          0.05853414646293874,
          0.05304687437454535,
          0.050097344308698916,
          0.04940371853487196,
          0.049242486060731436,
          0.049136008496108864,
          0.04828547309069682,
          0.046184394630504,
          0.045743277713287726,
          0.04467915533027993,
          0.04130086074782719,
          0.04123321439196113,
          0.03959784677486098,
          0.03947897194352738,
          0.03942208073204855,
          0.03920675906820804,
          0.03678592901167785,
          0.03632594509010515,
          0.03551951491877064,
          0.03280516086093025,
          0.03222966415808256,
          0.032112034905189685,
          0.03188658396484039,
          0.03177067702797182,
          0.030823670494403082,
          0.03012123103146166,
          0.029620932661394442
         ],
         "xaxis": "x",
         "y": [
          "better",
          "dead",
          "alive",
          "fucking",
          "worth",
          "sorry",
          "numb",
          "horrible",
          "proud",
          "okay",
          "sick",
          "hopeless",
          "free",
          "worthless",
          "suicidal",
          "miserable",
          "constant",
          "worst",
          "nice",
          "depressive",
          "shitty",
          "toxic",
          "pointless",
          "lonely",
          "easy",
          "stronger",
          "selfish",
          "late",
          "ready",
          "strong",
          "willing",
          "happier",
          "terrible",
          "possible",
          "perfect",
          "amazing",
          "healthy",
          "easier",
          "close",
          "dark",
          "useless",
          "fuck",
          "glad",
          "heavy",
          "low",
          "motivated",
          "right",
          "exhausting",
          "second",
          "fine"
         ],
         "yaxis": "y"
        }
       ],
       "layout": {
        "barmode": "relative",
        "height": 1000,
        "legend": {
         "tracegroupgap": 0
        },
        "margin": {
         "t": 60
        },
        "template": {
         "data": {
          "bar": [
           {
            "error_x": {
             "color": "#2a3f5f"
            },
            "error_y": {
             "color": "#2a3f5f"
            },
            "marker": {
             "line": {
              "color": "#E5ECF6",
              "width": 0.5
             }
            },
            "type": "bar"
           }
          ],
          "barpolar": [
           {
            "marker": {
             "line": {
              "color": "#E5ECF6",
              "width": 0.5
             }
            },
            "type": "barpolar"
           }
          ],
          "carpet": [
           {
            "aaxis": {
             "endlinecolor": "#2a3f5f",
             "gridcolor": "white",
             "linecolor": "white",
             "minorgridcolor": "white",
             "startlinecolor": "#2a3f5f"
            },
            "baxis": {
             "endlinecolor": "#2a3f5f",
             "gridcolor": "white",
             "linecolor": "white",
             "minorgridcolor": "white",
             "startlinecolor": "#2a3f5f"
            },
            "type": "carpet"
           }
          ],
          "choropleth": [
           {
            "colorbar": {
             "outlinewidth": 0,
             "ticks": ""
            },
            "type": "choropleth"
           }
          ],
          "contour": [
           {
            "colorbar": {
             "outlinewidth": 0,
             "ticks": ""
            },
            "colorscale": [
             [
              0,
              "#0d0887"
             ],
             [
              0.1111111111111111,
              "#46039f"
             ],
             [
              0.2222222222222222,
              "#7201a8"
             ],
             [
              0.3333333333333333,
              "#9c179e"
             ],
             [
              0.4444444444444444,
              "#bd3786"
             ],
             [
              0.5555555555555556,
              "#d8576b"
             ],
             [
              0.6666666666666666,
              "#ed7953"
             ],
             [
              0.7777777777777778,
              "#fb9f3a"
             ],
             [
              0.8888888888888888,
              "#fdca26"
             ],
             [
              1,
              "#f0f921"
             ]
            ],
            "type": "contour"
           }
          ],
          "contourcarpet": [
           {
            "colorbar": {
             "outlinewidth": 0,
             "ticks": ""
            },
            "type": "contourcarpet"
           }
          ],
          "heatmap": [
           {
            "colorbar": {
             "outlinewidth": 0,
             "ticks": ""
            },
            "colorscale": [
             [
              0,
              "#0d0887"
             ],
             [
              0.1111111111111111,
              "#46039f"
             ],
             [
              0.2222222222222222,
              "#7201a8"
             ],
             [
              0.3333333333333333,
              "#9c179e"
             ],
             [
              0.4444444444444444,
              "#bd3786"
             ],
             [
              0.5555555555555556,
              "#d8576b"
             ],
             [
              0.6666666666666666,
              "#ed7953"
             ],
             [
              0.7777777777777778,
              "#fb9f3a"
             ],
             [
              0.8888888888888888,
              "#fdca26"
             ],
             [
              1,
              "#f0f921"
             ]
            ],
            "type": "heatmap"
           }
          ],
          "heatmapgl": [
           {
            "colorbar": {
             "outlinewidth": 0,
             "ticks": ""
            },
            "colorscale": [
             [
              0,
              "#0d0887"
             ],
             [
              0.1111111111111111,
              "#46039f"
             ],
             [
              0.2222222222222222,
              "#7201a8"
             ],
             [
              0.3333333333333333,
              "#9c179e"
             ],
             [
              0.4444444444444444,
              "#bd3786"
             ],
             [
              0.5555555555555556,
              "#d8576b"
             ],
             [
              0.6666666666666666,
              "#ed7953"
             ],
             [
              0.7777777777777778,
              "#fb9f3a"
             ],
             [
              0.8888888888888888,
              "#fdca26"
             ],
             [
              1,
              "#f0f921"
             ]
            ],
            "type": "heatmapgl"
           }
          ],
          "histogram": [
           {
            "marker": {
             "colorbar": {
              "outlinewidth": 0,
              "ticks": ""
             }
            },
            "type": "histogram"
           }
          ],
          "histogram2d": [
           {
            "colorbar": {
             "outlinewidth": 0,
             "ticks": ""
            },
            "colorscale": [
             [
              0,
              "#0d0887"
             ],
             [
              0.1111111111111111,
              "#46039f"
             ],
             [
              0.2222222222222222,
              "#7201a8"
             ],
             [
              0.3333333333333333,
              "#9c179e"
             ],
             [
              0.4444444444444444,
              "#bd3786"
             ],
             [
              0.5555555555555556,
              "#d8576b"
             ],
             [
              0.6666666666666666,
              "#ed7953"
             ],
             [
              0.7777777777777778,
              "#fb9f3a"
             ],
             [
              0.8888888888888888,
              "#fdca26"
             ],
             [
              1,
              "#f0f921"
             ]
            ],
            "type": "histogram2d"
           }
          ],
          "histogram2dcontour": [
           {
            "colorbar": {
             "outlinewidth": 0,
             "ticks": ""
            },
            "colorscale": [
             [
              0,
              "#0d0887"
             ],
             [
              0.1111111111111111,
              "#46039f"
             ],
             [
              0.2222222222222222,
              "#7201a8"
             ],
             [
              0.3333333333333333,
              "#9c179e"
             ],
             [
              0.4444444444444444,
              "#bd3786"
             ],
             [
              0.5555555555555556,
              "#d8576b"
             ],
             [
              0.6666666666666666,
              "#ed7953"
             ],
             [
              0.7777777777777778,
              "#fb9f3a"
             ],
             [
              0.8888888888888888,
              "#fdca26"
             ],
             [
              1,
              "#f0f921"
             ]
            ],
            "type": "histogram2dcontour"
           }
          ],
          "mesh3d": [
           {
            "colorbar": {
             "outlinewidth": 0,
             "ticks": ""
            },
            "type": "mesh3d"
           }
          ],
          "parcoords": [
           {
            "line": {
             "colorbar": {
              "outlinewidth": 0,
              "ticks": ""
             }
            },
            "type": "parcoords"
           }
          ],
          "pie": [
           {
            "automargin": true,
            "type": "pie"
           }
          ],
          "scatter": [
           {
            "marker": {
             "colorbar": {
              "outlinewidth": 0,
              "ticks": ""
             }
            },
            "type": "scatter"
           }
          ],
          "scatter3d": [
           {
            "line": {
             "colorbar": {
              "outlinewidth": 0,
              "ticks": ""
             }
            },
            "marker": {
             "colorbar": {
              "outlinewidth": 0,
              "ticks": ""
             }
            },
            "type": "scatter3d"
           }
          ],
          "scattercarpet": [
           {
            "marker": {
             "colorbar": {
              "outlinewidth": 0,
              "ticks": ""
             }
            },
            "type": "scattercarpet"
           }
          ],
          "scattergeo": [
           {
            "marker": {
             "colorbar": {
              "outlinewidth": 0,
              "ticks": ""
             }
            },
            "type": "scattergeo"
           }
          ],
          "scattergl": [
           {
            "marker": {
             "colorbar": {
              "outlinewidth": 0,
              "ticks": ""
             }
            },
            "type": "scattergl"
           }
          ],
          "scattermapbox": [
           {
            "marker": {
             "colorbar": {
              "outlinewidth": 0,
              "ticks": ""
             }
            },
            "type": "scattermapbox"
           }
          ],
          "scatterpolar": [
           {
            "marker": {
             "colorbar": {
              "outlinewidth": 0,
              "ticks": ""
             }
            },
            "type": "scatterpolar"
           }
          ],
          "scatterpolargl": [
           {
            "marker": {
             "colorbar": {
              "outlinewidth": 0,
              "ticks": ""
             }
            },
            "type": "scatterpolargl"
           }
          ],
          "scatterternary": [
           {
            "marker": {
             "colorbar": {
              "outlinewidth": 0,
              "ticks": ""
             }
            },
            "type": "scatterternary"
           }
          ],
          "surface": [
           {
            "colorbar": {
             "outlinewidth": 0,
             "ticks": ""
            },
            "colorscale": [
             [
              0,
              "#0d0887"
             ],
             [
              0.1111111111111111,
              "#46039f"
             ],
             [
              0.2222222222222222,
              "#7201a8"
             ],
             [
              0.3333333333333333,
              "#9c179e"
             ],
             [
              0.4444444444444444,
              "#bd3786"
             ],
             [
              0.5555555555555556,
              "#d8576b"
             ],
             [
              0.6666666666666666,
              "#ed7953"
             ],
             [
              0.7777777777777778,
              "#fb9f3a"
             ],
             [
              0.8888888888888888,
              "#fdca26"
             ],
             [
              1,
              "#f0f921"
             ]
            ],
            "type": "surface"
           }
          ],
          "table": [
           {
            "cells": {
             "fill": {
              "color": "#EBF0F8"
             },
             "line": {
              "color": "white"
             }
            },
            "header": {
             "fill": {
              "color": "#C8D4E3"
             },
             "line": {
              "color": "white"
             }
            },
            "type": "table"
           }
          ]
         },
         "layout": {
          "annotationdefaults": {
           "arrowcolor": "#2a3f5f",
           "arrowhead": 0,
           "arrowwidth": 1
          },
          "coloraxis": {
           "colorbar": {
            "outlinewidth": 0,
            "ticks": ""
           }
          },
          "colorscale": {
           "diverging": [
            [
             0,
             "#8e0152"
            ],
            [
             0.1,
             "#c51b7d"
            ],
            [
             0.2,
             "#de77ae"
            ],
            [
             0.3,
             "#f1b6da"
            ],
            [
             0.4,
             "#fde0ef"
            ],
            [
             0.5,
             "#f7f7f7"
            ],
            [
             0.6,
             "#e6f5d0"
            ],
            [
             0.7,
             "#b8e186"
            ],
            [
             0.8,
             "#7fbc41"
            ],
            [
             0.9,
             "#4d9221"
            ],
            [
             1,
             "#276419"
            ]
           ],
           "sequential": [
            [
             0,
             "#0d0887"
            ],
            [
             0.1111111111111111,
             "#46039f"
            ],
            [
             0.2222222222222222,
             "#7201a8"
            ],
            [
             0.3333333333333333,
             "#9c179e"
            ],
            [
             0.4444444444444444,
             "#bd3786"
            ],
            [
             0.5555555555555556,
             "#d8576b"
            ],
            [
             0.6666666666666666,
             "#ed7953"
            ],
            [
             0.7777777777777778,
             "#fb9f3a"
            ],
            [
             0.8888888888888888,
             "#fdca26"
            ],
            [
             1,
             "#f0f921"
            ]
           ],
           "sequentialminus": [
            [
             0,
             "#0d0887"
            ],
            [
             0.1111111111111111,
             "#46039f"
            ],
            [
             0.2222222222222222,
             "#7201a8"
            ],
            [
             0.3333333333333333,
             "#9c179e"
            ],
            [
             0.4444444444444444,
             "#bd3786"
            ],
            [
             0.5555555555555556,
             "#d8576b"
            ],
            [
             0.6666666666666666,
             "#ed7953"
            ],
            [
             0.7777777777777778,
             "#fb9f3a"
            ],
            [
             0.8888888888888888,
             "#fdca26"
            ],
            [
             1,
             "#f0f921"
            ]
           ]
          },
          "colorway": [
           "#636efa",
           "#EF553B",
           "#00cc96",
           "#ab63fa",
           "#FFA15A",
           "#19d3f3",
           "#FF6692",
           "#B6E880",
           "#FF97FF",
           "#FECB52"
          ],
          "font": {
           "color": "#2a3f5f"
          },
          "geo": {
           "bgcolor": "white",
           "lakecolor": "white",
           "landcolor": "#E5ECF6",
           "showlakes": true,
           "showland": true,
           "subunitcolor": "white"
          },
          "hoverlabel": {
           "align": "left"
          },
          "hovermode": "closest",
          "mapbox": {
           "style": "light"
          },
          "paper_bgcolor": "white",
          "plot_bgcolor": "#E5ECF6",
          "polar": {
           "angularaxis": {
            "gridcolor": "white",
            "linecolor": "white",
            "ticks": ""
           },
           "bgcolor": "#E5ECF6",
           "radialaxis": {
            "gridcolor": "white",
            "linecolor": "white",
            "ticks": ""
           }
          },
          "scene": {
           "xaxis": {
            "backgroundcolor": "#E5ECF6",
            "gridcolor": "white",
            "gridwidth": 2,
            "linecolor": "white",
            "showbackground": true,
            "ticks": "",
            "zerolinecolor": "white"
           },
           "yaxis": {
            "backgroundcolor": "#E5ECF6",
            "gridcolor": "white",
            "gridwidth": 2,
            "linecolor": "white",
            "showbackground": true,
            "ticks": "",
            "zerolinecolor": "white"
           },
           "zaxis": {
            "backgroundcolor": "#E5ECF6",
            "gridcolor": "white",
            "gridwidth": 2,
            "linecolor": "white",
            "showbackground": true,
            "ticks": "",
            "zerolinecolor": "white"
           }
          },
          "shapedefaults": {
           "line": {
            "color": "#2a3f5f"
           }
          },
          "ternary": {
           "aaxis": {
            "gridcolor": "white",
            "linecolor": "white",
            "ticks": ""
           },
           "baxis": {
            "gridcolor": "white",
            "linecolor": "white",
            "ticks": ""
           },
           "bgcolor": "#E5ECF6",
           "caxis": {
            "gridcolor": "white",
            "linecolor": "white",
            "ticks": ""
           }
          },
          "title": {
           "x": 0.05
          },
          "xaxis": {
           "automargin": true,
           "gridcolor": "white",
           "linecolor": "white",
           "ticks": "",
           "title": {
            "standoff": 15
           },
           "zerolinecolor": "white",
           "zerolinewidth": 2
          },
          "yaxis": {
           "automargin": true,
           "gridcolor": "white",
           "linecolor": "white",
           "ticks": "",
           "title": {
            "standoff": 15
           },
           "zerolinecolor": "white",
           "zerolinewidth": 2
          }
         }
        },
        "width": 500,
        "xaxis": {
         "anchor": "y",
         "domain": [
          0,
          1
         ],
         "title": {
          "text": "x"
         }
        },
        "yaxis": {
         "anchor": "x",
         "domain": [
          0,
          1
         ],
         "title": {
          "text": "y"
         }
        }
       }
      },
      "text/html": [
       "<div>\n",
       "        \n",
       "        \n",
       "            <div id=\"005710ed-50c3-4483-9060-7cde0626df2b\" class=\"plotly-graph-div\" style=\"height:1000px; width:500px;\"></div>\n",
       "            <script type=\"text/javascript\">\n",
       "                require([\"plotly\"], function(Plotly) {\n",
       "                    window.PLOTLYENV=window.PLOTLYENV || {};\n",
       "                    \n",
       "                if (document.getElementById(\"005710ed-50c3-4483-9060-7cde0626df2b\")) {\n",
       "                    Plotly.newPlot(\n",
       "                        '005710ed-50c3-4483-9060-7cde0626df2b',\n",
       "                        [{\"alignmentgroup\": \"True\", \"hovertemplate\": \"x=%{x}<br>y=%{y}<extra></extra>\", \"legendgroup\": \"\", \"marker\": {\"color\": \"#636efa\"}, \"name\": \"\", \"offsetgroup\": \"\", \"orientation\": \"h\", \"showlegend\": false, \"textposition\": \"auto\", \"type\": \"bar\", \"x\": [9.410018146993535, 0.26374082484255346, 0.13069491649960313, 0.11991959993476216, 0.11516472915975753, 0.0985132492611945, 0.090686223149578, 0.08972322854388792, 0.0840624274188601, 0.08377203052780882, 0.08344112398750864, 0.08291668102286756, 0.0800289106418197, 0.07968817010593944, 0.07865458091023773, 0.0755376851545054, 0.07413993326778769, 0.07394832764263357, 0.07321392977341105, 0.06792713064107253, 0.06694652989315845, 0.0615041873773558, 0.0586299814497102, 0.05853414646293874, 0.05304687437454535, 0.050097344308698916, 0.04940371853487196, 0.049242486060731436, 0.049136008496108864, 0.04828547309069682, 0.046184394630504, 0.045743277713287726, 0.04467915533027993, 0.04130086074782719, 0.04123321439196113, 0.03959784677486098, 0.03947897194352738, 0.03942208073204855, 0.03920675906820804, 0.03678592901167785, 0.03632594509010515, 0.03551951491877064, 0.03280516086093025, 0.03222966415808256, 0.032112034905189685, 0.03188658396484039, 0.03177067702797182, 0.030823670494403082, 0.03012123103146166, 0.029620932661394442], \"xaxis\": \"x\", \"y\": [\"better\", \"dead\", \"alive\", \"fucking\", \"worth\", \"sorry\", \"numb\", \"horrible\", \"proud\", \"okay\", \"sick\", \"hopeless\", \"free\", \"worthless\", \"suicidal\", \"miserable\", \"constant\", \"worst\", \"nice\", \"depressive\", \"shitty\", \"toxic\", \"pointless\", \"lonely\", \"easy\", \"stronger\", \"selfish\", \"late\", \"ready\", \"strong\", \"willing\", \"happier\", \"terrible\", \"possible\", \"perfect\", \"amazing\", \"healthy\", \"easier\", \"close\", \"dark\", \"useless\", \"fuck\", \"glad\", \"heavy\", \"low\", \"motivated\", \"right\", \"exhausting\", \"second\", \"fine\"], \"yaxis\": \"y\"}],\n",
       "                        {\"barmode\": \"relative\", \"height\": 1000, \"legend\": {\"tracegroupgap\": 0}, \"margin\": {\"t\": 60}, \"template\": {\"data\": {\"bar\": [{\"error_x\": {\"color\": \"#2a3f5f\"}, \"error_y\": {\"color\": \"#2a3f5f\"}, \"marker\": {\"line\": {\"color\": \"#E5ECF6\", \"width\": 0.5}}, \"type\": \"bar\"}], \"barpolar\": [{\"marker\": {\"line\": {\"color\": \"#E5ECF6\", \"width\": 0.5}}, \"type\": \"barpolar\"}], \"carpet\": [{\"aaxis\": {\"endlinecolor\": \"#2a3f5f\", \"gridcolor\": \"white\", \"linecolor\": \"white\", \"minorgridcolor\": \"white\", \"startlinecolor\": \"#2a3f5f\"}, \"baxis\": {\"endlinecolor\": \"#2a3f5f\", \"gridcolor\": \"white\", \"linecolor\": \"white\", \"minorgridcolor\": \"white\", \"startlinecolor\": \"#2a3f5f\"}, \"type\": \"carpet\"}], \"choropleth\": [{\"colorbar\": {\"outlinewidth\": 0, \"ticks\": \"\"}, \"type\": \"choropleth\"}], \"contour\": [{\"colorbar\": {\"outlinewidth\": 0, \"ticks\": \"\"}, \"colorscale\": [[0.0, \"#0d0887\"], [0.1111111111111111, \"#46039f\"], [0.2222222222222222, \"#7201a8\"], [0.3333333333333333, \"#9c179e\"], [0.4444444444444444, \"#bd3786\"], [0.5555555555555556, \"#d8576b\"], [0.6666666666666666, \"#ed7953\"], [0.7777777777777778, \"#fb9f3a\"], [0.8888888888888888, \"#fdca26\"], [1.0, \"#f0f921\"]], \"type\": \"contour\"}], \"contourcarpet\": [{\"colorbar\": {\"outlinewidth\": 0, \"ticks\": \"\"}, \"type\": \"contourcarpet\"}], \"heatmap\": [{\"colorbar\": {\"outlinewidth\": 0, \"ticks\": \"\"}, \"colorscale\": [[0.0, \"#0d0887\"], [0.1111111111111111, \"#46039f\"], [0.2222222222222222, \"#7201a8\"], [0.3333333333333333, \"#9c179e\"], [0.4444444444444444, \"#bd3786\"], [0.5555555555555556, \"#d8576b\"], [0.6666666666666666, \"#ed7953\"], [0.7777777777777778, \"#fb9f3a\"], [0.8888888888888888, \"#fdca26\"], [1.0, \"#f0f921\"]], \"type\": \"heatmap\"}], \"heatmapgl\": [{\"colorbar\": {\"outlinewidth\": 0, \"ticks\": \"\"}, \"colorscale\": [[0.0, \"#0d0887\"], [0.1111111111111111, \"#46039f\"], [0.2222222222222222, \"#7201a8\"], [0.3333333333333333, \"#9c179e\"], [0.4444444444444444, \"#bd3786\"], [0.5555555555555556, \"#d8576b\"], [0.6666666666666666, \"#ed7953\"], [0.7777777777777778, \"#fb9f3a\"], [0.8888888888888888, \"#fdca26\"], [1.0, \"#f0f921\"]], \"type\": \"heatmapgl\"}], \"histogram\": [{\"marker\": {\"colorbar\": {\"outlinewidth\": 0, \"ticks\": \"\"}}, \"type\": \"histogram\"}], \"histogram2d\": [{\"colorbar\": {\"outlinewidth\": 0, \"ticks\": \"\"}, \"colorscale\": [[0.0, \"#0d0887\"], [0.1111111111111111, \"#46039f\"], [0.2222222222222222, \"#7201a8\"], [0.3333333333333333, \"#9c179e\"], [0.4444444444444444, \"#bd3786\"], [0.5555555555555556, \"#d8576b\"], [0.6666666666666666, \"#ed7953\"], [0.7777777777777778, \"#fb9f3a\"], [0.8888888888888888, \"#fdca26\"], [1.0, \"#f0f921\"]], \"type\": \"histogram2d\"}], \"histogram2dcontour\": [{\"colorbar\": {\"outlinewidth\": 0, \"ticks\": \"\"}, \"colorscale\": [[0.0, \"#0d0887\"], [0.1111111111111111, \"#46039f\"], [0.2222222222222222, \"#7201a8\"], [0.3333333333333333, \"#9c179e\"], [0.4444444444444444, \"#bd3786\"], [0.5555555555555556, \"#d8576b\"], [0.6666666666666666, \"#ed7953\"], [0.7777777777777778, \"#fb9f3a\"], [0.8888888888888888, \"#fdca26\"], [1.0, \"#f0f921\"]], \"type\": \"histogram2dcontour\"}], \"mesh3d\": [{\"colorbar\": {\"outlinewidth\": 0, \"ticks\": \"\"}, \"type\": \"mesh3d\"}], \"parcoords\": [{\"line\": {\"colorbar\": {\"outlinewidth\": 0, \"ticks\": \"\"}}, \"type\": \"parcoords\"}], \"pie\": [{\"automargin\": true, \"type\": \"pie\"}], \"scatter\": [{\"marker\": {\"colorbar\": {\"outlinewidth\": 0, \"ticks\": \"\"}}, \"type\": \"scatter\"}], \"scatter3d\": [{\"line\": {\"colorbar\": {\"outlinewidth\": 0, \"ticks\": \"\"}}, \"marker\": {\"colorbar\": {\"outlinewidth\": 0, \"ticks\": \"\"}}, \"type\": \"scatter3d\"}], \"scattercarpet\": [{\"marker\": {\"colorbar\": {\"outlinewidth\": 0, \"ticks\": \"\"}}, \"type\": \"scattercarpet\"}], \"scattergeo\": [{\"marker\": {\"colorbar\": {\"outlinewidth\": 0, \"ticks\": \"\"}}, \"type\": \"scattergeo\"}], \"scattergl\": [{\"marker\": {\"colorbar\": {\"outlinewidth\": 0, \"ticks\": \"\"}}, \"type\": \"scattergl\"}], \"scattermapbox\": [{\"marker\": {\"colorbar\": {\"outlinewidth\": 0, \"ticks\": \"\"}}, \"type\": \"scattermapbox\"}], \"scatterpolar\": [{\"marker\": {\"colorbar\": {\"outlinewidth\": 0, \"ticks\": \"\"}}, \"type\": \"scatterpolar\"}], \"scatterpolargl\": [{\"marker\": {\"colorbar\": {\"outlinewidth\": 0, \"ticks\": \"\"}}, \"type\": \"scatterpolargl\"}], \"scatterternary\": [{\"marker\": {\"colorbar\": {\"outlinewidth\": 0, \"ticks\": \"\"}}, \"type\": \"scatterternary\"}], \"surface\": [{\"colorbar\": {\"outlinewidth\": 0, \"ticks\": \"\"}, \"colorscale\": [[0.0, \"#0d0887\"], [0.1111111111111111, \"#46039f\"], [0.2222222222222222, \"#7201a8\"], [0.3333333333333333, \"#9c179e\"], [0.4444444444444444, \"#bd3786\"], [0.5555555555555556, \"#d8576b\"], [0.6666666666666666, \"#ed7953\"], [0.7777777777777778, \"#fb9f3a\"], [0.8888888888888888, \"#fdca26\"], [1.0, \"#f0f921\"]], \"type\": \"surface\"}], \"table\": [{\"cells\": {\"fill\": {\"color\": \"#EBF0F8\"}, \"line\": {\"color\": \"white\"}}, \"header\": {\"fill\": {\"color\": \"#C8D4E3\"}, \"line\": {\"color\": \"white\"}}, \"type\": \"table\"}]}, \"layout\": {\"annotationdefaults\": {\"arrowcolor\": \"#2a3f5f\", \"arrowhead\": 0, \"arrowwidth\": 1}, \"coloraxis\": {\"colorbar\": {\"outlinewidth\": 0, \"ticks\": \"\"}}, \"colorscale\": {\"diverging\": [[0, \"#8e0152\"], [0.1, \"#c51b7d\"], [0.2, \"#de77ae\"], [0.3, \"#f1b6da\"], [0.4, \"#fde0ef\"], [0.5, \"#f7f7f7\"], [0.6, \"#e6f5d0\"], [0.7, \"#b8e186\"], [0.8, \"#7fbc41\"], [0.9, \"#4d9221\"], [1, \"#276419\"]], \"sequential\": [[0.0, \"#0d0887\"], [0.1111111111111111, \"#46039f\"], [0.2222222222222222, \"#7201a8\"], [0.3333333333333333, \"#9c179e\"], [0.4444444444444444, \"#bd3786\"], [0.5555555555555556, \"#d8576b\"], [0.6666666666666666, \"#ed7953\"], [0.7777777777777778, \"#fb9f3a\"], [0.8888888888888888, \"#fdca26\"], [1.0, \"#f0f921\"]], \"sequentialminus\": [[0.0, \"#0d0887\"], [0.1111111111111111, \"#46039f\"], [0.2222222222222222, \"#7201a8\"], [0.3333333333333333, \"#9c179e\"], [0.4444444444444444, \"#bd3786\"], [0.5555555555555556, \"#d8576b\"], [0.6666666666666666, \"#ed7953\"], [0.7777777777777778, \"#fb9f3a\"], [0.8888888888888888, \"#fdca26\"], [1.0, \"#f0f921\"]]}, \"colorway\": [\"#636efa\", \"#EF553B\", \"#00cc96\", \"#ab63fa\", \"#FFA15A\", \"#19d3f3\", \"#FF6692\", \"#B6E880\", \"#FF97FF\", \"#FECB52\"], \"font\": {\"color\": \"#2a3f5f\"}, \"geo\": {\"bgcolor\": \"white\", \"lakecolor\": \"white\", \"landcolor\": \"#E5ECF6\", \"showlakes\": true, \"showland\": true, \"subunitcolor\": \"white\"}, \"hoverlabel\": {\"align\": \"left\"}, \"hovermode\": \"closest\", \"mapbox\": {\"style\": \"light\"}, \"paper_bgcolor\": \"white\", \"plot_bgcolor\": \"#E5ECF6\", \"polar\": {\"angularaxis\": {\"gridcolor\": \"white\", \"linecolor\": \"white\", \"ticks\": \"\"}, \"bgcolor\": \"#E5ECF6\", \"radialaxis\": {\"gridcolor\": \"white\", \"linecolor\": \"white\", \"ticks\": \"\"}}, \"scene\": {\"xaxis\": {\"backgroundcolor\": \"#E5ECF6\", \"gridcolor\": \"white\", \"gridwidth\": 2, \"linecolor\": \"white\", \"showbackground\": true, \"ticks\": \"\", \"zerolinecolor\": \"white\"}, \"yaxis\": {\"backgroundcolor\": \"#E5ECF6\", \"gridcolor\": \"white\", \"gridwidth\": 2, \"linecolor\": \"white\", \"showbackground\": true, \"ticks\": \"\", \"zerolinecolor\": \"white\"}, \"zaxis\": {\"backgroundcolor\": \"#E5ECF6\", \"gridcolor\": \"white\", \"gridwidth\": 2, \"linecolor\": \"white\", \"showbackground\": true, \"ticks\": \"\", \"zerolinecolor\": \"white\"}}, \"shapedefaults\": {\"line\": {\"color\": \"#2a3f5f\"}}, \"ternary\": {\"aaxis\": {\"gridcolor\": \"white\", \"linecolor\": \"white\", \"ticks\": \"\"}, \"baxis\": {\"gridcolor\": \"white\", \"linecolor\": \"white\", \"ticks\": \"\"}, \"bgcolor\": \"#E5ECF6\", \"caxis\": {\"gridcolor\": \"white\", \"linecolor\": \"white\", \"ticks\": \"\"}}, \"title\": {\"x\": 0.05}, \"xaxis\": {\"automargin\": true, \"gridcolor\": \"white\", \"linecolor\": \"white\", \"ticks\": \"\", \"title\": {\"standoff\": 15}, \"zerolinecolor\": \"white\", \"zerolinewidth\": 2}, \"yaxis\": {\"automargin\": true, \"gridcolor\": \"white\", \"linecolor\": \"white\", \"ticks\": \"\", \"title\": {\"standoff\": 15}, \"zerolinecolor\": \"white\", \"zerolinewidth\": 2}}}, \"width\": 500, \"xaxis\": {\"anchor\": \"y\", \"domain\": [0.0, 1.0], \"title\": {\"text\": \"x\"}}, \"yaxis\": {\"anchor\": \"x\", \"domain\": [0.0, 1.0], \"title\": {\"text\": \"y\"}}},\n",
       "                        {\"responsive\": true}\n",
       "                    ).then(function(){\n",
       "                            \n",
       "var gd = document.getElementById('005710ed-50c3-4483-9060-7cde0626df2b');\n",
       "var x = new MutationObserver(function (mutations, observer) {{\n",
       "        var display = window.getComputedStyle(gd).display;\n",
       "        if (!display || display === 'none') {{\n",
       "            console.log([gd, 'removed!']);\n",
       "            Plotly.purge(gd);\n",
       "            observer.disconnect();\n",
       "        }}\n",
       "}});\n",
       "\n",
       "// Listen for the removal of the full notebook cells\n",
       "var notebookContainer = gd.closest('#notebook-container');\n",
       "if (notebookContainer) {{\n",
       "    x.observe(notebookContainer, {childList: true});\n",
       "}}\n",
       "\n",
       "// Listen for the clearing of the current output cell\n",
       "var outputEl = gd.closest('.output');\n",
       "if (outputEl) {{\n",
       "    x.observe(outputEl, {childList: true});\n",
       "}}\n",
       "\n",
       "                        })\n",
       "                };\n",
       "                });\n",
       "            </script>\n",
       "        </div>"
      ]
     },
     "metadata": {},
     "output_type": "display_data"
    }
   ],
   "source": [
    "\n",
    "# for i in range(10):\n",
    "#     print('topic', i)\n",
    "plot_topics(nmf, topic=4, num_words=50)"
   ]
  },
  {
   "cell_type": "code",
   "execution_count": 25,
   "metadata": {},
   "outputs": [
    {
     "data": {
      "text/plain": [
       "LatentDirichletAllocation(n_components=20, random_state=0)"
      ]
     },
     "execution_count": 25,
     "metadata": {},
     "output_type": "execute_result"
    }
   ],
   "source": [
    "lda = LatentDirichletAllocation(n_components=20, random_state=0)\n",
    "lda.fit(word_vect)"
   ]
  },
  {
   "cell_type": "code",
   "execution_count": null,
   "metadata": {},
   "outputs": [],
   "source": [
    "import pyLDAvis\n",
    "import pyLDAvis.sklearn\n",
    "pyLDAvis.enable_notebook()\n",
    "\n",
    "pyLDAvis.sklearn.prepare(lda, np.matrix(word_vect), pipeline.vectorizer, mds='mmds')"
   ]
  },
  {
   "cell_type": "code",
   "execution_count": null,
   "metadata": {},
   "outputs": [],
   "source": []
  }
 ],
 "metadata": {
  "kernelspec": {
   "display_name": "Python 3",
   "language": "python",
   "name": "python3"
  },
  "language_info": {
   "codemirror_mode": {
    "name": "ipython",
    "version": 3
   },
   "file_extension": ".py",
   "mimetype": "text/x-python",
   "name": "python",
   "nbconvert_exporter": "python",
   "pygments_lexer": "ipython3",
   "version": "3.7.4"
  }
 },
 "nbformat": 4,
 "nbformat_minor": 4
}
